{
 "cells": [
  {
   "cell_type": "markdown",
   "metadata": {},
   "source": [
    "# Cleaning and investigating the data"
   ]
  },
  {
   "cell_type": "markdown",
   "metadata": {},
   "source": [
    "* Import the necessary libraries"
   ]
  },
  {
   "cell_type": "code",
   "execution_count": 103,
   "metadata": {},
   "outputs": [],
   "source": [
    "import itertools\n",
    "import numpy as np\n",
    "import pandas as pd \n",
    "from scipy import stats\n",
    "import matplotlib.pyplot as plt\n",
    "import seaborn as sns\n",
    "%matplotlib inline\n",
    "sns.set_style('ticks')\n",
    "\n",
    "import pickle\n",
    "\n",
    "from sklearn import metrics\n",
    "from sklearn.metrics import mean_squared_error, roc_curve, roc_auc_score, accuracy_score\n",
    "from sklearn.linear_model import LinearRegression\n",
    "from sklearn.model_selection import train_test_split\n",
    "from sklearn.preprocessing import PolynomialFeatures\n",
    "from sklearn.preprocessing import StandardScaler\n",
    "import statsmodels.api as sm\n",
    "from statsmodels.formula.api import ols\n",
    "\n",
    "from functions import *"
   ]
  },
  {
   "cell_type": "markdown",
   "metadata": {},
   "source": [
    "* Import the data"
   ]
  },
  {
   "cell_type": "code",
   "execution_count": 104,
   "metadata": {},
   "outputs": [
    {
     "data": {
      "text/html": [
       "<div>\n",
       "<style scoped>\n",
       "    .dataframe tbody tr th:only-of-type {\n",
       "        vertical-align: middle;\n",
       "    }\n",
       "\n",
       "    .dataframe tbody tr th {\n",
       "        vertical-align: top;\n",
       "    }\n",
       "\n",
       "    .dataframe thead th {\n",
       "        text-align: right;\n",
       "    }\n",
       "</style>\n",
       "<table border=\"1\" class=\"dataframe\">\n",
       "  <thead>\n",
       "    <tr style=\"text-align: right;\">\n",
       "      <th></th>\n",
       "      <th>url</th>\n",
       "      <th>timedelta</th>\n",
       "      <th>n_tokens_title</th>\n",
       "      <th>n_tokens_content</th>\n",
       "      <th>n_unique_tokens</th>\n",
       "      <th>n_non_stop_words</th>\n",
       "      <th>n_non_stop_unique_tokens</th>\n",
       "      <th>num_hrefs</th>\n",
       "      <th>num_self_hrefs</th>\n",
       "      <th>num_imgs</th>\n",
       "      <th>...</th>\n",
       "      <th>min_positive_polarity</th>\n",
       "      <th>max_positive_polarity</th>\n",
       "      <th>avg_negative_polarity</th>\n",
       "      <th>min_negative_polarity</th>\n",
       "      <th>max_negative_polarity</th>\n",
       "      <th>title_subjectivity</th>\n",
       "      <th>title_sentiment_polarity</th>\n",
       "      <th>abs_title_subjectivity</th>\n",
       "      <th>abs_title_sentiment_polarity</th>\n",
       "      <th>shares</th>\n",
       "    </tr>\n",
       "  </thead>\n",
       "  <tbody>\n",
       "    <tr>\n",
       "      <th>0</th>\n",
       "      <td>http://mashable.com/2013/01/07/amazon-instant-...</td>\n",
       "      <td>731.0</td>\n",
       "      <td>12.0</td>\n",
       "      <td>219.0</td>\n",
       "      <td>0.663594</td>\n",
       "      <td>1.0</td>\n",
       "      <td>0.815385</td>\n",
       "      <td>4.0</td>\n",
       "      <td>2.0</td>\n",
       "      <td>1.0</td>\n",
       "      <td>...</td>\n",
       "      <td>0.100000</td>\n",
       "      <td>0.7</td>\n",
       "      <td>-0.350000</td>\n",
       "      <td>-0.600</td>\n",
       "      <td>-0.200000</td>\n",
       "      <td>0.500000</td>\n",
       "      <td>-0.187500</td>\n",
       "      <td>0.000000</td>\n",
       "      <td>0.187500</td>\n",
       "      <td>593</td>\n",
       "    </tr>\n",
       "    <tr>\n",
       "      <th>1</th>\n",
       "      <td>http://mashable.com/2013/01/07/ap-samsung-spon...</td>\n",
       "      <td>731.0</td>\n",
       "      <td>9.0</td>\n",
       "      <td>255.0</td>\n",
       "      <td>0.604743</td>\n",
       "      <td>1.0</td>\n",
       "      <td>0.791946</td>\n",
       "      <td>3.0</td>\n",
       "      <td>1.0</td>\n",
       "      <td>1.0</td>\n",
       "      <td>...</td>\n",
       "      <td>0.033333</td>\n",
       "      <td>0.7</td>\n",
       "      <td>-0.118750</td>\n",
       "      <td>-0.125</td>\n",
       "      <td>-0.100000</td>\n",
       "      <td>0.000000</td>\n",
       "      <td>0.000000</td>\n",
       "      <td>0.500000</td>\n",
       "      <td>0.000000</td>\n",
       "      <td>711</td>\n",
       "    </tr>\n",
       "    <tr>\n",
       "      <th>2</th>\n",
       "      <td>http://mashable.com/2013/01/07/apple-40-billio...</td>\n",
       "      <td>731.0</td>\n",
       "      <td>9.0</td>\n",
       "      <td>211.0</td>\n",
       "      <td>0.575130</td>\n",
       "      <td>1.0</td>\n",
       "      <td>0.663866</td>\n",
       "      <td>3.0</td>\n",
       "      <td>1.0</td>\n",
       "      <td>1.0</td>\n",
       "      <td>...</td>\n",
       "      <td>0.100000</td>\n",
       "      <td>1.0</td>\n",
       "      <td>-0.466667</td>\n",
       "      <td>-0.800</td>\n",
       "      <td>-0.133333</td>\n",
       "      <td>0.000000</td>\n",
       "      <td>0.000000</td>\n",
       "      <td>0.500000</td>\n",
       "      <td>0.000000</td>\n",
       "      <td>1500</td>\n",
       "    </tr>\n",
       "    <tr>\n",
       "      <th>3</th>\n",
       "      <td>http://mashable.com/2013/01/07/astronaut-notre...</td>\n",
       "      <td>731.0</td>\n",
       "      <td>9.0</td>\n",
       "      <td>531.0</td>\n",
       "      <td>0.503788</td>\n",
       "      <td>1.0</td>\n",
       "      <td>0.665635</td>\n",
       "      <td>9.0</td>\n",
       "      <td>0.0</td>\n",
       "      <td>1.0</td>\n",
       "      <td>...</td>\n",
       "      <td>0.136364</td>\n",
       "      <td>0.8</td>\n",
       "      <td>-0.369697</td>\n",
       "      <td>-0.600</td>\n",
       "      <td>-0.166667</td>\n",
       "      <td>0.000000</td>\n",
       "      <td>0.000000</td>\n",
       "      <td>0.500000</td>\n",
       "      <td>0.000000</td>\n",
       "      <td>1200</td>\n",
       "    </tr>\n",
       "    <tr>\n",
       "      <th>4</th>\n",
       "      <td>http://mashable.com/2013/01/07/att-u-verse-apps/</td>\n",
       "      <td>731.0</td>\n",
       "      <td>13.0</td>\n",
       "      <td>1072.0</td>\n",
       "      <td>0.415646</td>\n",
       "      <td>1.0</td>\n",
       "      <td>0.540890</td>\n",
       "      <td>19.0</td>\n",
       "      <td>19.0</td>\n",
       "      <td>20.0</td>\n",
       "      <td>...</td>\n",
       "      <td>0.033333</td>\n",
       "      <td>1.0</td>\n",
       "      <td>-0.220192</td>\n",
       "      <td>-0.500</td>\n",
       "      <td>-0.050000</td>\n",
       "      <td>0.454545</td>\n",
       "      <td>0.136364</td>\n",
       "      <td>0.045455</td>\n",
       "      <td>0.136364</td>\n",
       "      <td>505</td>\n",
       "    </tr>\n",
       "  </tbody>\n",
       "</table>\n",
       "<p>5 rows × 61 columns</p>\n",
       "</div>"
      ],
      "text/plain": [
       "                                                 url   timedelta  \\\n",
       "0  http://mashable.com/2013/01/07/amazon-instant-...       731.0   \n",
       "1  http://mashable.com/2013/01/07/ap-samsung-spon...       731.0   \n",
       "2  http://mashable.com/2013/01/07/apple-40-billio...       731.0   \n",
       "3  http://mashable.com/2013/01/07/astronaut-notre...       731.0   \n",
       "4   http://mashable.com/2013/01/07/att-u-verse-apps/       731.0   \n",
       "\n",
       "    n_tokens_title   n_tokens_content   n_unique_tokens   n_non_stop_words  \\\n",
       "0             12.0              219.0          0.663594                1.0   \n",
       "1              9.0              255.0          0.604743                1.0   \n",
       "2              9.0              211.0          0.575130                1.0   \n",
       "3              9.0              531.0          0.503788                1.0   \n",
       "4             13.0             1072.0          0.415646                1.0   \n",
       "\n",
       "    n_non_stop_unique_tokens   num_hrefs   num_self_hrefs   num_imgs  ...  \\\n",
       "0                   0.815385         4.0              2.0        1.0  ...   \n",
       "1                   0.791946         3.0              1.0        1.0  ...   \n",
       "2                   0.663866         3.0              1.0        1.0  ...   \n",
       "3                   0.665635         9.0              0.0        1.0  ...   \n",
       "4                   0.540890        19.0             19.0       20.0  ...   \n",
       "\n",
       "    min_positive_polarity   max_positive_polarity   avg_negative_polarity  \\\n",
       "0                0.100000                     0.7               -0.350000   \n",
       "1                0.033333                     0.7               -0.118750   \n",
       "2                0.100000                     1.0               -0.466667   \n",
       "3                0.136364                     0.8               -0.369697   \n",
       "4                0.033333                     1.0               -0.220192   \n",
       "\n",
       "    min_negative_polarity   max_negative_polarity   title_subjectivity  \\\n",
       "0                  -0.600               -0.200000             0.500000   \n",
       "1                  -0.125               -0.100000             0.000000   \n",
       "2                  -0.800               -0.133333             0.000000   \n",
       "3                  -0.600               -0.166667             0.000000   \n",
       "4                  -0.500               -0.050000             0.454545   \n",
       "\n",
       "    title_sentiment_polarity   abs_title_subjectivity  \\\n",
       "0                  -0.187500                 0.000000   \n",
       "1                   0.000000                 0.500000   \n",
       "2                   0.000000                 0.500000   \n",
       "3                   0.000000                 0.500000   \n",
       "4                   0.136364                 0.045455   \n",
       "\n",
       "    abs_title_sentiment_polarity   shares  \n",
       "0                       0.187500      593  \n",
       "1                       0.000000      711  \n",
       "2                       0.000000     1500  \n",
       "3                       0.000000     1200  \n",
       "4                       0.136364      505  \n",
       "\n",
       "[5 rows x 61 columns]"
      ]
     },
     "execution_count": 104,
     "metadata": {},
     "output_type": "execute_result"
    }
   ],
   "source": [
    "df = pd.read_csv('data/online_news_popularity.csv')\n",
    "df.head()"
   ]
  },
  {
   "cell_type": "markdown",
   "metadata": {},
   "source": [
    "* Check out column names"
   ]
  },
  {
   "cell_type": "code",
   "execution_count": 105,
   "metadata": {},
   "outputs": [
    {
     "data": {
      "text/plain": [
       "Index(['url', ' timedelta', ' n_tokens_title', ' n_tokens_content',\n",
       "       ' n_unique_tokens', ' n_non_stop_words', ' n_non_stop_unique_tokens',\n",
       "       ' num_hrefs', ' num_self_hrefs', ' num_imgs', ' num_videos',\n",
       "       ' average_token_length', ' num_keywords', ' data_channel_is_lifestyle',\n",
       "       ' data_channel_is_entertainment', ' data_channel_is_bus',\n",
       "       ' data_channel_is_socmed', ' data_channel_is_tech',\n",
       "       ' data_channel_is_world', ' kw_min_min', ' kw_max_min', ' kw_avg_min',\n",
       "       ' kw_min_max', ' kw_max_max', ' kw_avg_max', ' kw_min_avg',\n",
       "       ' kw_max_avg', ' kw_avg_avg', ' self_reference_min_shares',\n",
       "       ' self_reference_max_shares', ' self_reference_avg_sharess',\n",
       "       ' weekday_is_monday', ' weekday_is_tuesday', ' weekday_is_wednesday',\n",
       "       ' weekday_is_thursday', ' weekday_is_friday', ' weekday_is_saturday',\n",
       "       ' weekday_is_sunday', ' is_weekend', ' LDA_00', ' LDA_01', ' LDA_02',\n",
       "       ' LDA_03', ' LDA_04', ' global_subjectivity',\n",
       "       ' global_sentiment_polarity', ' global_rate_positive_words',\n",
       "       ' global_rate_negative_words', ' rate_positive_words',\n",
       "       ' rate_negative_words', ' avg_positive_polarity',\n",
       "       ' min_positive_polarity', ' max_positive_polarity',\n",
       "       ' avg_negative_polarity', ' min_negative_polarity',\n",
       "       ' max_negative_polarity', ' title_subjectivity',\n",
       "       ' title_sentiment_polarity', ' abs_title_subjectivity',\n",
       "       ' abs_title_sentiment_polarity', ' shares'],\n",
       "      dtype='object')"
      ]
     },
     "execution_count": 105,
     "metadata": {},
     "output_type": "execute_result"
    }
   ],
   "source": [
    "df.columns"
   ]
  },
  {
   "cell_type": "markdown",
   "metadata": {},
   "source": [
    "* Remove spaces and shorten/clarify some column names"
   ]
  },
  {
   "cell_type": "code",
   "execution_count": 106,
   "metadata": {},
   "outputs": [],
   "source": [
    "k = list(df.columns)\n",
    "v = [column.strip() for column in df.columns]"
   ]
  },
  {
   "cell_type": "code",
   "execution_count": 107,
   "metadata": {},
   "outputs": [],
   "source": [
    "renamer = dict(zip(k, v))\n",
    "new_names = {'num_hrefs': 'num_links',\n",
    "             'num_self_hrefs': 'num_self_links',\n",
    "             'n_unique_tokens': 'rate_unique_tokens',\n",
    "             'n_non_stop_words': 'rate_non_stop_words',\n",
    "             'n_non_stop_unique_tokens': 'rate_non_stop_unique_tokens',\n",
    "             'data_channel_is_lifestyle': 'lifestyle',\n",
    "             'data_channel_is_entertainment': 'entertainment',\n",
    "             'data_channel_is_bus': 'business',\n",
    "             'data_channel_is_socmed': 'social_media',\n",
    "             'data_channel_is_tech': 'tech',\n",
    "             'data_channel_is_world': 'world',\n",
    "             'self_reference_min_shares': 'self_ref_min_shares',\n",
    "             'self_reference_max_shares': 'self_ref_max_shares',\n",
    "             'self_reference_avg_sharess': 'self_ref_avg_shares',\n",
    "             'weekday_is_monday': 'monday',\n",
    "             'weekday_is_tuesday': 'tuesday',\n",
    "             'weekday_is_wednesday': 'wednesday',\n",
    "             'weekday_is_thursday': 'thursday',\n",
    "             'weekday_is_friday': 'friday',\n",
    "             'weekday_is_saturday': 'saturday',\n",
    "             'weekday_is_sunday': 'sunday',\n",
    "                }"
   ]
  },
  {
   "cell_type": "code",
   "execution_count": 108,
   "metadata": {},
   "outputs": [],
   "source": [
    "df.rename(columns=renamer, inplace=True)\n",
    "df.rename(columns=new_names, inplace=True)"
   ]
  },
  {
   "cell_type": "code",
   "execution_count": 109,
   "metadata": {},
   "outputs": [
    {
     "data": {
      "text/plain": [
       "Index(['url', 'timedelta', 'n_tokens_title', 'n_tokens_content',\n",
       "       'rate_unique_tokens', 'rate_non_stop_words',\n",
       "       'rate_non_stop_unique_tokens', 'num_links', 'num_self_links',\n",
       "       'num_imgs', 'num_videos', 'average_token_length', 'num_keywords',\n",
       "       'lifestyle', 'entertainment', 'business', 'social_media', 'tech',\n",
       "       'world', 'kw_min_min', 'kw_max_min', 'kw_avg_min', 'kw_min_max',\n",
       "       'kw_max_max', 'kw_avg_max', 'kw_min_avg', 'kw_max_avg', 'kw_avg_avg',\n",
       "       'self_ref_min_shares', 'self_ref_max_shares', 'self_ref_avg_shares',\n",
       "       'monday', 'tuesday', 'wednesday', 'thursday', 'friday', 'saturday',\n",
       "       'sunday', 'is_weekend', 'LDA_00', 'LDA_01', 'LDA_02', 'LDA_03',\n",
       "       'LDA_04', 'global_subjectivity', 'global_sentiment_polarity',\n",
       "       'global_rate_positive_words', 'global_rate_negative_words',\n",
       "       'rate_positive_words', 'rate_negative_words', 'avg_positive_polarity',\n",
       "       'min_positive_polarity', 'max_positive_polarity',\n",
       "       'avg_negative_polarity', 'min_negative_polarity',\n",
       "       'max_negative_polarity', 'title_subjectivity',\n",
       "       'title_sentiment_polarity', 'abs_title_subjectivity',\n",
       "       'abs_title_sentiment_polarity', 'shares'],\n",
       "      dtype='object')"
      ]
     },
     "execution_count": 109,
     "metadata": {},
     "output_type": "execute_result"
    }
   ],
   "source": [
    "df.columns"
   ]
  },
  {
   "cell_type": "code",
   "execution_count": 110,
   "metadata": {
    "scrolled": true
   },
   "outputs": [
    {
     "name": "stdout",
     "output_type": "stream",
     "text": [
      "<class 'pandas.core.frame.DataFrame'>\n",
      "RangeIndex: 39644 entries, 0 to 39643\n",
      "Data columns (total 61 columns):\n",
      " #   Column                        Non-Null Count  Dtype  \n",
      "---  ------                        --------------  -----  \n",
      " 0   url                           39644 non-null  object \n",
      " 1   timedelta                     39644 non-null  float64\n",
      " 2   n_tokens_title                39644 non-null  float64\n",
      " 3   n_tokens_content              39644 non-null  float64\n",
      " 4   rate_unique_tokens            39644 non-null  float64\n",
      " 5   rate_non_stop_words           39644 non-null  float64\n",
      " 6   rate_non_stop_unique_tokens   39644 non-null  float64\n",
      " 7   num_links                     39644 non-null  float64\n",
      " 8   num_self_links                39644 non-null  float64\n",
      " 9   num_imgs                      39644 non-null  float64\n",
      " 10  num_videos                    39644 non-null  float64\n",
      " 11  average_token_length          39644 non-null  float64\n",
      " 12  num_keywords                  39644 non-null  float64\n",
      " 13  lifestyle                     39644 non-null  float64\n",
      " 14  entertainment                 39644 non-null  float64\n",
      " 15  business                      39644 non-null  float64\n",
      " 16  social_media                  39644 non-null  float64\n",
      " 17  tech                          39644 non-null  float64\n",
      " 18  world                         39644 non-null  float64\n",
      " 19  kw_min_min                    39644 non-null  float64\n",
      " 20  kw_max_min                    39644 non-null  float64\n",
      " 21  kw_avg_min                    39644 non-null  float64\n",
      " 22  kw_min_max                    39644 non-null  float64\n",
      " 23  kw_max_max                    39644 non-null  float64\n",
      " 24  kw_avg_max                    39644 non-null  float64\n",
      " 25  kw_min_avg                    39644 non-null  float64\n",
      " 26  kw_max_avg                    39644 non-null  float64\n",
      " 27  kw_avg_avg                    39644 non-null  float64\n",
      " 28  self_ref_min_shares           39644 non-null  float64\n",
      " 29  self_ref_max_shares           39644 non-null  float64\n",
      " 30  self_ref_avg_shares           39644 non-null  float64\n",
      " 31  monday                        39644 non-null  float64\n",
      " 32  tuesday                       39644 non-null  float64\n",
      " 33  wednesday                     39644 non-null  float64\n",
      " 34  thursday                      39644 non-null  float64\n",
      " 35  friday                        39644 non-null  float64\n",
      " 36  saturday                      39644 non-null  float64\n",
      " 37  sunday                        39644 non-null  float64\n",
      " 38  is_weekend                    39644 non-null  float64\n",
      " 39  LDA_00                        39644 non-null  float64\n",
      " 40  LDA_01                        39644 non-null  float64\n",
      " 41  LDA_02                        39644 non-null  float64\n",
      " 42  LDA_03                        39644 non-null  float64\n",
      " 43  LDA_04                        39644 non-null  float64\n",
      " 44  global_subjectivity           39644 non-null  float64\n",
      " 45  global_sentiment_polarity     39644 non-null  float64\n",
      " 46  global_rate_positive_words    39644 non-null  float64\n",
      " 47  global_rate_negative_words    39644 non-null  float64\n",
      " 48  rate_positive_words           39644 non-null  float64\n",
      " 49  rate_negative_words           39644 non-null  float64\n",
      " 50  avg_positive_polarity         39644 non-null  float64\n",
      " 51  min_positive_polarity         39644 non-null  float64\n",
      " 52  max_positive_polarity         39644 non-null  float64\n",
      " 53  avg_negative_polarity         39644 non-null  float64\n",
      " 54  min_negative_polarity         39644 non-null  float64\n",
      " 55  max_negative_polarity         39644 non-null  float64\n",
      " 56  title_subjectivity            39644 non-null  float64\n",
      " 57  title_sentiment_polarity      39644 non-null  float64\n",
      " 58  abs_title_subjectivity        39644 non-null  float64\n",
      " 59  abs_title_sentiment_polarity  39644 non-null  float64\n",
      " 60  shares                        39644 non-null  int64  \n",
      "dtypes: float64(59), int64(1), object(1)\n",
      "memory usage: 18.5+ MB\n"
     ]
    }
   ],
   "source": [
    "df.info()"
   ]
  },
  {
   "cell_type": "code",
   "execution_count": 111,
   "metadata": {},
   "outputs": [],
   "source": [
    "to_int = ['num_links', 'num_self_links', 'num_imgs', 'num_videos', 'num_keywords', 'lifestyle', 'entertainment',\n",
    "          'business', 'social_media', 'tech', 'world', 'self_ref_min_shares', 'self_ref_max_shares', \n",
    "          'monday', 'tuesday', 'wednesday', 'thursday', 'friday', 'saturday', 'sunday', 'is_weekend',\n",
    "          ]\n",
    "df[to_int] = df[to_int].astype('int64')"
   ]
  },
  {
   "cell_type": "markdown",
   "metadata": {},
   "source": [
    "* Take a look at the target variable."
   ]
  },
  {
   "cell_type": "code",
   "execution_count": 112,
   "metadata": {},
   "outputs": [
    {
     "data": {
      "text/plain": [
       "count     39644.000000\n",
       "mean       3395.380184\n",
       "std       11626.950749\n",
       "min           1.000000\n",
       "25%         946.000000\n",
       "50%        1400.000000\n",
       "75%        2800.000000\n",
       "max      843300.000000\n",
       "Name: shares, dtype: float64"
      ]
     },
     "execution_count": 112,
     "metadata": {},
     "output_type": "execute_result"
    }
   ],
   "source": [
    "df.shares.describe()"
   ]
  },
  {
   "cell_type": "code",
   "execution_count": 113,
   "metadata": {
    "scrolled": true
   },
   "outputs": [
    {
     "data": {
      "text/plain": [
       "array([[<matplotlib.axes._subplots.AxesSubplot object at 0x12883bcc0>]],\n",
       "      dtype=object)"
      ]
     },
     "execution_count": 113,
     "metadata": {},
     "output_type": "execute_result"
    },
    {
     "data": {
      "image/png": "[encoded data removed]",
      "text/plain": [
       "<Figure size 432x288 with 1 Axes>"
      ]
     },
     "metadata": {},
     "output_type": "display_data"
    }
   ],
   "source": [
    "df.hist('shares',bins=50)"
   ]
  },
  {
   "cell_type": "markdown",
   "metadata": {},
   "source": [
    "* See if the log of 'shares' normalizes it."
   ]
  },
  {
   "cell_type": "code",
   "execution_count": 114,
   "metadata": {},
   "outputs": [
    {
     "data": {
      "text/plain": [
       "array([[<matplotlib.axes._subplots.AxesSubplot object at 0x12bb026d8>]],\n",
       "      dtype=object)"
      ]
     },
     "execution_count": 114,
     "metadata": {},
     "output_type": "execute_result"
    },
    {
     "data": {
      "image/png": "[encoded data removed]",
      "text/plain": [
       "<Figure size 432x288 with 1 Axes>"
      ]
     },
     "metadata": {},
     "output_type": "display_data"
    }
   ],
   "source": [
    "df['log_shares'] = df.shares.apply(lambda x: np.log(x))\n",
    "df.hist('log_shares', bins=50)"
   ]
  },
  {
   "cell_type": "markdown",
   "metadata": {},
   "source": [
    "* Data seems pretty clean, so we'll take a preliminary look at some numbers."
   ]
  },
  {
   "cell_type": "code",
   "execution_count": 115,
   "metadata": {},
   "outputs": [
    {
     "data": {
      "text/html": [
       "<table class=\"simpletable\">\n",
       "<caption>OLS Regression Results</caption>\n",
       "<tr>\n",
       "  <th>Dep. Variable:</th>       <td>log_shares</td>    <th>  R-squared:         </th> <td>   0.127</td> \n",
       "</tr>\n",
       "<tr>\n",
       "  <th>Model:</th>                   <td>OLS</td>       <th>  Adj. R-squared:    </th> <td>   0.125</td> \n",
       "</tr>\n",
       "<tr>\n",
       "  <th>Method:</th>             <td>Least Squares</td>  <th>  F-statistic:       </th> <td>   104.4</td> \n",
       "</tr>\n",
       "<tr>\n",
       "  <th>Date:</th>             <td>Wed, 06 May 2020</td> <th>  Prob (F-statistic):</th>  <td>  0.00</td>  \n",
       "</tr>\n",
       "<tr>\n",
       "  <th>Time:</th>                 <td>11:25:12</td>     <th>  Log-Likelihood:    </th> <td> -50711.</td> \n",
       "</tr>\n",
       "<tr>\n",
       "  <th>No. Observations:</th>      <td> 39644</td>      <th>  AIC:               </th> <td>1.015e+05</td>\n",
       "</tr>\n",
       "<tr>\n",
       "  <th>Df Residuals:</th>          <td> 39588</td>      <th>  BIC:               </th> <td>1.020e+05</td>\n",
       "</tr>\n",
       "<tr>\n",
       "  <th>Df Model:</th>              <td>    55</td>      <th>                     </th>     <td> </td>    \n",
       "</tr>\n",
       "<tr>\n",
       "  <th>Covariance Type:</th>      <td>nonrobust</td>    <th>                     </th>     <td> </td>    \n",
       "</tr>\n",
       "</table>\n",
       "<table class=\"simpletable\">\n",
       "<tr>\n",
       "                <td></td>                  <th>coef</th>     <th>std err</th>      <th>t</th>      <th>P>|t|</th>  <th>[0.025</th>    <th>0.975]</th>  \n",
       "</tr>\n",
       "<tr>\n",
       "  <th>Intercept</th>                    <td>    6.7672</td> <td>    0.068</td> <td>   99.461</td> <td> 0.000</td> <td>    6.634</td> <td>    6.901</td>\n",
       "</tr>\n",
       "<tr>\n",
       "  <th>timedelta</th>                    <td> 6.713e-05</td> <td> 2.97e-05</td> <td>    2.264</td> <td> 0.024</td> <td> 9.01e-06</td> <td>    0.000</td>\n",
       "</tr>\n",
       "<tr>\n",
       "  <th>n_tokens_title</th>               <td>    0.0083</td> <td>    0.002</td> <td>    3.777</td> <td> 0.000</td> <td>    0.004</td> <td>    0.013</td>\n",
       "</tr>\n",
       "<tr>\n",
       "  <th>n_tokens_content</th>             <td> 4.052e-05</td> <td> 1.69e-05</td> <td>    2.396</td> <td> 0.017</td> <td> 7.37e-06</td> <td> 7.37e-05</td>\n",
       "</tr>\n",
       "<tr>\n",
       "  <th>rate_unique_tokens</th>           <td>    0.2043</td> <td>    0.145</td> <td>    1.412</td> <td> 0.158</td> <td>   -0.079</td> <td>    0.488</td>\n",
       "</tr>\n",
       "<tr>\n",
       "  <th>rate_non_stop_words</th>          <td>    0.0378</td> <td>    0.049</td> <td>    0.768</td> <td> 0.442</td> <td>   -0.059</td> <td>    0.134</td>\n",
       "</tr>\n",
       "<tr>\n",
       "  <th>rate_non_stop_unique_tokens</th>  <td>   -0.2785</td> <td>    0.122</td> <td>   -2.274</td> <td> 0.023</td> <td>   -0.518</td> <td>   -0.039</td>\n",
       "</tr>\n",
       "<tr>\n",
       "  <th>num_links</th>                    <td>    0.0042</td> <td>    0.001</td> <td>    8.247</td> <td> 0.000</td> <td>    0.003</td> <td>    0.005</td>\n",
       "</tr>\n",
       "<tr>\n",
       "  <th>num_self_links</th>               <td>   -0.0077</td> <td>    0.001</td> <td>   -5.724</td> <td> 0.000</td> <td>   -0.010</td> <td>   -0.005</td>\n",
       "</tr>\n",
       "<tr>\n",
       "  <th>num_imgs</th>                     <td>    0.0025</td> <td>    0.001</td> <td>    3.626</td> <td> 0.000</td> <td>    0.001</td> <td>    0.004</td>\n",
       "</tr>\n",
       "<tr>\n",
       "  <th>num_videos</th>                   <td>    0.0019</td> <td>    0.001</td> <td>    1.606</td> <td> 0.108</td> <td>   -0.000</td> <td>    0.004</td>\n",
       "</tr>\n",
       "<tr>\n",
       "  <th>average_token_length</th>         <td>   -0.0910</td> <td>    0.018</td> <td>   -5.043</td> <td> 0.000</td> <td>   -0.126</td> <td>   -0.056</td>\n",
       "</tr>\n",
       "<tr>\n",
       "  <th>num_keywords</th>                 <td>    0.0121</td> <td>    0.003</td> <td>    4.313</td> <td> 0.000</td> <td>    0.007</td> <td>    0.018</td>\n",
       "</tr>\n",
       "<tr>\n",
       "  <th>entertainment</th>                <td>   -0.1559</td> <td>    0.018</td> <td>   -8.607</td> <td> 0.000</td> <td>   -0.191</td> <td>   -0.120</td>\n",
       "</tr>\n",
       "<tr>\n",
       "  <th>business</th>                     <td>   -0.1117</td> <td>    0.024</td> <td>   -4.596</td> <td> 0.000</td> <td>   -0.159</td> <td>   -0.064</td>\n",
       "</tr>\n",
       "<tr>\n",
       "  <th>social_media</th>                 <td>    0.2098</td> <td>    0.024</td> <td>    8.630</td> <td> 0.000</td> <td>    0.162</td> <td>    0.257</td>\n",
       "</tr>\n",
       "<tr>\n",
       "  <th>tech</th>                         <td>    0.1695</td> <td>    0.020</td> <td>    8.355</td> <td> 0.000</td> <td>    0.130</td> <td>    0.209</td>\n",
       "</tr>\n",
       "<tr>\n",
       "  <th>world</th>                        <td>    0.0132</td> <td>    0.024</td> <td>    0.544</td> <td> 0.586</td> <td>   -0.034</td> <td>    0.061</td>\n",
       "</tr>\n",
       "<tr>\n",
       "  <th>kw_min_min</th>                   <td>    0.0009</td> <td>    0.000</td> <td>    7.262</td> <td> 0.000</td> <td>    0.001</td> <td>    0.001</td>\n",
       "</tr>\n",
       "<tr>\n",
       "  <th>kw_max_min</th>                   <td> 1.713e-05</td> <td> 3.81e-06</td> <td>    4.496</td> <td> 0.000</td> <td> 9.66e-06</td> <td> 2.46e-05</td>\n",
       "</tr>\n",
       "<tr>\n",
       "  <th>kw_avg_min</th>                   <td>   -0.0001</td> <td> 2.34e-05</td> <td>   -5.465</td> <td> 0.000</td> <td>   -0.000</td> <td>-8.21e-05</td>\n",
       "</tr>\n",
       "<tr>\n",
       "  <th>kw_min_max</th>                   <td>-3.726e-07</td> <td> 8.89e-08</td> <td>   -4.189</td> <td> 0.000</td> <td>-5.47e-07</td> <td>-1.98e-07</td>\n",
       "</tr>\n",
       "<tr>\n",
       "  <th>kw_max_max</th>                   <td> 4.518e-08</td> <td> 4.46e-08</td> <td>    1.013</td> <td> 0.311</td> <td>-4.23e-08</td> <td> 1.33e-07</td>\n",
       "</tr>\n",
       "<tr>\n",
       "  <th>kw_avg_max</th>                   <td>-2.577e-07</td> <td> 6.36e-08</td> <td>   -4.051</td> <td> 0.000</td> <td>-3.82e-07</td> <td>-1.33e-07</td>\n",
       "</tr>\n",
       "<tr>\n",
       "  <th>kw_min_avg</th>                   <td>-5.083e-05</td> <td> 5.72e-06</td> <td>   -8.879</td> <td> 0.000</td> <td> -6.2e-05</td> <td>-3.96e-05</td>\n",
       "</tr>\n",
       "<tr>\n",
       "  <th>kw_max_avg</th>                   <td>-4.212e-05</td> <td> 1.91e-06</td> <td>  -22.007</td> <td> 0.000</td> <td>-4.59e-05</td> <td>-3.84e-05</td>\n",
       "</tr>\n",
       "<tr>\n",
       "  <th>kw_avg_avg</th>                   <td>    0.0003</td> <td> 1.09e-05</td> <td>   30.915</td> <td> 0.000</td> <td>    0.000</td> <td>    0.000</td>\n",
       "</tr>\n",
       "<tr>\n",
       "  <th>self_ref_min_shares</th>          <td> 7.359e-07</td> <td> 5.69e-07</td> <td>    1.292</td> <td> 0.196</td> <td> -3.8e-07</td> <td> 1.85e-06</td>\n",
       "</tr>\n",
       "<tr>\n",
       "  <th>self_ref_max_shares</th>          <td>-8.753e-09</td> <td> 3.09e-07</td> <td>   -0.028</td> <td> 0.977</td> <td>-6.14e-07</td> <td> 5.97e-07</td>\n",
       "</tr>\n",
       "<tr>\n",
       "  <th>self_ref_avg_shares</th>          <td> 1.456e-06</td> <td>  7.9e-07</td> <td>    1.843</td> <td> 0.065</td> <td>-9.25e-08</td> <td>    3e-06</td>\n",
       "</tr>\n",
       "<tr>\n",
       "  <th>tuesday</th>                      <td>   -0.0669</td> <td>    0.015</td> <td>   -4.542</td> <td> 0.000</td> <td>   -0.096</td> <td>   -0.038</td>\n",
       "</tr>\n",
       "<tr>\n",
       "  <th>wednesday</th>                    <td>   -0.0636</td> <td>    0.015</td> <td>   -4.328</td> <td> 0.000</td> <td>   -0.092</td> <td>   -0.035</td>\n",
       "</tr>\n",
       "<tr>\n",
       "  <th>thursday</th>                     <td>   -0.0581</td> <td>    0.015</td> <td>   -3.929</td> <td> 0.000</td> <td>   -0.087</td> <td>   -0.029</td>\n",
       "</tr>\n",
       "<tr>\n",
       "  <th>friday</th>                       <td>    0.0055</td> <td>    0.016</td> <td>    0.351</td> <td> 0.726</td> <td>   -0.025</td> <td>    0.036</td>\n",
       "</tr>\n",
       "<tr>\n",
       "  <th>saturday</th>                     <td>    0.0752</td> <td>    0.013</td> <td>    5.578</td> <td> 0.000</td> <td>    0.049</td> <td>    0.102</td>\n",
       "</tr>\n",
       "<tr>\n",
       "  <th>sunday</th>                       <td>    0.0717</td> <td>    0.013</td> <td>    5.477</td> <td> 0.000</td> <td>    0.046</td> <td>    0.097</td>\n",
       "</tr>\n",
       "<tr>\n",
       "  <th>is_weekend</th>                   <td>    0.1469</td> <td>    0.011</td> <td>   13.534</td> <td> 0.000</td> <td>    0.126</td> <td>    0.168</td>\n",
       "</tr>\n",
       "<tr>\n",
       "  <th>LDA_01</th>                       <td>   -0.3252</td> <td>    0.038</td> <td>   -8.549</td> <td> 0.000</td> <td>   -0.400</td> <td>   -0.251</td>\n",
       "</tr>\n",
       "<tr>\n",
       "  <th>LDA_02</th>                       <td>   -0.4460</td> <td>    0.038</td> <td>  -11.808</td> <td> 0.000</td> <td>   -0.520</td> <td>   -0.372</td>\n",
       "</tr>\n",
       "<tr>\n",
       "  <th>LDA_03</th>                       <td>   -0.2983</td> <td>    0.035</td> <td>   -8.438</td> <td> 0.000</td> <td>   -0.368</td> <td>   -0.229</td>\n",
       "</tr>\n",
       "<tr>\n",
       "  <th>LDA_04</th>                       <td>   -0.2403</td> <td>    0.034</td> <td>   -7.025</td> <td> 0.000</td> <td>   -0.307</td> <td>   -0.173</td>\n",
       "</tr>\n",
       "<tr>\n",
       "  <th>global_subjectivity</th>          <td>    0.4122</td> <td>    0.064</td> <td>    6.413</td> <td> 0.000</td> <td>    0.286</td> <td>    0.538</td>\n",
       "</tr>\n",
       "<tr>\n",
       "  <th>global_sentiment_polarity</th>    <td>   -0.1199</td> <td>    0.126</td> <td>   -0.950</td> <td> 0.342</td> <td>   -0.367</td> <td>    0.127</td>\n",
       "</tr>\n",
       "<tr>\n",
       "  <th>global_rate_positive_words</th>   <td>   -1.1467</td> <td>    0.542</td> <td>   -2.115</td> <td> 0.034</td> <td>   -2.209</td> <td>   -0.084</td>\n",
       "</tr>\n",
       "<tr>\n",
       "  <th>global_rate_negative_words</th>   <td>    0.5253</td> <td>    1.035</td> <td>    0.507</td> <td> 0.612</td> <td>   -1.504</td> <td>    2.555</td>\n",
       "</tr>\n",
       "<tr>\n",
       "  <th>rate_positive_words</th>          <td>    0.3060</td> <td>    0.107</td> <td>    2.852</td> <td> 0.004</td> <td>    0.096</td> <td>    0.516</td>\n",
       "</tr>\n",
       "<tr>\n",
       "  <th>rate_negative_words</th>          <td>    0.1508</td> <td>    0.121</td> <td>    1.249</td> <td> 0.212</td> <td>   -0.086</td> <td>    0.388</td>\n",
       "</tr>\n",
       "<tr>\n",
       "  <th>avg_positive_polarity</th>        <td>    0.0006</td> <td>    0.103</td> <td>    0.005</td> <td> 0.996</td> <td>   -0.202</td> <td>    0.203</td>\n",
       "</tr>\n",
       "<tr>\n",
       "  <th>min_positive_polarity</th>        <td>   -0.2658</td> <td>    0.087</td> <td>   -3.071</td> <td> 0.002</td> <td>   -0.435</td> <td>   -0.096</td>\n",
       "</tr>\n",
       "<tr>\n",
       "  <th>max_positive_polarity</th>        <td>   -0.0240</td> <td>    0.033</td> <td>   -0.736</td> <td> 0.462</td> <td>   -0.088</td> <td>    0.040</td>\n",
       "</tr>\n",
       "<tr>\n",
       "  <th>avg_negative_polarity</th>        <td>   -0.1481</td> <td>    0.095</td> <td>   -1.555</td> <td> 0.120</td> <td>   -0.335</td> <td>    0.039</td>\n",
       "</tr>\n",
       "<tr>\n",
       "  <th>min_negative_polarity</th>        <td>    0.0045</td> <td>    0.035</td> <td>    0.129</td> <td> 0.897</td> <td>   -0.064</td> <td>    0.073</td>\n",
       "</tr>\n",
       "<tr>\n",
       "  <th>max_negative_polarity</th>        <td>    0.0847</td> <td>    0.079</td> <td>    1.070</td> <td> 0.285</td> <td>   -0.071</td> <td>    0.240</td>\n",
       "</tr>\n",
       "<tr>\n",
       "  <th>title_subjectivity</th>           <td>    0.0591</td> <td>    0.021</td> <td>    2.850</td> <td> 0.004</td> <td>    0.018</td> <td>    0.100</td>\n",
       "</tr>\n",
       "<tr>\n",
       "  <th>title_sentiment_polarity</th>     <td>    0.0807</td> <td>    0.019</td> <td>    4.260</td> <td> 0.000</td> <td>    0.044</td> <td>    0.118</td>\n",
       "</tr>\n",
       "<tr>\n",
       "  <th>abs_title_subjectivity</th>       <td>    0.1410</td> <td>    0.028</td> <td>    5.120</td> <td> 0.000</td> <td>    0.087</td> <td>    0.195</td>\n",
       "</tr>\n",
       "<tr>\n",
       "  <th>abs_title_sentiment_polarity</th> <td>    0.0261</td> <td>    0.030</td> <td>    0.871</td> <td> 0.384</td> <td>   -0.033</td> <td>    0.085</td>\n",
       "</tr>\n",
       "</table>\n",
       "<table class=\"simpletable\">\n",
       "<tr>\n",
       "  <th>Omnibus:</th>       <td>7288.764</td> <th>  Durbin-Watson:     </th> <td>   1.952</td> \n",
       "</tr>\n",
       "<tr>\n",
       "  <th>Prob(Omnibus):</th>  <td> 0.000</td>  <th>  Jarque-Bera (JB):  </th> <td>20339.070</td>\n",
       "</tr>\n",
       "<tr>\n",
       "  <th>Skew:</th>           <td> 0.984</td>  <th>  Prob(JB):          </th> <td>    0.00</td> \n",
       "</tr>\n",
       "<tr>\n",
       "  <th>Kurtosis:</th>       <td> 5.905</td>  <th>  Cond. No.          </th> <td>1.04e+16</td> \n",
       "</tr>\n",
       "</table><br/><br/>Warnings:<br/>[1] Standard Errors assume that the covariance matrix of the errors is correctly specified.<br/>[2] The smallest eigenvalue is 2.51e-16. This might indicate that there are<br/>strong multicollinearity problems or that the design matrix is singular."
      ],
      "text/plain": [
       "<class 'statsmodels.iolib.summary.Summary'>\n",
       "\"\"\"\n",
       "                            OLS Regression Results                            \n",
       "==============================================================================\n",
       "Dep. Variable:             log_shares   R-squared:                       0.127\n",
       "Model:                            OLS   Adj. R-squared:                  0.125\n",
       "Method:                 Least Squares   F-statistic:                     104.4\n",
       "Date:                Wed, 06 May 2020   Prob (F-statistic):               0.00\n",
       "Time:                        11:25:12   Log-Likelihood:                -50711.\n",
       "No. Observations:               39644   AIC:                         1.015e+05\n",
       "Df Residuals:                   39588   BIC:                         1.020e+05\n",
       "Df Model:                          55                                         \n",
       "Covariance Type:            nonrobust                                         \n",
       "================================================================================================\n",
       "                                   coef    std err          t      P>|t|      [0.025      0.975]\n",
       "------------------------------------------------------------------------------------------------\n",
       "Intercept                        6.7672      0.068     99.461      0.000       6.634       6.901\n",
       "timedelta                     6.713e-05   2.97e-05      2.264      0.024    9.01e-06       0.000\n",
       "n_tokens_title                   0.0083      0.002      3.777      0.000       0.004       0.013\n",
       "n_tokens_content              4.052e-05   1.69e-05      2.396      0.017    7.37e-06    7.37e-05\n",
       "rate_unique_tokens               0.2043      0.145      1.412      0.158      -0.079       0.488\n",
       "rate_non_stop_words              0.0378      0.049      0.768      0.442      -0.059       0.134\n",
       "rate_non_stop_unique_tokens     -0.2785      0.122     -2.274      0.023      -0.518      -0.039\n",
       "num_links                        0.0042      0.001      8.247      0.000       0.003       0.005\n",
       "num_self_links                  -0.0077      0.001     -5.724      0.000      -0.010      -0.005\n",
       "num_imgs                         0.0025      0.001      3.626      0.000       0.001       0.004\n",
       "num_videos                       0.0019      0.001      1.606      0.108      -0.000       0.004\n",
       "average_token_length            -0.0910      0.018     -5.043      0.000      -0.126      -0.056\n",
       "num_keywords                     0.0121      0.003      4.313      0.000       0.007       0.018\n",
       "entertainment                   -0.1559      0.018     -8.607      0.000      -0.191      -0.120\n",
       "business                        -0.1117      0.024     -4.596      0.000      -0.159      -0.064\n",
       "social_media                     0.2098      0.024      8.630      0.000       0.162       0.257\n",
       "tech                             0.1695      0.020      8.355      0.000       0.130       0.209\n",
       "world                            0.0132      0.024      0.544      0.586      -0.034       0.061\n",
       "kw_min_min                       0.0009      0.000      7.262      0.000       0.001       0.001\n",
       "kw_max_min                    1.713e-05   3.81e-06      4.496      0.000    9.66e-06    2.46e-05\n",
       "kw_avg_min                      -0.0001   2.34e-05     -5.465      0.000      -0.000   -8.21e-05\n",
       "kw_min_max                   -3.726e-07   8.89e-08     -4.189      0.000   -5.47e-07   -1.98e-07\n",
       "kw_max_max                    4.518e-08   4.46e-08      1.013      0.311   -4.23e-08    1.33e-07\n",
       "kw_avg_max                   -2.577e-07   6.36e-08     -4.051      0.000   -3.82e-07   -1.33e-07\n",
       "kw_min_avg                   -5.083e-05   5.72e-06     -8.879      0.000    -6.2e-05   -3.96e-05\n",
       "kw_max_avg                   -4.212e-05   1.91e-06    -22.007      0.000   -4.59e-05   -3.84e-05\n",
       "kw_avg_avg                       0.0003   1.09e-05     30.915      0.000       0.000       0.000\n",
       "self_ref_min_shares           7.359e-07   5.69e-07      1.292      0.196    -3.8e-07    1.85e-06\n",
       "self_ref_max_shares          -8.753e-09   3.09e-07     -0.028      0.977   -6.14e-07    5.97e-07\n",
       "self_ref_avg_shares           1.456e-06    7.9e-07      1.843      0.065   -9.25e-08       3e-06\n",
       "tuesday                         -0.0669      0.015     -4.542      0.000      -0.096      -0.038\n",
       "wednesday                       -0.0636      0.015     -4.328      0.000      -0.092      -0.035\n",
       "thursday                        -0.0581      0.015     -3.929      0.000      -0.087      -0.029\n",
       "friday                           0.0055      0.016      0.351      0.726      -0.025       0.036\n",
       "saturday                         0.0752      0.013      5.578      0.000       0.049       0.102\n",
       "sunday                           0.0717      0.013      5.477      0.000       0.046       0.097\n",
       "is_weekend                       0.1469      0.011     13.534      0.000       0.126       0.168\n",
       "LDA_01                          -0.3252      0.038     -8.549      0.000      -0.400      -0.251\n",
       "LDA_02                          -0.4460      0.038    -11.808      0.000      -0.520      -0.372\n",
       "LDA_03                          -0.2983      0.035     -8.438      0.000      -0.368      -0.229\n",
       "LDA_04                          -0.2403      0.034     -7.025      0.000      -0.307      -0.173\n",
       "global_subjectivity              0.4122      0.064      6.413      0.000       0.286       0.538\n",
       "global_sentiment_polarity       -0.1199      0.126     -0.950      0.342      -0.367       0.127\n",
       "global_rate_positive_words      -1.1467      0.542     -2.115      0.034      -2.209      -0.084\n",
       "global_rate_negative_words       0.5253      1.035      0.507      0.612      -1.504       2.555\n",
       "rate_positive_words              0.3060      0.107      2.852      0.004       0.096       0.516\n",
       "rate_negative_words              0.1508      0.121      1.249      0.212      -0.086       0.388\n",
       "avg_positive_polarity            0.0006      0.103      0.005      0.996      -0.202       0.203\n",
       "min_positive_polarity           -0.2658      0.087     -3.071      0.002      -0.435      -0.096\n",
       "max_positive_polarity           -0.0240      0.033     -0.736      0.462      -0.088       0.040\n",
       "avg_negative_polarity           -0.1481      0.095     -1.555      0.120      -0.335       0.039\n",
       "min_negative_polarity            0.0045      0.035      0.129      0.897      -0.064       0.073\n",
       "max_negative_polarity            0.0847      0.079      1.070      0.285      -0.071       0.240\n",
       "title_subjectivity               0.0591      0.021      2.850      0.004       0.018       0.100\n",
       "title_sentiment_polarity         0.0807      0.019      4.260      0.000       0.044       0.118\n",
       "abs_title_subjectivity           0.1410      0.028      5.120      0.000       0.087       0.195\n",
       "abs_title_sentiment_polarity     0.0261      0.030      0.871      0.384      -0.033       0.085\n",
       "==============================================================================\n",
       "Omnibus:                     7288.764   Durbin-Watson:                   1.952\n",
       "Prob(Omnibus):                  0.000   Jarque-Bera (JB):            20339.070\n",
       "Skew:                           0.984   Prob(JB):                         0.00\n",
       "Kurtosis:                       5.905   Cond. No.                     1.04e+16\n",
       "==============================================================================\n",
       "\n",
       "Warnings:\n",
       "[1] Standard Errors assume that the covariance matrix of the errors is correctly specified.\n",
       "[2] The smallest eigenvalue is 2.51e-16. This might indicate that there are\n",
       "strong multicollinearity problems or that the design matrix is singular.\n",
       "\"\"\""
      ]
     },
     "execution_count": 115,
     "metadata": {},
     "output_type": "execute_result"
    }
   ],
   "source": [
    "untouched_features = list(df.columns)\n",
    "untouched_features.remove('shares')\n",
    "untouched_features.remove('log_shares')\n",
    "untouched_features.remove('url')\n",
    "untouched_features.remove('monday')\n",
    "untouched_features.remove('lifestyle')\n",
    "untouched_features.remove('LDA_00')\n",
    "# untouched_features.remove('timedelta')\n",
    "\n",
    "col_list = '+'.join(untouched_features)\n",
    "f = 'log_shares~' + col_list\n",
    "model = ols(formula=f, data=df).fit()\n",
    "model.summary()"
   ]
  },
  {
   "cell_type": "markdown",
   "metadata": {},
   "source": [
    "* R<sup>2</sup> value is very low, so let's see if we can bring it up a bit.\n",
    "* A closer looks at some of the columns shows some suspicious values of 0 and 1 for the rate of certain tokens and token types. Also some values are below 1 for columns that measure in article shares, even though the minimum value for shares is 1.\n",
    "    * Reassign those 0s and 1s to each column's median value.\n",
    "    * Reassign any less-than 1s in columns measuring in shares to 1."
   ]
  },
  {
   "cell_type": "code",
   "execution_count": 116,
   "metadata": {},
   "outputs": [
    {
     "data": {
      "text/plain": [
       "count    39644.000000\n",
       "mean        26.106801\n",
       "std         69.633215\n",
       "min         -1.000000\n",
       "25%         -1.000000\n",
       "50%         -1.000000\n",
       "75%          4.000000\n",
       "max        377.000000\n",
       "Name: kw_min_min, dtype: float64"
      ]
     },
     "execution_count": 116,
     "metadata": {},
     "output_type": "execute_result"
    }
   ],
   "source": [
    "df.kw_min_min.describe()"
   ]
  },
  {
   "cell_type": "code",
   "execution_count": 117,
   "metadata": {},
   "outputs": [],
   "source": [
    "less_set_to_one_cols = ['kw_max_min', 'kw_avg_min', 'kw_min_max', 'kw_avg_max',\n",
    "                        'kw_min_avg', 'kw_max_avg', 'kw_avg_avg']\n",
    "\n",
    "great_set_to_one_cols = ['rate_unique_tokens', 'rate_non_stop_unique_tokens']\n",
    "\n",
    "zero_to_median_cols = ['average_token_length', 'n_tokens_content', 'rate_unique_tokens', 'global_subjectivity',\n",
    "                       'global_rate_positive_words', 'rate_positive_words', 'rate_negative_words', \n",
    "                       'avg_positive_polarity', 'avg_negative_polarity']\n",
    "\n",
    "one_to_median_cols = ['rate_non_stop_unique_tokens', 'rate_positive_words', 'rate_negative_words', \n",
    "                      'avg_positive_polarity']"
   ]
  },
  {
   "cell_type": "code",
   "execution_count": 120,
   "metadata": {},
   "outputs": [],
   "source": [
    "for column in less_set_to_one_cols:\n",
    "    less_set_to_one(df, column)\n",
    "    \n",
    "for column in great_set_to_one_cols:\n",
    "    great_set_to_one(df, column)\n",
    "    \n",
    "for column in zero_to_median_cols:\n",
    "    zero_to_median(df, column)\n",
    "    \n",
    "for column in one_to_median_cols:\n",
    "    one_to_median(df, column)\n",
    "    \n",
    "neg_one_to_median(df, 'avg_negative_polarity')"
   ]
  },
  {
   "cell_type": "code",
   "execution_count": 121,
   "metadata": {},
   "outputs": [
    {
     "data": {
      "text/html": [
       "<table class=\"simpletable\">\n",
       "<caption>OLS Regression Results</caption>\n",
       "<tr>\n",
       "  <th>Dep. Variable:</th>       <td>log_shares</td>    <th>  R-squared:         </th> <td>   0.127</td> \n",
       "</tr>\n",
       "<tr>\n",
       "  <th>Model:</th>                   <td>OLS</td>       <th>  Adj. R-squared:    </th> <td>   0.126</td> \n",
       "</tr>\n",
       "<tr>\n",
       "  <th>Method:</th>             <td>Least Squares</td>  <th>  F-statistic:       </th> <td>   106.5</td> \n",
       "</tr>\n",
       "<tr>\n",
       "  <th>Date:</th>             <td>Wed, 06 May 2020</td> <th>  Prob (F-statistic):</th>  <td>  0.00</td>  \n",
       "</tr>\n",
       "<tr>\n",
       "  <th>Time:</th>                 <td>11:29:41</td>     <th>  Log-Likelihood:    </th> <td> -50708.</td> \n",
       "</tr>\n",
       "<tr>\n",
       "  <th>No. Observations:</th>      <td> 39644</td>      <th>  AIC:               </th> <td>1.015e+05</td>\n",
       "</tr>\n",
       "<tr>\n",
       "  <th>Df Residuals:</th>          <td> 39589</td>      <th>  BIC:               </th> <td>1.020e+05</td>\n",
       "</tr>\n",
       "<tr>\n",
       "  <th>Df Model:</th>              <td>    54</td>      <th>                     </th>     <td> </td>    \n",
       "</tr>\n",
       "<tr>\n",
       "  <th>Covariance Type:</th>      <td>nonrobust</td>    <th>                     </th>     <td> </td>    \n",
       "</tr>\n",
       "</table>\n",
       "<table class=\"simpletable\">\n",
       "<tr>\n",
       "                <td></td>                  <th>coef</th>     <th>std err</th>      <th>t</th>      <th>P>|t|</th>  <th>[0.025</th>    <th>0.975]</th>  \n",
       "</tr>\n",
       "<tr>\n",
       "  <th>Intercept</th>                    <td>    3.1907</td> <td>    3.107</td> <td>    1.027</td> <td> 0.304</td> <td>   -2.899</td> <td>    9.280</td>\n",
       "</tr>\n",
       "<tr>\n",
       "  <th>timedelta</th>                    <td> 7.003e-05</td> <td> 2.96e-05</td> <td>    2.368</td> <td> 0.018</td> <td> 1.21e-05</td> <td>    0.000</td>\n",
       "</tr>\n",
       "<tr>\n",
       "  <th>n_tokens_title</th>               <td>    0.0085</td> <td>    0.002</td> <td>    3.869</td> <td> 0.000</td> <td>    0.004</td> <td>    0.013</td>\n",
       "</tr>\n",
       "<tr>\n",
       "  <th>n_tokens_content</th>             <td>  3.36e-05</td> <td> 1.63e-05</td> <td>    2.055</td> <td> 0.040</td> <td> 1.56e-06</td> <td> 6.56e-05</td>\n",
       "</tr>\n",
       "<tr>\n",
       "  <th>rate_unique_tokens</th>           <td>    0.0971</td> <td>    0.108</td> <td>    0.897</td> <td> 0.370</td> <td>   -0.115</td> <td>    0.309</td>\n",
       "</tr>\n",
       "<tr>\n",
       "  <th>rate_non_stop_words</th>          <td>    0.0012</td> <td>    0.001</td> <td>    1.378</td> <td> 0.168</td> <td>   -0.000</td> <td>    0.003</td>\n",
       "</tr>\n",
       "<tr>\n",
       "  <th>rate_non_stop_unique_tokens</th>  <td>   -0.1198</td> <td>    0.068</td> <td>   -1.766</td> <td> 0.077</td> <td>   -0.253</td> <td>    0.013</td>\n",
       "</tr>\n",
       "<tr>\n",
       "  <th>num_links</th>                    <td>    0.0043</td> <td>    0.001</td> <td>    8.515</td> <td> 0.000</td> <td>    0.003</td> <td>    0.005</td>\n",
       "</tr>\n",
       "<tr>\n",
       "  <th>num_self_links</th>               <td>   -0.0076</td> <td>    0.001</td> <td>   -5.677</td> <td> 0.000</td> <td>   -0.010</td> <td>   -0.005</td>\n",
       "</tr>\n",
       "<tr>\n",
       "  <th>num_imgs</th>                     <td>    0.0028</td> <td>    0.001</td> <td>    4.376</td> <td> 0.000</td> <td>    0.002</td> <td>    0.004</td>\n",
       "</tr>\n",
       "<tr>\n",
       "  <th>num_videos</th>                   <td>    0.0021</td> <td>    0.001</td> <td>    1.796</td> <td> 0.073</td> <td>   -0.000</td> <td>    0.004</td>\n",
       "</tr>\n",
       "<tr>\n",
       "  <th>average_token_length</th>         <td>   -0.0846</td> <td>    0.018</td> <td>   -4.746</td> <td> 0.000</td> <td>   -0.120</td> <td>   -0.050</td>\n",
       "</tr>\n",
       "<tr>\n",
       "  <th>num_keywords</th>                 <td>    0.0121</td> <td>    0.003</td> <td>    4.294</td> <td> 0.000</td> <td>    0.007</td> <td>    0.018</td>\n",
       "</tr>\n",
       "<tr>\n",
       "  <th>entertainment</th>                <td>   -0.1564</td> <td>    0.018</td> <td>   -8.634</td> <td> 0.000</td> <td>   -0.192</td> <td>   -0.121</td>\n",
       "</tr>\n",
       "<tr>\n",
       "  <th>business</th>                     <td>   -0.1124</td> <td>    0.024</td> <td>   -4.624</td> <td> 0.000</td> <td>   -0.160</td> <td>   -0.065</td>\n",
       "</tr>\n",
       "<tr>\n",
       "  <th>social_media</th>                 <td>    0.2106</td> <td>    0.024</td> <td>    8.670</td> <td> 0.000</td> <td>    0.163</td> <td>    0.258</td>\n",
       "</tr>\n",
       "<tr>\n",
       "  <th>tech</th>                         <td>    0.1685</td> <td>    0.020</td> <td>    8.307</td> <td> 0.000</td> <td>    0.129</td> <td>    0.208</td>\n",
       "</tr>\n",
       "<tr>\n",
       "  <th>world</th>                        <td>    0.0130</td> <td>    0.024</td> <td>    0.533</td> <td> 0.594</td> <td>   -0.035</td> <td>    0.061</td>\n",
       "</tr>\n",
       "<tr>\n",
       "  <th>kw_min_min</th>                   <td>    0.0009</td> <td>    0.000</td> <td>    7.200</td> <td> 0.000</td> <td>    0.001</td> <td>    0.001</td>\n",
       "</tr>\n",
       "<tr>\n",
       "  <th>kw_max_min</th>                   <td> 1.709e-05</td> <td> 3.81e-06</td> <td>    4.485</td> <td> 0.000</td> <td> 9.62e-06</td> <td> 2.46e-05</td>\n",
       "</tr>\n",
       "<tr>\n",
       "  <th>kw_avg_min</th>                   <td>   -0.0001</td> <td> 2.34e-05</td> <td>   -5.464</td> <td> 0.000</td> <td>   -0.000</td> <td>-8.21e-05</td>\n",
       "</tr>\n",
       "<tr>\n",
       "  <th>kw_min_max</th>                   <td>-3.755e-07</td> <td> 8.89e-08</td> <td>   -4.222</td> <td> 0.000</td> <td> -5.5e-07</td> <td>-2.01e-07</td>\n",
       "</tr>\n",
       "<tr>\n",
       "  <th>kw_max_max</th>                   <td> 4.348e-08</td> <td> 4.46e-08</td> <td>    0.975</td> <td> 0.330</td> <td>-4.39e-08</td> <td> 1.31e-07</td>\n",
       "</tr>\n",
       "<tr>\n",
       "  <th>kw_avg_max</th>                   <td>-2.585e-07</td> <td> 6.36e-08</td> <td>   -4.064</td> <td> 0.000</td> <td>-3.83e-07</td> <td>-1.34e-07</td>\n",
       "</tr>\n",
       "<tr>\n",
       "  <th>kw_min_avg</th>                   <td>-5.037e-05</td> <td> 5.72e-06</td> <td>   -8.799</td> <td> 0.000</td> <td>-6.16e-05</td> <td>-3.92e-05</td>\n",
       "</tr>\n",
       "<tr>\n",
       "  <th>kw_max_avg</th>                   <td>-4.206e-05</td> <td> 1.91e-06</td> <td>  -21.981</td> <td> 0.000</td> <td>-4.58e-05</td> <td>-3.83e-05</td>\n",
       "</tr>\n",
       "<tr>\n",
       "  <th>kw_avg_avg</th>                   <td>    0.0003</td> <td> 1.09e-05</td> <td>   30.887</td> <td> 0.000</td> <td>    0.000</td> <td>    0.000</td>\n",
       "</tr>\n",
       "<tr>\n",
       "  <th>self_ref_min_shares</th>          <td>  7.16e-07</td> <td> 5.69e-07</td> <td>    1.257</td> <td> 0.209</td> <td>   -4e-07</td> <td> 1.83e-06</td>\n",
       "</tr>\n",
       "<tr>\n",
       "  <th>self_ref_max_shares</th>          <td>-2.523e-08</td> <td> 3.09e-07</td> <td>   -0.082</td> <td> 0.935</td> <td>-6.31e-07</td> <td>  5.8e-07</td>\n",
       "</tr>\n",
       "<tr>\n",
       "  <th>self_ref_avg_shares</th>          <td> 1.501e-06</td> <td>  7.9e-07</td> <td>    1.901</td> <td> 0.057</td> <td>-4.64e-08</td> <td> 3.05e-06</td>\n",
       "</tr>\n",
       "<tr>\n",
       "  <th>tuesday</th>                      <td>   -0.0670</td> <td>    0.015</td> <td>   -4.551</td> <td> 0.000</td> <td>   -0.096</td> <td>   -0.038</td>\n",
       "</tr>\n",
       "<tr>\n",
       "  <th>wednesday</th>                    <td>   -0.0640</td> <td>    0.015</td> <td>   -4.351</td> <td> 0.000</td> <td>   -0.093</td> <td>   -0.035</td>\n",
       "</tr>\n",
       "<tr>\n",
       "  <th>thursday</th>                     <td>   -0.0582</td> <td>    0.015</td> <td>   -3.939</td> <td> 0.000</td> <td>   -0.087</td> <td>   -0.029</td>\n",
       "</tr>\n",
       "<tr>\n",
       "  <th>friday</th>                       <td>    0.0057</td> <td>    0.016</td> <td>    0.362</td> <td> 0.717</td> <td>   -0.025</td> <td>    0.037</td>\n",
       "</tr>\n",
       "<tr>\n",
       "  <th>saturday</th>                     <td>    0.0747</td> <td>    0.013</td> <td>    5.544</td> <td> 0.000</td> <td>    0.048</td> <td>    0.101</td>\n",
       "</tr>\n",
       "<tr>\n",
       "  <th>sunday</th>                       <td>    0.0724</td> <td>    0.013</td> <td>    5.535</td> <td> 0.000</td> <td>    0.047</td> <td>    0.098</td>\n",
       "</tr>\n",
       "<tr>\n",
       "  <th>is_weekend</th>                   <td>    0.1472</td> <td>    0.011</td> <td>   13.560</td> <td> 0.000</td> <td>    0.126</td> <td>    0.168</td>\n",
       "</tr>\n",
       "<tr>\n",
       "  <th>LDA_01</th>                       <td>   -0.3193</td> <td>    0.038</td> <td>   -8.396</td> <td> 0.000</td> <td>   -0.394</td> <td>   -0.245</td>\n",
       "</tr>\n",
       "<tr>\n",
       "  <th>LDA_02</th>                       <td>   -0.4447</td> <td>    0.038</td> <td>  -11.777</td> <td> 0.000</td> <td>   -0.519</td> <td>   -0.371</td>\n",
       "</tr>\n",
       "<tr>\n",
       "  <th>LDA_03</th>                       <td>   -0.2925</td> <td>    0.035</td> <td>   -8.285</td> <td> 0.000</td> <td>   -0.362</td> <td>   -0.223</td>\n",
       "</tr>\n",
       "<tr>\n",
       "  <th>LDA_04</th>                       <td>   -0.2410</td> <td>    0.034</td> <td>   -7.047</td> <td> 0.000</td> <td>   -0.308</td> <td>   -0.174</td>\n",
       "</tr>\n",
       "<tr>\n",
       "  <th>global_subjectivity</th>          <td>    0.4346</td> <td>    0.063</td> <td>    6.919</td> <td> 0.000</td> <td>    0.311</td> <td>    0.558</td>\n",
       "</tr>\n",
       "<tr>\n",
       "  <th>global_sentiment_polarity</th>    <td>   -0.1816</td> <td>    0.113</td> <td>   -1.608</td> <td> 0.108</td> <td>   -0.403</td> <td>    0.040</td>\n",
       "</tr>\n",
       "<tr>\n",
       "  <th>global_rate_positive_words</th>   <td>   -1.4901</td> <td>    0.545</td> <td>   -2.735</td> <td> 0.006</td> <td>   -2.558</td> <td>   -0.422</td>\n",
       "</tr>\n",
       "<tr>\n",
       "  <th>global_rate_negative_words</th>   <td>    1.0675</td> <td>    1.039</td> <td>    1.027</td> <td> 0.304</td> <td>   -0.970</td> <td>    3.105</td>\n",
       "</tr>\n",
       "<tr>\n",
       "  <th>rate_positive_words</th>          <td>    3.6824</td> <td>    3.302</td> <td>    1.115</td> <td> 0.265</td> <td>   -2.789</td> <td>   10.154</td>\n",
       "</tr>\n",
       "<tr>\n",
       "  <th>rate_negative_words</th>          <td>    3.4003</td> <td>    3.342</td> <td>    1.017</td> <td> 0.309</td> <td>   -3.151</td> <td>    9.951</td>\n",
       "</tr>\n",
       "<tr>\n",
       "  <th>avg_positive_polarity</th>        <td>    0.0005</td> <td>    0.093</td> <td>    0.006</td> <td> 0.995</td> <td>   -0.183</td> <td>    0.184</td>\n",
       "</tr>\n",
       "<tr>\n",
       "  <th>min_positive_polarity</th>        <td>   -0.2013</td> <td>    0.081</td> <td>   -2.483</td> <td> 0.013</td> <td>   -0.360</td> <td>   -0.042</td>\n",
       "</tr>\n",
       "<tr>\n",
       "  <th>max_positive_polarity</th>        <td>   -0.0177</td> <td>    0.032</td> <td>   -0.560</td> <td> 0.575</td> <td>   -0.080</td> <td>    0.044</td>\n",
       "</tr>\n",
       "<tr>\n",
       "  <th>avg_negative_polarity</th>        <td>   -0.8083</td> <td>    0.787</td> <td>   -1.027</td> <td> 0.304</td> <td>   -2.351</td> <td>    0.734</td>\n",
       "</tr>\n",
       "<tr>\n",
       "  <th>min_negative_polarity</th>        <td>   -0.0269</td> <td>    0.024</td> <td>   -1.142</td> <td> 0.253</td> <td>   -0.073</td> <td>    0.019</td>\n",
       "</tr>\n",
       "<tr>\n",
       "  <th>max_negative_polarity</th>        <td>    0.0535</td> <td>    0.056</td> <td>    0.952</td> <td> 0.341</td> <td>   -0.057</td> <td>    0.164</td>\n",
       "</tr>\n",
       "<tr>\n",
       "  <th>title_subjectivity</th>           <td>    0.0586</td> <td>    0.021</td> <td>    2.826</td> <td> 0.005</td> <td>    0.018</td> <td>    0.099</td>\n",
       "</tr>\n",
       "<tr>\n",
       "  <th>title_sentiment_polarity</th>     <td>    0.0751</td> <td>    0.019</td> <td>    3.967</td> <td> 0.000</td> <td>    0.038</td> <td>    0.112</td>\n",
       "</tr>\n",
       "<tr>\n",
       "  <th>abs_title_subjectivity</th>       <td>    0.1398</td> <td>    0.028</td> <td>    5.075</td> <td> 0.000</td> <td>    0.086</td> <td>    0.194</td>\n",
       "</tr>\n",
       "<tr>\n",
       "  <th>abs_title_sentiment_polarity</th> <td>    0.0316</td> <td>    0.030</td> <td>    1.058</td> <td> 0.290</td> <td>   -0.027</td> <td>    0.090</td>\n",
       "</tr>\n",
       "</table>\n",
       "<table class=\"simpletable\">\n",
       "<tr>\n",
       "  <th>Omnibus:</th>       <td>7287.281</td> <th>  Durbin-Watson:     </th> <td>   1.952</td> \n",
       "</tr>\n",
       "<tr>\n",
       "  <th>Prob(Omnibus):</th>  <td> 0.000</td>  <th>  Jarque-Bera (JB):  </th> <td>20350.084</td>\n",
       "</tr>\n",
       "<tr>\n",
       "  <th>Skew:</th>           <td> 0.984</td>  <th>  Prob(JB):          </th> <td>    0.00</td> \n",
       "</tr>\n",
       "<tr>\n",
       "  <th>Kurtosis:</th>       <td> 5.907</td>  <th>  Cond. No.          </th> <td>1.04e+16</td> \n",
       "</tr>\n",
       "</table><br/><br/>Warnings:<br/>[1] Standard Errors assume that the covariance matrix of the errors is correctly specified.<br/>[2] The smallest eigenvalue is 2.51e-16. This might indicate that there are<br/>strong multicollinearity problems or that the design matrix is singular."
      ],
      "text/plain": [
       "<class 'statsmodels.iolib.summary.Summary'>\n",
       "\"\"\"\n",
       "                            OLS Regression Results                            \n",
       "==============================================================================\n",
       "Dep. Variable:             log_shares   R-squared:                       0.127\n",
       "Model:                            OLS   Adj. R-squared:                  0.126\n",
       "Method:                 Least Squares   F-statistic:                     106.5\n",
       "Date:                Wed, 06 May 2020   Prob (F-statistic):               0.00\n",
       "Time:                        11:29:41   Log-Likelihood:                -50708.\n",
       "No. Observations:               39644   AIC:                         1.015e+05\n",
       "Df Residuals:                   39589   BIC:                         1.020e+05\n",
       "Df Model:                          54                                         \n",
       "Covariance Type:            nonrobust                                         \n",
       "================================================================================================\n",
       "                                   coef    std err          t      P>|t|      [0.025      0.975]\n",
       "------------------------------------------------------------------------------------------------\n",
       "Intercept                        3.1907      3.107      1.027      0.304      -2.899       9.280\n",
       "timedelta                     7.003e-05   2.96e-05      2.368      0.018    1.21e-05       0.000\n",
       "n_tokens_title                   0.0085      0.002      3.869      0.000       0.004       0.013\n",
       "n_tokens_content               3.36e-05   1.63e-05      2.055      0.040    1.56e-06    6.56e-05\n",
       "rate_unique_tokens               0.0971      0.108      0.897      0.370      -0.115       0.309\n",
       "rate_non_stop_words              0.0012      0.001      1.378      0.168      -0.000       0.003\n",
       "rate_non_stop_unique_tokens     -0.1198      0.068     -1.766      0.077      -0.253       0.013\n",
       "num_links                        0.0043      0.001      8.515      0.000       0.003       0.005\n",
       "num_self_links                  -0.0076      0.001     -5.677      0.000      -0.010      -0.005\n",
       "num_imgs                         0.0028      0.001      4.376      0.000       0.002       0.004\n",
       "num_videos                       0.0021      0.001      1.796      0.073      -0.000       0.004\n",
       "average_token_length            -0.0846      0.018     -4.746      0.000      -0.120      -0.050\n",
       "num_keywords                     0.0121      0.003      4.294      0.000       0.007       0.018\n",
       "entertainment                   -0.1564      0.018     -8.634      0.000      -0.192      -0.121\n",
       "business                        -0.1124      0.024     -4.624      0.000      -0.160      -0.065\n",
       "social_media                     0.2106      0.024      8.670      0.000       0.163       0.258\n",
       "tech                             0.1685      0.020      8.307      0.000       0.129       0.208\n",
       "world                            0.0130      0.024      0.533      0.594      -0.035       0.061\n",
       "kw_min_min                       0.0009      0.000      7.200      0.000       0.001       0.001\n",
       "kw_max_min                    1.709e-05   3.81e-06      4.485      0.000    9.62e-06    2.46e-05\n",
       "kw_avg_min                      -0.0001   2.34e-05     -5.464      0.000      -0.000   -8.21e-05\n",
       "kw_min_max                   -3.755e-07   8.89e-08     -4.222      0.000    -5.5e-07   -2.01e-07\n",
       "kw_max_max                    4.348e-08   4.46e-08      0.975      0.330   -4.39e-08    1.31e-07\n",
       "kw_avg_max                   -2.585e-07   6.36e-08     -4.064      0.000   -3.83e-07   -1.34e-07\n",
       "kw_min_avg                   -5.037e-05   5.72e-06     -8.799      0.000   -6.16e-05   -3.92e-05\n",
       "kw_max_avg                   -4.206e-05   1.91e-06    -21.981      0.000   -4.58e-05   -3.83e-05\n",
       "kw_avg_avg                       0.0003   1.09e-05     30.887      0.000       0.000       0.000\n",
       "self_ref_min_shares            7.16e-07   5.69e-07      1.257      0.209      -4e-07    1.83e-06\n",
       "self_ref_max_shares          -2.523e-08   3.09e-07     -0.082      0.935   -6.31e-07     5.8e-07\n",
       "self_ref_avg_shares           1.501e-06    7.9e-07      1.901      0.057   -4.64e-08    3.05e-06\n",
       "tuesday                         -0.0670      0.015     -4.551      0.000      -0.096      -0.038\n",
       "wednesday                       -0.0640      0.015     -4.351      0.000      -0.093      -0.035\n",
       "thursday                        -0.0582      0.015     -3.939      0.000      -0.087      -0.029\n",
       "friday                           0.0057      0.016      0.362      0.717      -0.025       0.037\n",
       "saturday                         0.0747      0.013      5.544      0.000       0.048       0.101\n",
       "sunday                           0.0724      0.013      5.535      0.000       0.047       0.098\n",
       "is_weekend                       0.1472      0.011     13.560      0.000       0.126       0.168\n",
       "LDA_01                          -0.3193      0.038     -8.396      0.000      -0.394      -0.245\n",
       "LDA_02                          -0.4447      0.038    -11.777      0.000      -0.519      -0.371\n",
       "LDA_03                          -0.2925      0.035     -8.285      0.000      -0.362      -0.223\n",
       "LDA_04                          -0.2410      0.034     -7.047      0.000      -0.308      -0.174\n",
       "global_subjectivity              0.4346      0.063      6.919      0.000       0.311       0.558\n",
       "global_sentiment_polarity       -0.1816      0.113     -1.608      0.108      -0.403       0.040\n",
       "global_rate_positive_words      -1.4901      0.545     -2.735      0.006      -2.558      -0.422\n",
       "global_rate_negative_words       1.0675      1.039      1.027      0.304      -0.970       3.105\n",
       "rate_positive_words              3.6824      3.302      1.115      0.265      -2.789      10.154\n",
       "rate_negative_words              3.4003      3.342      1.017      0.309      -3.151       9.951\n",
       "avg_positive_polarity            0.0005      0.093      0.006      0.995      -0.183       0.184\n",
       "min_positive_polarity           -0.2013      0.081     -2.483      0.013      -0.360      -0.042\n",
       "max_positive_polarity           -0.0177      0.032     -0.560      0.575      -0.080       0.044\n",
       "avg_negative_polarity           -0.8083      0.787     -1.027      0.304      -2.351       0.734\n",
       "min_negative_polarity           -0.0269      0.024     -1.142      0.253      -0.073       0.019\n",
       "max_negative_polarity            0.0535      0.056      0.952      0.341      -0.057       0.164\n",
       "title_subjectivity               0.0586      0.021      2.826      0.005       0.018       0.099\n",
       "title_sentiment_polarity         0.0751      0.019      3.967      0.000       0.038       0.112\n",
       "abs_title_subjectivity           0.1398      0.028      5.075      0.000       0.086       0.194\n",
       "abs_title_sentiment_polarity     0.0316      0.030      1.058      0.290      -0.027       0.090\n",
       "==============================================================================\n",
       "Omnibus:                     7287.281   Durbin-Watson:                   1.952\n",
       "Prob(Omnibus):                  0.000   Jarque-Bera (JB):            20350.084\n",
       "Skew:                           0.984   Prob(JB):                         0.00\n",
       "Kurtosis:                       5.907   Cond. No.                     1.04e+16\n",
       "==============================================================================\n",
       "\n",
       "Warnings:\n",
       "[1] Standard Errors assume that the covariance matrix of the errors is correctly specified.\n",
       "[2] The smallest eigenvalue is 2.51e-16. This might indicate that there are\n",
       "strong multicollinearity problems or that the design matrix is singular.\n",
       "\"\"\""
      ]
     },
     "execution_count": 121,
     "metadata": {},
     "output_type": "execute_result"
    }
   ],
   "source": [
    "cleaner_features = list(df.columns)\n",
    "cleaner_features.remove('shares')\n",
    "cleaner_features.remove('log_shares')\n",
    "cleaner_features.remove('url')\n",
    "cleaner_features.remove('monday')\n",
    "cleaner_features.remove('lifestyle')\n",
    "cleaner_features.remove('LDA_00')\n",
    "# untouched_features.remove('timedelta')\n",
    "\n",
    "col_list = '+'.join(cleaner_features)\n",
    "f = 'log_shares~' + col_list\n",
    "model = ols(formula=f, data=df).fit()\n",
    "model.summary()"
   ]
  },
  {
   "cell_type": "markdown",
   "metadata": {},
   "source": [
    "* A slightly higher F-statistic and adjusted R<sup>2</sup>, but no movement on the actual R<sup>2</sup>.\n",
    "* Let's try categorizing the image and video columns, since the number itself doesn't seem to hold much value."
   ]
  },
  {
   "cell_type": "code",
   "execution_count": 122,
   "metadata": {
    "scrolled": false
   },
   "outputs": [
    {
     "data": {
      "text/plain": [
       "<matplotlib.axes._subplots.AxesSubplot at 0x1363f52e8>"
      ]
     },
     "execution_count": 122,
     "metadata": {},
     "output_type": "execute_result"
    },
    {
     "data": {
      "image/png": "[encoded data removed]",
      "text/plain": [
       "<Figure size 432x288 with 1 Axes>"
      ]
     },
     "metadata": {},
     "output_type": "display_data"
    }
   ],
   "source": [
    "df['has_img'] = np.where(df.num_imgs > 0, 1, 0)\n",
    "df.boxplot('log_shares', 'has_img')"
   ]
  },
  {
   "cell_type": "code",
   "execution_count": 123,
   "metadata": {
    "scrolled": true
   },
   "outputs": [
    {
     "data": {
      "text/plain": [
       "<matplotlib.axes._subplots.AxesSubplot at 0x12bff43c8>"
      ]
     },
     "execution_count": 123,
     "metadata": {},
     "output_type": "execute_result"
    },
    {
     "data": {
      "image/png": "[encoded data removed]",
      "text/plain": [
       "<Figure size 432x288 with 1 Axes>"
      ]
     },
     "metadata": {},
     "output_type": "display_data"
    }
   ],
   "source": [
    "df['has_video'] = np.where(df.num_videos > 0, 1, 0)\n",
    "df.boxplot('log_shares', 'has_video')"
   ]
  },
  {
   "cell_type": "markdown",
   "metadata": {},
   "source": [
    "* Drop unnecessary data, suspicious data, and at least one dummy variable from each category.\n",
    "    * 'rate_non_stop_words' (the rate of non-stop words in the content) only has values of 0 and 1, though values should seemingly be spread out between 0 and 1."
   ]
  },
  {
   "cell_type": "code",
   "execution_count": 130,
   "metadata": {},
   "outputs": [],
   "source": [
    "features = df.drop(columns=['url', 'timedelta', 'shares', 'num_imgs', 'num_videos',\n",
    "                            'rate_non_stop_words', 'kw_max_max', 'kw_min_min', 'self_ref_min_shares',\n",
    "                            'self_ref_max_shares',\n",
    "                            'monday', 'lifestyle',  ])"
   ]
  },
  {
   "cell_type": "code",
   "execution_count": 131,
   "metadata": {},
   "outputs": [
    {
     "data": {
      "text/plain": [
       "Index(['n_tokens_title', 'n_tokens_content', 'rate_unique_tokens',\n",
       "       'rate_non_stop_unique_tokens', 'num_links', 'num_self_links',\n",
       "       'average_token_length', 'num_keywords', 'entertainment', 'business',\n",
       "       'social_media', 'tech', 'world', 'kw_max_min', 'kw_avg_min',\n",
       "       'kw_min_max', 'kw_avg_max', 'kw_min_avg', 'kw_max_avg', 'kw_avg_avg',\n",
       "       'self_ref_avg_shares', 'tuesday', 'wednesday', 'thursday', 'friday',\n",
       "       'saturday', 'sunday', 'is_weekend', 'LDA_00', 'LDA_01', 'LDA_02',\n",
       "       'LDA_03', 'LDA_04', 'global_subjectivity', 'global_sentiment_polarity',\n",
       "       'global_rate_positive_words', 'global_rate_negative_words',\n",
       "       'rate_positive_words', 'rate_negative_words', 'avg_positive_polarity',\n",
       "       'min_positive_polarity', 'max_positive_polarity',\n",
       "       'avg_negative_polarity', 'min_negative_polarity',\n",
       "       'max_negative_polarity', 'title_subjectivity',\n",
       "       'title_sentiment_polarity', 'abs_title_subjectivity',\n",
       "       'abs_title_sentiment_polarity', 'log_shares', 'has_img', 'has_video'],\n",
       "      dtype='object')"
      ]
     },
     "execution_count": 131,
     "metadata": {},
     "output_type": "execute_result"
    }
   ],
   "source": [
    "features.columns"
   ]
  },
  {
   "cell_type": "code",
   "execution_count": 132,
   "metadata": {},
   "outputs": [
    {
     "data": {
      "text/html": [
       "<table class=\"simpletable\">\n",
       "<caption>OLS Regression Results</caption>\n",
       "<tr>\n",
       "  <th>Dep. Variable:</th>       <td>log_shares</td>    <th>  R-squared:         </th> <td>   0.127</td> \n",
       "</tr>\n",
       "<tr>\n",
       "  <th>Model:</th>                   <td>OLS</td>       <th>  Adj. R-squared:    </th> <td>   0.126</td> \n",
       "</tr>\n",
       "<tr>\n",
       "  <th>Method:</th>             <td>Least Squares</td>  <th>  F-statistic:       </th> <td>   117.2</td> \n",
       "</tr>\n",
       "<tr>\n",
       "  <th>Date:</th>             <td>Wed, 06 May 2020</td> <th>  Prob (F-statistic):</th>  <td>  0.00</td>  \n",
       "</tr>\n",
       "<tr>\n",
       "  <th>Time:</th>                 <td>11:45:18</td>     <th>  Log-Likelihood:    </th> <td> -50710.</td> \n",
       "</tr>\n",
       "<tr>\n",
       "  <th>No. Observations:</th>      <td> 39644</td>      <th>  AIC:               </th> <td>1.015e+05</td>\n",
       "</tr>\n",
       "<tr>\n",
       "  <th>Df Residuals:</th>          <td> 39594</td>      <th>  BIC:               </th> <td>1.019e+05</td>\n",
       "</tr>\n",
       "<tr>\n",
       "  <th>Df Model:</th>              <td>    49</td>      <th>                     </th>     <td> </td>    \n",
       "</tr>\n",
       "<tr>\n",
       "  <th>Covariance Type:</th>      <td>nonrobust</td>    <th>                     </th>     <td> </td>    \n",
       "</tr>\n",
       "</table>\n",
       "<table class=\"simpletable\">\n",
       "<tr>\n",
       "                <td></td>                  <th>coef</th>     <th>std err</th>      <th>t</th>      <th>P>|t|</th>  <th>[0.025</th>    <th>0.975]</th>  \n",
       "</tr>\n",
       "<tr>\n",
       "  <th>Intercept</th>                    <td>    4.0951</td> <td>    3.210</td> <td>    1.276</td> <td> 0.202</td> <td>   -2.196</td> <td>   10.387</td>\n",
       "</tr>\n",
       "<tr>\n",
       "  <th>n_tokens_title</th>               <td>    0.0058</td> <td>    0.002</td> <td>    2.650</td> <td> 0.008</td> <td>    0.001</td> <td>    0.010</td>\n",
       "</tr>\n",
       "<tr>\n",
       "  <th>n_tokens_content</th>             <td> 3.112e-05</td> <td> 1.62e-05</td> <td>    1.922</td> <td> 0.055</td> <td> -6.1e-07</td> <td> 6.28e-05</td>\n",
       "</tr>\n",
       "<tr>\n",
       "  <th>rate_unique_tokens</th>           <td>    0.0302</td> <td>    0.111</td> <td>    0.272</td> <td> 0.786</td> <td>   -0.187</td> <td>    0.248</td>\n",
       "</tr>\n",
       "<tr>\n",
       "  <th>rate_non_stop_unique_tokens</th>  <td>   -0.1541</td> <td>    0.067</td> <td>   -2.300</td> <td> 0.021</td> <td>   -0.285</td> <td>   -0.023</td>\n",
       "</tr>\n",
       "<tr>\n",
       "  <th>num_links</th>                    <td>    0.0047</td> <td>    0.000</td> <td>    9.366</td> <td> 0.000</td> <td>    0.004</td> <td>    0.006</td>\n",
       "</tr>\n",
       "<tr>\n",
       "  <th>num_self_links</th>               <td>   -0.0075</td> <td>    0.001</td> <td>   -5.725</td> <td> 0.000</td> <td>   -0.010</td> <td>   -0.005</td>\n",
       "</tr>\n",
       "<tr>\n",
       "  <th>average_token_length</th>         <td>   -0.0631</td> <td>    0.018</td> <td>   -3.522</td> <td> 0.000</td> <td>   -0.098</td> <td>   -0.028</td>\n",
       "</tr>\n",
       "<tr>\n",
       "  <th>num_keywords</th>                 <td>    0.0037</td> <td>    0.003</td> <td>    1.360</td> <td> 0.174</td> <td>   -0.002</td> <td>    0.009</td>\n",
       "</tr>\n",
       "<tr>\n",
       "  <th>entertainment</th>                <td>   -0.2087</td> <td>    0.018</td> <td>  -11.803</td> <td> 0.000</td> <td>   -0.243</td> <td>   -0.174</td>\n",
       "</tr>\n",
       "<tr>\n",
       "  <th>business</th>                     <td>   -0.1023</td> <td>    0.024</td> <td>   -4.209</td> <td> 0.000</td> <td>   -0.150</td> <td>   -0.055</td>\n",
       "</tr>\n",
       "<tr>\n",
       "  <th>social_media</th>                 <td>    0.1835</td> <td>    0.024</td> <td>    7.597</td> <td> 0.000</td> <td>    0.136</td> <td>    0.231</td>\n",
       "</tr>\n",
       "<tr>\n",
       "  <th>tech</th>                         <td>    0.1521</td> <td>    0.020</td> <td>    7.512</td> <td> 0.000</td> <td>    0.112</td> <td>    0.192</td>\n",
       "</tr>\n",
       "<tr>\n",
       "  <th>world</th>                        <td>   -0.0285</td> <td>    0.024</td> <td>   -1.186</td> <td> 0.236</td> <td>   -0.076</td> <td>    0.019</td>\n",
       "</tr>\n",
       "<tr>\n",
       "  <th>kw_max_min</th>                   <td> 1.209e-05</td> <td> 3.75e-06</td> <td>    3.220</td> <td> 0.001</td> <td> 4.73e-06</td> <td> 1.94e-05</td>\n",
       "</tr>\n",
       "<tr>\n",
       "  <th>kw_avg_min</th>                   <td>-9.514e-05</td> <td>  2.3e-05</td> <td>   -4.134</td> <td> 0.000</td> <td>   -0.000</td> <td>   -5e-05</td>\n",
       "</tr>\n",
       "<tr>\n",
       "  <th>kw_min_max</th>                   <td>-1.733e-07</td> <td> 8.66e-08</td> <td>   -2.002</td> <td> 0.045</td> <td>-3.43e-07</td> <td>-3.62e-09</td>\n",
       "</tr>\n",
       "<tr>\n",
       "  <th>kw_avg_max</th>                   <td> -6.89e-07</td> <td> 5.16e-08</td> <td>  -13.363</td> <td> 0.000</td> <td> -7.9e-07</td> <td>-5.88e-07</td>\n",
       "</tr>\n",
       "<tr>\n",
       "  <th>kw_min_avg</th>                   <td>-4.629e-05</td> <td> 5.71e-06</td> <td>   -8.112</td> <td> 0.000</td> <td>-5.75e-05</td> <td>-3.51e-05</td>\n",
       "</tr>\n",
       "<tr>\n",
       "  <th>kw_max_avg</th>                   <td>-4.128e-05</td> <td>  1.9e-06</td> <td>  -21.743</td> <td> 0.000</td> <td> -4.5e-05</td> <td>-3.76e-05</td>\n",
       "</tr>\n",
       "<tr>\n",
       "  <th>kw_avg_avg</th>                   <td>    0.0003</td> <td> 1.08e-05</td> <td>   30.609</td> <td> 0.000</td> <td>    0.000</td> <td>    0.000</td>\n",
       "</tr>\n",
       "<tr>\n",
       "  <th>self_ref_avg_shares</th>          <td> 1.981e-06</td> <td> 1.85e-07</td> <td>   10.718</td> <td> 0.000</td> <td> 1.62e-06</td> <td> 2.34e-06</td>\n",
       "</tr>\n",
       "<tr>\n",
       "  <th>tuesday</th>                      <td>   -0.0683</td> <td>    0.015</td> <td>   -4.639</td> <td> 0.000</td> <td>   -0.097</td> <td>   -0.039</td>\n",
       "</tr>\n",
       "<tr>\n",
       "  <th>wednesday</th>                    <td>   -0.0641</td> <td>    0.015</td> <td>   -4.359</td> <td> 0.000</td> <td>   -0.093</td> <td>   -0.035</td>\n",
       "</tr>\n",
       "<tr>\n",
       "  <th>thursday</th>                     <td>   -0.0565</td> <td>    0.015</td> <td>   -3.823</td> <td> 0.000</td> <td>   -0.085</td> <td>   -0.028</td>\n",
       "</tr>\n",
       "<tr>\n",
       "  <th>friday</th>                       <td>    0.0062</td> <td>    0.016</td> <td>    0.393</td> <td> 0.694</td> <td>   -0.025</td> <td>    0.037</td>\n",
       "</tr>\n",
       "<tr>\n",
       "  <th>saturday</th>                     <td>    0.0763</td> <td>    0.013</td> <td>    5.662</td> <td> 0.000</td> <td>    0.050</td> <td>    0.103</td>\n",
       "</tr>\n",
       "<tr>\n",
       "  <th>sunday</th>                       <td>    0.0730</td> <td>    0.013</td> <td>    5.583</td> <td> 0.000</td> <td>    0.047</td> <td>    0.099</td>\n",
       "</tr>\n",
       "<tr>\n",
       "  <th>is_weekend</th>                   <td>    0.1494</td> <td>    0.011</td> <td>   13.767</td> <td> 0.000</td> <td>    0.128</td> <td>    0.171</td>\n",
       "</tr>\n",
       "<tr>\n",
       "  <th>LDA_00</th>                       <td>   -1.4421</td> <td>    0.873</td> <td>   -1.653</td> <td> 0.098</td> <td>   -3.152</td> <td>    0.268</td>\n",
       "</tr>\n",
       "<tr>\n",
       "  <th>LDA_01</th>                       <td>   -1.7531</td> <td>    0.872</td> <td>   -2.010</td> <td> 0.044</td> <td>   -3.462</td> <td>   -0.044</td>\n",
       "</tr>\n",
       "<tr>\n",
       "  <th>LDA_02</th>                       <td>   -1.8916</td> <td>    0.872</td> <td>   -2.168</td> <td> 0.030</td> <td>   -3.602</td> <td>   -0.182</td>\n",
       "</tr>\n",
       "<tr>\n",
       "  <th>LDA_03</th>                       <td>   -1.7130</td> <td>    0.872</td> <td>   -1.964</td> <td> 0.050</td> <td>   -3.422</td> <td>   -0.004</td>\n",
       "</tr>\n",
       "<tr>\n",
       "  <th>LDA_04</th>                       <td>   -1.6902</td> <td>    0.872</td> <td>   -1.937</td> <td> 0.053</td> <td>   -3.400</td> <td>    0.020</td>\n",
       "</tr>\n",
       "<tr>\n",
       "  <th>global_subjectivity</th>          <td>    0.4285</td> <td>    0.063</td> <td>    6.820</td> <td> 0.000</td> <td>    0.305</td> <td>    0.552</td>\n",
       "</tr>\n",
       "<tr>\n",
       "  <th>global_sentiment_polarity</th>    <td>   -0.1299</td> <td>    0.113</td> <td>   -1.154</td> <td> 0.249</td> <td>   -0.351</td> <td>    0.091</td>\n",
       "</tr>\n",
       "<tr>\n",
       "  <th>global_rate_positive_words</th>   <td>   -1.6893</td> <td>    0.544</td> <td>   -3.106</td> <td> 0.002</td> <td>   -2.755</td> <td>   -0.623</td>\n",
       "</tr>\n",
       "<tr>\n",
       "  <th>global_rate_negative_words</th>   <td>    1.6476</td> <td>    1.031</td> <td>    1.598</td> <td> 0.110</td> <td>   -0.373</td> <td>    3.669</td>\n",
       "</tr>\n",
       "<tr>\n",
       "  <th>rate_positive_words</th>          <td>    4.4171</td> <td>    3.300</td> <td>    1.338</td> <td> 0.181</td> <td>   -2.051</td> <td>   10.885</td>\n",
       "</tr>\n",
       "<tr>\n",
       "  <th>rate_negative_words</th>          <td>    4.1201</td> <td>    3.340</td> <td>    1.233</td> <td> 0.217</td> <td>   -2.427</td> <td>   10.668</td>\n",
       "</tr>\n",
       "<tr>\n",
       "  <th>avg_positive_polarity</th>        <td>   -0.0277</td> <td>    0.093</td> <td>   -0.298</td> <td> 0.766</td> <td>   -0.210</td> <td>    0.155</td>\n",
       "</tr>\n",
       "<tr>\n",
       "  <th>min_positive_polarity</th>        <td>   -0.1826</td> <td>    0.081</td> <td>   -2.259</td> <td> 0.024</td> <td>   -0.341</td> <td>   -0.024</td>\n",
       "</tr>\n",
       "<tr>\n",
       "  <th>max_positive_polarity</th>        <td>   -0.0062</td> <td>    0.031</td> <td>   -0.199</td> <td> 0.843</td> <td>   -0.068</td> <td>    0.055</td>\n",
       "</tr>\n",
       "<tr>\n",
       "  <th>avg_negative_polarity</th>        <td>   -1.0374</td> <td>    0.813</td> <td>   -1.276</td> <td> 0.202</td> <td>   -2.631</td> <td>    0.556</td>\n",
       "</tr>\n",
       "<tr>\n",
       "  <th>min_negative_polarity</th>        <td>   -0.0189</td> <td>    0.024</td> <td>   -0.802</td> <td> 0.423</td> <td>   -0.065</td> <td>    0.027</td>\n",
       "</tr>\n",
       "<tr>\n",
       "  <th>max_negative_polarity</th>        <td>    0.0388</td> <td>    0.056</td> <td>    0.692</td> <td> 0.489</td> <td>   -0.071</td> <td>    0.149</td>\n",
       "</tr>\n",
       "<tr>\n",
       "  <th>title_subjectivity</th>           <td>    0.0552</td> <td>    0.021</td> <td>    2.664</td> <td> 0.008</td> <td>    0.015</td> <td>    0.096</td>\n",
       "</tr>\n",
       "<tr>\n",
       "  <th>title_sentiment_polarity</th>     <td>    0.0792</td> <td>    0.019</td> <td>    4.188</td> <td> 0.000</td> <td>    0.042</td> <td>    0.116</td>\n",
       "</tr>\n",
       "<tr>\n",
       "  <th>abs_title_subjectivity</th>       <td>    0.1356</td> <td>    0.028</td> <td>    4.923</td> <td> 0.000</td> <td>    0.082</td> <td>    0.190</td>\n",
       "</tr>\n",
       "<tr>\n",
       "  <th>abs_title_sentiment_polarity</th> <td>    0.0329</td> <td>    0.030</td> <td>    1.099</td> <td> 0.272</td> <td>   -0.026</td> <td>    0.091</td>\n",
       "</tr>\n",
       "<tr>\n",
       "  <th>has_img</th>                      <td>   -0.0210</td> <td>    0.014</td> <td>   -1.523</td> <td> 0.128</td> <td>   -0.048</td> <td>    0.006</td>\n",
       "</tr>\n",
       "<tr>\n",
       "  <th>has_video</th>                    <td>    0.1120</td> <td>    0.010</td> <td>   10.896</td> <td> 0.000</td> <td>    0.092</td> <td>    0.132</td>\n",
       "</tr>\n",
       "</table>\n",
       "<table class=\"simpletable\">\n",
       "<tr>\n",
       "  <th>Omnibus:</th>       <td>7206.070</td> <th>  Durbin-Watson:     </th> <td>   1.949</td> \n",
       "</tr>\n",
       "<tr>\n",
       "  <th>Prob(Omnibus):</th>  <td> 0.000</td>  <th>  Jarque-Bera (JB):  </th> <td>19949.355</td>\n",
       "</tr>\n",
       "<tr>\n",
       "  <th>Skew:</th>           <td> 0.976</td>  <th>  Prob(JB):          </th> <td>    0.00</td> \n",
       "</tr>\n",
       "<tr>\n",
       "  <th>Kurtosis:</th>       <td> 5.875</td>  <th>  Cond. No.          </th> <td>1.13e+16</td> \n",
       "</tr>\n",
       "</table><br/><br/>Warnings:<br/>[1] Standard Errors assume that the covariance matrix of the errors is correctly specified.<br/>[2] The smallest eigenvalue is 2.67e-17. This might indicate that there are<br/>strong multicollinearity problems or that the design matrix is singular."
      ],
      "text/plain": [
       "<class 'statsmodels.iolib.summary.Summary'>\n",
       "\"\"\"\n",
       "                            OLS Regression Results                            \n",
       "==============================================================================\n",
       "Dep. Variable:             log_shares   R-squared:                       0.127\n",
       "Model:                            OLS   Adj. R-squared:                  0.126\n",
       "Method:                 Least Squares   F-statistic:                     117.2\n",
       "Date:                Wed, 06 May 2020   Prob (F-statistic):               0.00\n",
       "Time:                        11:45:18   Log-Likelihood:                -50710.\n",
       "No. Observations:               39644   AIC:                         1.015e+05\n",
       "Df Residuals:                   39594   BIC:                         1.019e+05\n",
       "Df Model:                          49                                         \n",
       "Covariance Type:            nonrobust                                         \n",
       "================================================================================================\n",
       "                                   coef    std err          t      P>|t|      [0.025      0.975]\n",
       "------------------------------------------------------------------------------------------------\n",
       "Intercept                        4.0951      3.210      1.276      0.202      -2.196      10.387\n",
       "n_tokens_title                   0.0058      0.002      2.650      0.008       0.001       0.010\n",
       "n_tokens_content              3.112e-05   1.62e-05      1.922      0.055    -6.1e-07    6.28e-05\n",
       "rate_unique_tokens               0.0302      0.111      0.272      0.786      -0.187       0.248\n",
       "rate_non_stop_unique_tokens     -0.1541      0.067     -2.300      0.021      -0.285      -0.023\n",
       "num_links                        0.0047      0.000      9.366      0.000       0.004       0.006\n",
       "num_self_links                  -0.0075      0.001     -5.725      0.000      -0.010      -0.005\n",
       "average_token_length            -0.0631      0.018     -3.522      0.000      -0.098      -0.028\n",
       "num_keywords                     0.0037      0.003      1.360      0.174      -0.002       0.009\n",
       "entertainment                   -0.2087      0.018    -11.803      0.000      -0.243      -0.174\n",
       "business                        -0.1023      0.024     -4.209      0.000      -0.150      -0.055\n",
       "social_media                     0.1835      0.024      7.597      0.000       0.136       0.231\n",
       "tech                             0.1521      0.020      7.512      0.000       0.112       0.192\n",
       "world                           -0.0285      0.024     -1.186      0.236      -0.076       0.019\n",
       "kw_max_min                    1.209e-05   3.75e-06      3.220      0.001    4.73e-06    1.94e-05\n",
       "kw_avg_min                   -9.514e-05    2.3e-05     -4.134      0.000      -0.000      -5e-05\n",
       "kw_min_max                   -1.733e-07   8.66e-08     -2.002      0.045   -3.43e-07   -3.62e-09\n",
       "kw_avg_max                    -6.89e-07   5.16e-08    -13.363      0.000    -7.9e-07   -5.88e-07\n",
       "kw_min_avg                   -4.629e-05   5.71e-06     -8.112      0.000   -5.75e-05   -3.51e-05\n",
       "kw_max_avg                   -4.128e-05    1.9e-06    -21.743      0.000    -4.5e-05   -3.76e-05\n",
       "kw_avg_avg                       0.0003   1.08e-05     30.609      0.000       0.000       0.000\n",
       "self_ref_avg_shares           1.981e-06   1.85e-07     10.718      0.000    1.62e-06    2.34e-06\n",
       "tuesday                         -0.0683      0.015     -4.639      0.000      -0.097      -0.039\n",
       "wednesday                       -0.0641      0.015     -4.359      0.000      -0.093      -0.035\n",
       "thursday                        -0.0565      0.015     -3.823      0.000      -0.085      -0.028\n",
       "friday                           0.0062      0.016      0.393      0.694      -0.025       0.037\n",
       "saturday                         0.0763      0.013      5.662      0.000       0.050       0.103\n",
       "sunday                           0.0730      0.013      5.583      0.000       0.047       0.099\n",
       "is_weekend                       0.1494      0.011     13.767      0.000       0.128       0.171\n",
       "LDA_00                          -1.4421      0.873     -1.653      0.098      -3.152       0.268\n",
       "LDA_01                          -1.7531      0.872     -2.010      0.044      -3.462      -0.044\n",
       "LDA_02                          -1.8916      0.872     -2.168      0.030      -3.602      -0.182\n",
       "LDA_03                          -1.7130      0.872     -1.964      0.050      -3.422      -0.004\n",
       "LDA_04                          -1.6902      0.872     -1.937      0.053      -3.400       0.020\n",
       "global_subjectivity              0.4285      0.063      6.820      0.000       0.305       0.552\n",
       "global_sentiment_polarity       -0.1299      0.113     -1.154      0.249      -0.351       0.091\n",
       "global_rate_positive_words      -1.6893      0.544     -3.106      0.002      -2.755      -0.623\n",
       "global_rate_negative_words       1.6476      1.031      1.598      0.110      -0.373       3.669\n",
       "rate_positive_words              4.4171      3.300      1.338      0.181      -2.051      10.885\n",
       "rate_negative_words              4.1201      3.340      1.233      0.217      -2.427      10.668\n",
       "avg_positive_polarity           -0.0277      0.093     -0.298      0.766      -0.210       0.155\n",
       "min_positive_polarity           -0.1826      0.081     -2.259      0.024      -0.341      -0.024\n",
       "max_positive_polarity           -0.0062      0.031     -0.199      0.843      -0.068       0.055\n",
       "avg_negative_polarity           -1.0374      0.813     -1.276      0.202      -2.631       0.556\n",
       "min_negative_polarity           -0.0189      0.024     -0.802      0.423      -0.065       0.027\n",
       "max_negative_polarity            0.0388      0.056      0.692      0.489      -0.071       0.149\n",
       "title_subjectivity               0.0552      0.021      2.664      0.008       0.015       0.096\n",
       "title_sentiment_polarity         0.0792      0.019      4.188      0.000       0.042       0.116\n",
       "abs_title_subjectivity           0.1356      0.028      4.923      0.000       0.082       0.190\n",
       "abs_title_sentiment_polarity     0.0329      0.030      1.099      0.272      -0.026       0.091\n",
       "has_img                         -0.0210      0.014     -1.523      0.128      -0.048       0.006\n",
       "has_video                        0.1120      0.010     10.896      0.000       0.092       0.132\n",
       "==============================================================================\n",
       "Omnibus:                     7206.070   Durbin-Watson:                   1.949\n",
       "Prob(Omnibus):                  0.000   Jarque-Bera (JB):            19949.355\n",
       "Skew:                           0.976   Prob(JB):                         0.00\n",
       "Kurtosis:                       5.875   Cond. No.                     1.13e+16\n",
       "==============================================================================\n",
       "\n",
       "Warnings:\n",
       "[1] Standard Errors assume that the covariance matrix of the errors is correctly specified.\n",
       "[2] The smallest eigenvalue is 2.67e-17. This might indicate that there are\n",
       "strong multicollinearity problems or that the design matrix is singular.\n",
       "\"\"\""
      ]
     },
     "execution_count": 132,
     "metadata": {},
     "output_type": "execute_result"
    }
   ],
   "source": [
    "f_list = list(features.columns)\n",
    "f_list.remove('log_shares')\n",
    "\n",
    "col_list = '+'.join(f_list)\n",
    "f = 'log_shares~' + col_list\n",
    "model = ols(formula=f, data=features).fit()\n",
    "model.summary()"
   ]
  },
  {
   "cell_type": "markdown",
   "metadata": {},
   "source": [
    "* Let's try removing some very high P-values."
   ]
  },
  {
   "cell_type": "code",
   "execution_count": 133,
   "metadata": {},
   "outputs": [
    {
     "data": {
      "text/html": [
       "<table class=\"simpletable\">\n",
       "<caption>OLS Regression Results</caption>\n",
       "<tr>\n",
       "  <th>Dep. Variable:</th>       <td>log_shares</td>    <th>  R-squared:         </th> <td>   0.127</td> \n",
       "</tr>\n",
       "<tr>\n",
       "  <th>Model:</th>                   <td>OLS</td>       <th>  Adj. R-squared:    </th> <td>   0.126</td> \n",
       "</tr>\n",
       "<tr>\n",
       "  <th>Method:</th>             <td>Least Squares</td>  <th>  F-statistic:       </th> <td>   143.4</td> \n",
       "</tr>\n",
       "<tr>\n",
       "  <th>Date:</th>             <td>Wed, 06 May 2020</td> <th>  Prob (F-statistic):</th>  <td>  0.00</td>  \n",
       "</tr>\n",
       "<tr>\n",
       "  <th>Time:</th>                 <td>11:47:47</td>     <th>  Log-Likelihood:    </th> <td> -50714.</td> \n",
       "</tr>\n",
       "<tr>\n",
       "  <th>No. Observations:</th>      <td> 39644</td>      <th>  AIC:               </th> <td>1.015e+05</td>\n",
       "</tr>\n",
       "<tr>\n",
       "  <th>Df Residuals:</th>          <td> 39603</td>      <th>  BIC:               </th> <td>1.019e+05</td>\n",
       "</tr>\n",
       "<tr>\n",
       "  <th>Df Model:</th>              <td>    40</td>      <th>                     </th>     <td> </td>    \n",
       "</tr>\n",
       "<tr>\n",
       "  <th>Covariance Type:</th>      <td>nonrobust</td>    <th>                     </th>     <td> </td>    \n",
       "</tr>\n",
       "</table>\n",
       "<table class=\"simpletable\">\n",
       "<tr>\n",
       "               <td></td>                  <th>coef</th>     <th>std err</th>      <th>t</th>      <th>P>|t|</th>  <th>[0.025</th>    <th>0.975]</th>  \n",
       "</tr>\n",
       "<tr>\n",
       "  <th>Intercept</th>                   <td>    3.9818</td> <td>    2.810</td> <td>    1.417</td> <td> 0.156</td> <td>   -1.526</td> <td>    9.490</td>\n",
       "</tr>\n",
       "<tr>\n",
       "  <th>n_tokens_title</th>              <td>    0.0056</td> <td>    0.002</td> <td>    2.583</td> <td> 0.010</td> <td>    0.001</td> <td>    0.010</td>\n",
       "</tr>\n",
       "<tr>\n",
       "  <th>n_tokens_content</th>            <td> 2.911e-05</td> <td> 1.26e-05</td> <td>    2.310</td> <td> 0.021</td> <td> 4.41e-06</td> <td> 5.38e-05</td>\n",
       "</tr>\n",
       "<tr>\n",
       "  <th>rate_non_stop_unique_tokens</th> <td>   -0.1647</td> <td>    0.038</td> <td>   -4.290</td> <td> 0.000</td> <td>   -0.240</td> <td>   -0.089</td>\n",
       "</tr>\n",
       "<tr>\n",
       "  <th>num_links</th>                   <td>    0.0047</td> <td>    0.000</td> <td>    9.445</td> <td> 0.000</td> <td>    0.004</td> <td>    0.006</td>\n",
       "</tr>\n",
       "<tr>\n",
       "  <th>num_self_links</th>              <td>   -0.0075</td> <td>    0.001</td> <td>   -5.755</td> <td> 0.000</td> <td>   -0.010</td> <td>   -0.005</td>\n",
       "</tr>\n",
       "<tr>\n",
       "  <th>average_token_length</th>        <td>   -0.0640</td> <td>    0.018</td> <td>   -3.644</td> <td> 0.000</td> <td>   -0.098</td> <td>   -0.030</td>\n",
       "</tr>\n",
       "<tr>\n",
       "  <th>num_keywords</th>                <td>    0.0036</td> <td>    0.003</td> <td>    1.311</td> <td> 0.190</td> <td>   -0.002</td> <td>    0.009</td>\n",
       "</tr>\n",
       "<tr>\n",
       "  <th>entertainment</th>               <td>   -0.2024</td> <td>    0.017</td> <td>  -12.108</td> <td> 0.000</td> <td>   -0.235</td> <td>   -0.170</td>\n",
       "</tr>\n",
       "<tr>\n",
       "  <th>business</th>                    <td>   -0.0923</td> <td>    0.022</td> <td>   -4.115</td> <td> 0.000</td> <td>   -0.136</td> <td>   -0.048</td>\n",
       "</tr>\n",
       "<tr>\n",
       "  <th>social_media</th>                <td>    0.1944</td> <td>    0.022</td> <td>    8.801</td> <td> 0.000</td> <td>    0.151</td> <td>    0.238</td>\n",
       "</tr>\n",
       "<tr>\n",
       "  <th>tech</th>                        <td>    0.1618</td> <td>    0.018</td> <td>    8.972</td> <td> 0.000</td> <td>    0.126</td> <td>    0.197</td>\n",
       "</tr>\n",
       "<tr>\n",
       "  <th>kw_max_min</th>                  <td> 1.223e-05</td> <td> 3.75e-06</td> <td>    3.260</td> <td> 0.001</td> <td> 4.88e-06</td> <td> 1.96e-05</td>\n",
       "</tr>\n",
       "<tr>\n",
       "  <th>kw_avg_min</th>                  <td>-9.594e-05</td> <td>  2.3e-05</td> <td>   -4.170</td> <td> 0.000</td> <td>   -0.000</td> <td>-5.08e-05</td>\n",
       "</tr>\n",
       "<tr>\n",
       "  <th>kw_min_max</th>                  <td>-1.747e-07</td> <td> 8.66e-08</td> <td>   -2.017</td> <td> 0.044</td> <td>-3.44e-07</td> <td>-4.97e-09</td>\n",
       "</tr>\n",
       "<tr>\n",
       "  <th>kw_avg_max</th>                  <td>-6.872e-07</td> <td> 5.15e-08</td> <td>  -13.346</td> <td> 0.000</td> <td>-7.88e-07</td> <td>-5.86e-07</td>\n",
       "</tr>\n",
       "<tr>\n",
       "  <th>kw_min_avg</th>                  <td>-4.687e-05</td> <td> 5.69e-06</td> <td>   -8.236</td> <td> 0.000</td> <td> -5.8e-05</td> <td>-3.57e-05</td>\n",
       "</tr>\n",
       "<tr>\n",
       "  <th>kw_max_avg</th>                  <td>-4.162e-05</td> <td> 1.88e-06</td> <td>  -22.114</td> <td> 0.000</td> <td>-4.53e-05</td> <td>-3.79e-05</td>\n",
       "</tr>\n",
       "<tr>\n",
       "  <th>kw_avg_avg</th>                  <td>    0.0003</td> <td> 1.06e-05</td> <td>   31.232</td> <td> 0.000</td> <td>    0.000</td> <td>    0.000</td>\n",
       "</tr>\n",
       "<tr>\n",
       "  <th>self_ref_avg_shares</th>         <td>  1.98e-06</td> <td> 1.85e-07</td> <td>   10.718</td> <td> 0.000</td> <td> 1.62e-06</td> <td> 2.34e-06</td>\n",
       "</tr>\n",
       "<tr>\n",
       "  <th>tuesday</th>                     <td>   -0.0709</td> <td>    0.013</td> <td>   -5.541</td> <td> 0.000</td> <td>   -0.096</td> <td>   -0.046</td>\n",
       "</tr>\n",
       "<tr>\n",
       "  <th>wednesday</th>                   <td>   -0.0666</td> <td>    0.013</td> <td>   -5.210</td> <td> 0.000</td> <td>   -0.092</td> <td>   -0.042</td>\n",
       "</tr>\n",
       "<tr>\n",
       "  <th>thursday</th>                    <td>   -0.0594</td> <td>    0.013</td> <td>   -4.618</td> <td> 0.000</td> <td>   -0.085</td> <td>   -0.034</td>\n",
       "</tr>\n",
       "<tr>\n",
       "  <th>saturday</th>                    <td>    0.0755</td> <td>    0.013</td> <td>    5.693</td> <td> 0.000</td> <td>    0.049</td> <td>    0.101</td>\n",
       "</tr>\n",
       "<tr>\n",
       "  <th>sunday</th>                      <td>    0.0721</td> <td>    0.013</td> <td>    5.609</td> <td> 0.000</td> <td>    0.047</td> <td>    0.097</td>\n",
       "</tr>\n",
       "<tr>\n",
       "  <th>is_weekend</th>                  <td>    0.1476</td> <td>    0.010</td> <td>   15.218</td> <td> 0.000</td> <td>    0.129</td> <td>    0.167</td>\n",
       "</tr>\n",
       "<tr>\n",
       "  <th>LDA_00</th>                      <td>   -1.4779</td> <td>    0.871</td> <td>   -1.696</td> <td> 0.090</td> <td>   -3.186</td> <td>    0.230</td>\n",
       "</tr>\n",
       "<tr>\n",
       "  <th>LDA_01</th>                      <td>   -1.7831</td> <td>    0.871</td> <td>   -2.047</td> <td> 0.041</td> <td>   -3.490</td> <td>   -0.076</td>\n",
       "</tr>\n",
       "<tr>\n",
       "  <th>LDA_02</th>                      <td>   -1.9463</td> <td>    0.871</td> <td>   -2.235</td> <td> 0.025</td> <td>   -3.654</td> <td>   -0.239</td>\n",
       "</tr>\n",
       "<tr>\n",
       "  <th>LDA_03</th>                      <td>   -1.7425</td> <td>    0.871</td> <td>   -2.001</td> <td> 0.045</td> <td>   -3.450</td> <td>   -0.035</td>\n",
       "</tr>\n",
       "<tr>\n",
       "  <th>LDA_04</th>                      <td>   -1.7255</td> <td>    0.871</td> <td>   -1.981</td> <td> 0.048</td> <td>   -3.433</td> <td>   -0.018</td>\n",
       "</tr>\n",
       "<tr>\n",
       "  <th>global_subjectivity</th>         <td>    0.4151</td> <td>    0.058</td> <td>    7.106</td> <td> 0.000</td> <td>    0.301</td> <td>    0.530</td>\n",
       "</tr>\n",
       "<tr>\n",
       "  <th>global_rate_positive_words</th>  <td>   -1.8621</td> <td>    0.500</td> <td>   -3.724</td> <td> 0.000</td> <td>   -2.842</td> <td>   -0.882</td>\n",
       "</tr>\n",
       "<tr>\n",
       "  <th>global_rate_negative_words</th>  <td>    1.9960</td> <td>    0.988</td> <td>    2.019</td> <td> 0.043</td> <td>    0.059</td> <td>    3.933</td>\n",
       "</tr>\n",
       "<tr>\n",
       "  <th>rate_positive_words</th>         <td>    4.5686</td> <td>    2.884</td> <td>    1.584</td> <td> 0.113</td> <td>   -1.083</td> <td>   10.220</td>\n",
       "</tr>\n",
       "<tr>\n",
       "  <th>rate_negative_words</th>         <td>    4.3294</td> <td>    2.930</td> <td>    1.477</td> <td> 0.140</td> <td>   -1.414</td> <td>   10.073</td>\n",
       "</tr>\n",
       "<tr>\n",
       "  <th>min_positive_polarity</th>       <td>   -0.2381</td> <td>    0.071</td> <td>   -3.333</td> <td> 0.001</td> <td>   -0.378</td> <td>   -0.098</td>\n",
       "</tr>\n",
       "<tr>\n",
       "  <th>avg_negative_polarity</th>       <td>   -1.0087</td> <td>    0.712</td> <td>   -1.417</td> <td> 0.156</td> <td>   -2.404</td> <td>    0.387</td>\n",
       "</tr>\n",
       "<tr>\n",
       "  <th>title_subjectivity</th>          <td>    0.0703</td> <td>    0.016</td> <td>    4.384</td> <td> 0.000</td> <td>    0.039</td> <td>    0.102</td>\n",
       "</tr>\n",
       "<tr>\n",
       "  <th>title_sentiment_polarity</th>    <td>    0.0821</td> <td>    0.018</td> <td>    4.668</td> <td> 0.000</td> <td>    0.048</td> <td>    0.117</td>\n",
       "</tr>\n",
       "<tr>\n",
       "  <th>abs_title_subjectivity</th>      <td>    0.1327</td> <td>    0.027</td> <td>    4.830</td> <td> 0.000</td> <td>    0.079</td> <td>    0.187</td>\n",
       "</tr>\n",
       "<tr>\n",
       "  <th>has_img</th>                     <td>   -0.0242</td> <td>    0.013</td> <td>   -1.840</td> <td> 0.066</td> <td>   -0.050</td> <td>    0.002</td>\n",
       "</tr>\n",
       "<tr>\n",
       "  <th>has_video</th>                   <td>    0.1121</td> <td>    0.010</td> <td>   10.920</td> <td> 0.000</td> <td>    0.092</td> <td>    0.132</td>\n",
       "</tr>\n",
       "</table>\n",
       "<table class=\"simpletable\">\n",
       "<tr>\n",
       "  <th>Omnibus:</th>       <td>7209.487</td> <th>  Durbin-Watson:     </th> <td>   1.949</td> \n",
       "</tr>\n",
       "<tr>\n",
       "  <th>Prob(Omnibus):</th>  <td> 0.000</td>  <th>  Jarque-Bera (JB):  </th> <td>19973.359</td>\n",
       "</tr>\n",
       "<tr>\n",
       "  <th>Skew:</th>           <td> 0.976</td>  <th>  Prob(JB):          </th> <td>    0.00</td> \n",
       "</tr>\n",
       "<tr>\n",
       "  <th>Kurtosis:</th>       <td> 5.877</td>  <th>  Cond. No.          </th> <td>1.13e+16</td> \n",
       "</tr>\n",
       "</table><br/><br/>Warnings:<br/>[1] Standard Errors assume that the covariance matrix of the errors is correctly specified.<br/>[2] The smallest eigenvalue is 2.67e-17. This might indicate that there are<br/>strong multicollinearity problems or that the design matrix is singular."
      ],
      "text/plain": [
       "<class 'statsmodels.iolib.summary.Summary'>\n",
       "\"\"\"\n",
       "                            OLS Regression Results                            \n",
       "==============================================================================\n",
       "Dep. Variable:             log_shares   R-squared:                       0.127\n",
       "Model:                            OLS   Adj. R-squared:                  0.126\n",
       "Method:                 Least Squares   F-statistic:                     143.4\n",
       "Date:                Wed, 06 May 2020   Prob (F-statistic):               0.00\n",
       "Time:                        11:47:47   Log-Likelihood:                -50714.\n",
       "No. Observations:               39644   AIC:                         1.015e+05\n",
       "Df Residuals:                   39603   BIC:                         1.019e+05\n",
       "Df Model:                          40                                         \n",
       "Covariance Type:            nonrobust                                         \n",
       "===============================================================================================\n",
       "                                  coef    std err          t      P>|t|      [0.025      0.975]\n",
       "-----------------------------------------------------------------------------------------------\n",
       "Intercept                       3.9818      2.810      1.417      0.156      -1.526       9.490\n",
       "n_tokens_title                  0.0056      0.002      2.583      0.010       0.001       0.010\n",
       "n_tokens_content             2.911e-05   1.26e-05      2.310      0.021    4.41e-06    5.38e-05\n",
       "rate_non_stop_unique_tokens    -0.1647      0.038     -4.290      0.000      -0.240      -0.089\n",
       "num_links                       0.0047      0.000      9.445      0.000       0.004       0.006\n",
       "num_self_links                 -0.0075      0.001     -5.755      0.000      -0.010      -0.005\n",
       "average_token_length           -0.0640      0.018     -3.644      0.000      -0.098      -0.030\n",
       "num_keywords                    0.0036      0.003      1.311      0.190      -0.002       0.009\n",
       "entertainment                  -0.2024      0.017    -12.108      0.000      -0.235      -0.170\n",
       "business                       -0.0923      0.022     -4.115      0.000      -0.136      -0.048\n",
       "social_media                    0.1944      0.022      8.801      0.000       0.151       0.238\n",
       "tech                            0.1618      0.018      8.972      0.000       0.126       0.197\n",
       "kw_max_min                   1.223e-05   3.75e-06      3.260      0.001    4.88e-06    1.96e-05\n",
       "kw_avg_min                  -9.594e-05    2.3e-05     -4.170      0.000      -0.000   -5.08e-05\n",
       "kw_min_max                  -1.747e-07   8.66e-08     -2.017      0.044   -3.44e-07   -4.97e-09\n",
       "kw_avg_max                  -6.872e-07   5.15e-08    -13.346      0.000   -7.88e-07   -5.86e-07\n",
       "kw_min_avg                  -4.687e-05   5.69e-06     -8.236      0.000    -5.8e-05   -3.57e-05\n",
       "kw_max_avg                  -4.162e-05   1.88e-06    -22.114      0.000   -4.53e-05   -3.79e-05\n",
       "kw_avg_avg                      0.0003   1.06e-05     31.232      0.000       0.000       0.000\n",
       "self_ref_avg_shares           1.98e-06   1.85e-07     10.718      0.000    1.62e-06    2.34e-06\n",
       "tuesday                        -0.0709      0.013     -5.541      0.000      -0.096      -0.046\n",
       "wednesday                      -0.0666      0.013     -5.210      0.000      -0.092      -0.042\n",
       "thursday                       -0.0594      0.013     -4.618      0.000      -0.085      -0.034\n",
       "saturday                        0.0755      0.013      5.693      0.000       0.049       0.101\n",
       "sunday                          0.0721      0.013      5.609      0.000       0.047       0.097\n",
       "is_weekend                      0.1476      0.010     15.218      0.000       0.129       0.167\n",
       "LDA_00                         -1.4779      0.871     -1.696      0.090      -3.186       0.230\n",
       "LDA_01                         -1.7831      0.871     -2.047      0.041      -3.490      -0.076\n",
       "LDA_02                         -1.9463      0.871     -2.235      0.025      -3.654      -0.239\n",
       "LDA_03                         -1.7425      0.871     -2.001      0.045      -3.450      -0.035\n",
       "LDA_04                         -1.7255      0.871     -1.981      0.048      -3.433      -0.018\n",
       "global_subjectivity             0.4151      0.058      7.106      0.000       0.301       0.530\n",
       "global_rate_positive_words     -1.8621      0.500     -3.724      0.000      -2.842      -0.882\n",
       "global_rate_negative_words      1.9960      0.988      2.019      0.043       0.059       3.933\n",
       "rate_positive_words             4.5686      2.884      1.584      0.113      -1.083      10.220\n",
       "rate_negative_words             4.3294      2.930      1.477      0.140      -1.414      10.073\n",
       "min_positive_polarity          -0.2381      0.071     -3.333      0.001      -0.378      -0.098\n",
       "avg_negative_polarity          -1.0087      0.712     -1.417      0.156      -2.404       0.387\n",
       "title_subjectivity              0.0703      0.016      4.384      0.000       0.039       0.102\n",
       "title_sentiment_polarity        0.0821      0.018      4.668      0.000       0.048       0.117\n",
       "abs_title_subjectivity          0.1327      0.027      4.830      0.000       0.079       0.187\n",
       "has_img                        -0.0242      0.013     -1.840      0.066      -0.050       0.002\n",
       "has_video                       0.1121      0.010     10.920      0.000       0.092       0.132\n",
       "==============================================================================\n",
       "Omnibus:                     7209.487   Durbin-Watson:                   1.949\n",
       "Prob(Omnibus):                  0.000   Jarque-Bera (JB):            19973.359\n",
       "Skew:                           0.976   Prob(JB):                         0.00\n",
       "Kurtosis:                       5.877   Cond. No.                     1.13e+16\n",
       "==============================================================================\n",
       "\n",
       "Warnings:\n",
       "[1] Standard Errors assume that the covariance matrix of the errors is correctly specified.\n",
       "[2] The smallest eigenvalue is 2.67e-17. This might indicate that there are\n",
       "strong multicollinearity problems or that the design matrix is singular.\n",
       "\"\"\""
      ]
     },
     "execution_count": 133,
     "metadata": {},
     "output_type": "execute_result"
    }
   ],
   "source": [
    "features_pared = features.drop(columns=['rate_unique_tokens', 'world', 'friday', 'global_sentiment_polarity',\n",
    "                                        'avg_positive_polarity', 'max_positive_polarity', 'min_negative_polarity',\n",
    "                                        'max_negative_polarity', 'abs_title_sentiment_polarity'])\n",
    "f_list = list(features_pared.columns)\n",
    "f_list.remove('log_shares')\n",
    "\n",
    "col_list = '+'.join(f_list)\n",
    "f = 'log_shares~' + col_list\n",
    "model = ols(formula=f, data=features_pared).fit()\n",
    "model.summary()"
   ]
  },
  {
   "cell_type": "code",
   "execution_count": 136,
   "metadata": {},
   "outputs": [],
   "source": [
    "df['log_kw_avg_max'] = df['kw_avg_max'].apply(lambda x: np.log(x))\n",
    "df['log_kw_avg_max'] = np.where(df['log_kw_avg_max'] == 0, df['log_kw_avg_max'].median(), df['log_kw_avg_max'])"
   ]
  },
  {
   "cell_type": "code",
   "execution_count": 137,
   "metadata": {},
   "outputs": [
    {
     "data": {
      "text/plain": [
       "<matplotlib.axes._subplots.AxesSubplot at 0x12bdd6d30>"
      ]
     },
     "execution_count": 137,
     "metadata": {},
     "output_type": "execute_result"
    },
    {
     "data": {
      "image/png": "[encoded data removed]",
      "text/plain": [
       "<Figure size 432x288 with 1 Axes>"
      ]
     },
     "metadata": {},
     "output_type": "display_data"
    }
   ],
   "source": [
    "df.plot.scatter('log_kw_avg_max', 'log_shares')"
   ]
  },
  {
   "cell_type": "code",
   "execution_count": 138,
   "metadata": {},
   "outputs": [
    {
     "data": {
      "text/html": [
       "<table class=\"simpletable\">\n",
       "<caption>OLS Regression Results</caption>\n",
       "<tr>\n",
       "  <th>Dep. Variable:</th>       <td>log_shares</td>    <th>  R-squared:         </th> <td>   0.001</td> \n",
       "</tr>\n",
       "<tr>\n",
       "  <th>Model:</th>                   <td>OLS</td>       <th>  Adj. R-squared:    </th> <td>   0.001</td> \n",
       "</tr>\n",
       "<tr>\n",
       "  <th>Method:</th>             <td>Least Squares</td>  <th>  F-statistic:       </th> <td>   56.84</td> \n",
       "</tr>\n",
       "<tr>\n",
       "  <th>Date:</th>             <td>Wed, 06 May 2020</td> <th>  Prob (F-statistic):</th> <td>4.84e-14</td> \n",
       "</tr>\n",
       "<tr>\n",
       "  <th>Time:</th>                 <td>11:53:17</td>     <th>  Log-Likelihood:    </th> <td> -53367.</td> \n",
       "</tr>\n",
       "<tr>\n",
       "  <th>No. Observations:</th>      <td> 39644</td>      <th>  AIC:               </th> <td>1.067e+05</td>\n",
       "</tr>\n",
       "<tr>\n",
       "  <th>Df Residuals:</th>          <td> 39642</td>      <th>  BIC:               </th> <td>1.068e+05</td>\n",
       "</tr>\n",
       "<tr>\n",
       "  <th>Df Model:</th>              <td>     1</td>      <th>                     </th>     <td> </td>    \n",
       "</tr>\n",
       "<tr>\n",
       "  <th>Covariance Type:</th>      <td>nonrobust</td>    <th>                     </th>     <td> </td>    \n",
       "</tr>\n",
       "</table>\n",
       "<table class=\"simpletable\">\n",
       "<tr>\n",
       "         <td></td>           <th>coef</th>     <th>std err</th>      <th>t</th>      <th>P>|t|</th>  <th>[0.025</th>    <th>0.975]</th>  \n",
       "</tr>\n",
       "<tr>\n",
       "  <th>Intercept</th>      <td>    6.9127</td> <td>    0.075</td> <td>   92.522</td> <td> 0.000</td> <td>    6.766</td> <td>    7.059</td>\n",
       "</tr>\n",
       "<tr>\n",
       "  <th>log_kw_avg_max</th> <td>    0.0458</td> <td>    0.006</td> <td>    7.539</td> <td> 0.000</td> <td>    0.034</td> <td>    0.058</td>\n",
       "</tr>\n",
       "</table>\n",
       "<table class=\"simpletable\">\n",
       "<tr>\n",
       "  <th>Omnibus:</th>       <td>7007.242</td> <th>  Durbin-Watson:     </th> <td>   1.907</td> \n",
       "</tr>\n",
       "<tr>\n",
       "  <th>Prob(Omnibus):</th>  <td> 0.000</td>  <th>  Jarque-Bera (JB):  </th> <td>16323.839</td>\n",
       "</tr>\n",
       "<tr>\n",
       "  <th>Skew:</th>           <td> 1.010</td>  <th>  Prob(JB):          </th> <td>    0.00</td> \n",
       "</tr>\n",
       "<tr>\n",
       "  <th>Kurtosis:</th>       <td> 5.408</td>  <th>  Cond. No.          </th> <td>    198.</td> \n",
       "</tr>\n",
       "</table><br/><br/>Warnings:<br/>[1] Standard Errors assume that the covariance matrix of the errors is correctly specified."
      ],
      "text/plain": [
       "<class 'statsmodels.iolib.summary.Summary'>\n",
       "\"\"\"\n",
       "                            OLS Regression Results                            \n",
       "==============================================================================\n",
       "Dep. Variable:             log_shares   R-squared:                       0.001\n",
       "Model:                            OLS   Adj. R-squared:                  0.001\n",
       "Method:                 Least Squares   F-statistic:                     56.84\n",
       "Date:                Wed, 06 May 2020   Prob (F-statistic):           4.84e-14\n",
       "Time:                        11:53:17   Log-Likelihood:                -53367.\n",
       "No. Observations:               39644   AIC:                         1.067e+05\n",
       "Df Residuals:                   39642   BIC:                         1.068e+05\n",
       "Df Model:                           1                                         \n",
       "Covariance Type:            nonrobust                                         \n",
       "==================================================================================\n",
       "                     coef    std err          t      P>|t|      [0.025      0.975]\n",
       "----------------------------------------------------------------------------------\n",
       "Intercept          6.9127      0.075     92.522      0.000       6.766       7.059\n",
       "log_kw_avg_max     0.0458      0.006      7.539      0.000       0.034       0.058\n",
       "==============================================================================\n",
       "Omnibus:                     7007.242   Durbin-Watson:                   1.907\n",
       "Prob(Omnibus):                  0.000   Jarque-Bera (JB):            16323.839\n",
       "Skew:                           1.010   Prob(JB):                         0.00\n",
       "Kurtosis:                       5.408   Cond. No.                         198.\n",
       "==============================================================================\n",
       "\n",
       "Warnings:\n",
       "[1] Standard Errors assume that the covariance matrix of the errors is correctly specified.\n",
       "\"\"\""
      ]
     },
     "execution_count": 138,
     "metadata": {},
     "output_type": "execute_result"
    }
   ],
   "source": [
    "f = 'log_shares~log_kw_avg_max'\n",
    "model = ols(formula=f, data=df).fit()\n",
    "model.summary()"
   ]
  },
  {
   "cell_type": "code",
   "execution_count": 21,
   "metadata": {},
   "outputs": [
    {
     "data": {
      "text/plain": [
       "array([4.6803653 , 4.91372549, 4.39336493, ..., 4.52312139, 4.4054878 ,\n",
       "       4.97507331])"
      ]
     },
     "execution_count": 21,
     "metadata": {},
     "output_type": "execute_result"
    }
   ],
   "source": [
    "df.average_token_length.unique()"
   ]
  },
  {
   "cell_type": "code",
   "execution_count": 22,
   "metadata": {
    "scrolled": true
   },
   "outputs": [
    {
     "data": {
      "text/plain": [
       "count    39644.000000\n",
       "mean         0.184599\n",
       "std          0.262975\n",
       "min          0.000000\n",
       "25%          0.025051\n",
       "50%          0.033387\n",
       "75%          0.240958\n",
       "max          0.926994\n",
       "Name: LDA_00, dtype: float64"
      ]
     },
     "execution_count": 22,
     "metadata": {},
     "output_type": "execute_result"
    }
   ],
   "source": [
    "df.LDA_00.describe()"
   ]
  },
  {
   "cell_type": "code",
   "execution_count": 23,
   "metadata": {
    "scrolled": true
   },
   "outputs": [
    {
     "data": {
      "text/plain": [
       "<matplotlib.axes._subplots.AxesSubplot at 0x128b10dd8>"
      ]
     },
     "execution_count": 23,
     "metadata": {},
     "output_type": "execute_result"
    },
    {
     "data": {
      "image/png": "[encoded data removed]",
      "text/plain": [
       "<Figure size 432x288 with 1 Axes>"
      ]
     },
     "metadata": {
      "needs_background": "light"
     },
     "output_type": "display_data"
    }
   ],
   "source": [
    "df.plot.scatter('LDA_00', 'log_shares')"
   ]
  },
  {
   "cell_type": "code",
   "execution_count": 25,
   "metadata": {
    "scrolled": true
   },
   "outputs": [
    {
     "data": {
      "text/plain": [
       "count     39644.000000\n",
       "mean       3395.380184\n",
       "std       11626.950749\n",
       "min           1.000000\n",
       "25%         946.000000\n",
       "50%        1400.000000\n",
       "75%        2800.000000\n",
       "max      843300.000000\n",
       "Name: shares, dtype: float64"
      ]
     },
     "execution_count": 25,
     "metadata": {},
     "output_type": "execute_result"
    }
   ],
   "source": [
    "df.shares.describe()"
   ]
  },
  {
   "cell_type": "code",
   "execution_count": 27,
   "metadata": {},
   "outputs": [
    {
     "data": {
      "text/plain": [
       "array([[<matplotlib.axes._subplots.AxesSubplot object at 0x1265db588>]],\n",
       "      dtype=object)"
      ]
     },
     "execution_count": 27,
     "metadata": {},
     "output_type": "execute_result"
    },
    {
     "data": {
      "image/png": "[encoded data removed]",
      "text/plain": [
       "<Figure size 432x288 with 1 Axes>"
      ]
     },
     "metadata": {
      "needs_background": "light"
     },
     "output_type": "display_data"
    }
   ],
   "source": [
    "df.hist('num_imgs', bins=20)"
   ]
  },
  {
   "cell_type": "code",
   "execution_count": 28,
   "metadata": {},
   "outputs": [
    {
     "data": {
      "text/plain": [
       "count    39644.000000\n",
       "mean         4.544143\n",
       "std          8.309434\n",
       "min          0.000000\n",
       "25%          1.000000\n",
       "50%          1.000000\n",
       "75%          4.000000\n",
       "max        128.000000\n",
       "Name: num_imgs, dtype: float64"
      ]
     },
     "execution_count": 28,
     "metadata": {},
     "output_type": "execute_result"
    }
   ],
   "source": [
    "df.num_imgs.describe()"
   ]
  },
  {
   "cell_type": "code",
   "execution_count": 98,
   "metadata": {},
   "outputs": [
    {
     "data": {
      "text/plain": [
       "6987"
      ]
     },
     "execution_count": 98,
     "metadata": {},
     "output_type": "execute_result"
    }
   ],
   "source": [
    "len(df[df['num_imgs'] == 0])"
   ]
  },
  {
   "cell_type": "code",
   "execution_count": 96,
   "metadata": {},
   "outputs": [
    {
     "data": {
      "text/plain": [
       "<matplotlib.axes._subplots.AxesSubplot at 0x12a3d4940>"
      ]
     },
     "execution_count": 96,
     "metadata": {},
     "output_type": "execute_result"
    },
    {
     "data": {
      "image/png": "[encoded data removed]",
      "text/plain": [
       "<Figure size 432x288 with 1 Axes>"
      ]
     },
     "metadata": {},
     "output_type": "display_data"
    }
   ],
   "source": [
    "df.plot.scatter('num_imgs', 'log_shares')"
   ]
  },
  {
   "cell_type": "code",
   "execution_count": 100,
   "metadata": {},
   "outputs": [
    {
     "data": {
      "text/plain": [
       "<matplotlib.axes._subplots.AxesSubplot at 0x12a5de710>"
      ]
     },
     "execution_count": 100,
     "metadata": {},
     "output_type": "execute_result"
    },
    {
     "data": {
      "image/png": "[encoded data removed]",
      "text/plain": [
       "<Figure size 432x288 with 1 Axes>"
      ]
     },
     "metadata": {},
     "output_type": "display_data"
    }
   ],
   "source": [
    "df['one_img'] = np.where(df.num_imgs > 1, 1, 0)\n",
    "df.boxplot('log_shares', 'one_img')"
   ]
  },
  {
   "cell_type": "code",
   "execution_count": 31,
   "metadata": {},
   "outputs": [
    {
     "data": {
      "text/plain": [
       "count    39644.000000\n",
       "mean         1.249874\n",
       "std          4.107855\n",
       "min          0.000000\n",
       "25%          0.000000\n",
       "50%          0.000000\n",
       "75%          1.000000\n",
       "max         91.000000\n",
       "Name: num_videos, dtype: float64"
      ]
     },
     "execution_count": 31,
     "metadata": {},
     "output_type": "execute_result"
    }
   ],
   "source": [
    "df.num_videos.describe()"
   ]
  },
  {
   "cell_type": "code",
   "execution_count": 32,
   "metadata": {},
   "outputs": [
    {
     "data": {
      "text/plain": [
       "<matplotlib.axes._subplots.AxesSubplot at 0x126b62470>"
      ]
     },
     "execution_count": 32,
     "metadata": {},
     "output_type": "execute_result"
    },
    {
     "data": {
      "image/png": "[encoded data removed]",
      "text/plain": [
       "<Figure size 432x288 with 1 Axes>"
      ]
     },
     "metadata": {
      "needs_background": "light"
     },
     "output_type": "display_data"
    }
   ],
   "source": [
    "df.plot.scatter('num_videos', 'log_shares')"
   ]
  },
  {
   "cell_type": "code",
   "execution_count": 34,
   "metadata": {},
   "outputs": [
    {
     "data": {
      "text/plain": [
       "count    39644.000000\n",
       "mean        10.883690\n",
       "std         11.332017\n",
       "min          0.000000\n",
       "25%          4.000000\n",
       "50%          8.000000\n",
       "75%         14.000000\n",
       "max        304.000000\n",
       "Name: num_links, dtype: float64"
      ]
     },
     "execution_count": 34,
     "metadata": {},
     "output_type": "execute_result"
    }
   ],
   "source": [
    "df.num_links.describe()"
   ]
  },
  {
   "cell_type": "code",
   "execution_count": 35,
   "metadata": {},
   "outputs": [
    {
     "data": {
      "text/plain": [
       "<matplotlib.axes._subplots.AxesSubplot at 0x126a1e160>"
      ]
     },
     "execution_count": 35,
     "metadata": {},
     "output_type": "execute_result"
    },
    {
     "data": {
      "image/png": "[encoded data removed]",
      "text/plain": [
       "<Figure size 432x288 with 1 Axes>"
      ]
     },
     "metadata": {
      "needs_background": "light"
     },
     "output_type": "display_data"
    }
   ],
   "source": [
    "df.plot.scatter('num_links', 'log_shares')"
   ]
  },
  {
   "cell_type": "code",
   "execution_count": 36,
   "metadata": {},
   "outputs": [
    {
     "data": {
      "text/plain": [
       "count    39644.000000\n",
       "mean         3.293638\n",
       "std          3.855141\n",
       "min          0.000000\n",
       "25%          1.000000\n",
       "50%          3.000000\n",
       "75%          4.000000\n",
       "max        116.000000\n",
       "Name: num_self_links, dtype: float64"
      ]
     },
     "execution_count": 36,
     "metadata": {},
     "output_type": "execute_result"
    }
   ],
   "source": [
    "df.num_self_links.describe()"
   ]
  },
  {
   "cell_type": "code",
   "execution_count": 37,
   "metadata": {},
   "outputs": [
    {
     "data": {
      "text/plain": [
       "<matplotlib.axes._subplots.AxesSubplot at 0x1263cd4a8>"
      ]
     },
     "execution_count": 37,
     "metadata": {},
     "output_type": "execute_result"
    },
    {
     "data": {
      "image/png": "[encoded data removed]",
      "text/plain": [
       "<Figure size 432x288 with 1 Axes>"
      ]
     },
     "metadata": {
      "needs_background": "light"
     },
     "output_type": "display_data"
    }
   ],
   "source": [
    "df.plot.scatter('num_self_links', 'log_shares')"
   ]
  },
  {
   "cell_type": "code",
   "execution_count": 38,
   "metadata": {},
   "outputs": [
    {
     "data": {
      "text/plain": [
       "Index(['url', 'timedelta', 'n_tokens_title', 'n_tokens_content',\n",
       "       'rate_unique_tokens', 'rate_non_stop_words',\n",
       "       'rate_non_stop_unique_tokens', 'num_links', 'num_self_links',\n",
       "       'num_imgs', 'num_videos', 'average_token_length', 'num_keywords',\n",
       "       'lifestyle', 'entertainment', 'business', 'social_media', 'tech',\n",
       "       'world', 'kw_min_min', 'kw_max_min', 'kw_avg_min', 'kw_min_max',\n",
       "       'kw_max_max', 'kw_avg_max', 'kw_min_avg', 'kw_max_avg', 'kw_avg_avg',\n",
       "       'self_ref_min_shares', 'self_ref_max_shares', 'self_ref_avg_shares',\n",
       "       'monday', 'tuesday', 'wednesday', 'thursday', 'friday', 'saturday',\n",
       "       'sunday', 'is_weekend', 'LDA_00', 'LDA_01', 'LDA_02', 'LDA_03',\n",
       "       'LDA_04', 'global_subjectivity', 'global_sentiment_polarity',\n",
       "       'global_rate_positive_words', 'global_rate_negative_words',\n",
       "       'rate_positive_words', 'rate_negative_words', 'avg_positive_polarity',\n",
       "       'min_positive_polarity', 'max_positive_polarity',\n",
       "       'avg_negative_polarity', 'min_negative_polarity',\n",
       "       'max_negative_polarity', 'title_subjectivity',\n",
       "       'title_sentiment_polarity', 'abs_title_subjectivity',\n",
       "       'abs_title_sentiment_polarity', 'shares', 'log_shares',\n",
       "       'log_kw_avg_max', 'capped_num_imgs', 'has_img', 'has_video'],\n",
       "      dtype='object')"
      ]
     },
     "execution_count": 38,
     "metadata": {},
     "output_type": "execute_result"
    }
   ],
   "source": [
    "df.columns"
   ]
  },
  {
   "cell_type": "code",
   "execution_count": 39,
   "metadata": {},
   "outputs": [],
   "source": [
    "genre_cols = ['lifestyle', 'entertainment', 'business', 'social_media', 'tech', 'world']\n",
    "day_cols = ['monday', 'tuesday', 'wednesday', 'thursday', 'friday', 'saturday', 'sunday']\n",
    "\n",
    "df_genres = df[genre_cols]\n",
    "df_days = df[day_cols]\n",
    "df_genres_01 = df[genre_cols]\n",
    "df_days_01 = df[day_cols]"
   ]
  },
  {
   "cell_type": "code",
   "execution_count": 40,
   "metadata": {},
   "outputs": [
    {
     "name": "stderr",
     "output_type": "stream",
     "text": [
      "/opt/anaconda3/envs/learn-env/lib/python3.6/site-packages/ipykernel_launcher.py:2: SettingWithCopyWarning: \n",
      "A value is trying to be set on a copy of a slice from a DataFrame.\n",
      "Try using .loc[row_indexer,col_indexer] = value instead\n",
      "\n",
      "See the caveats in the documentation: https://pandas.pydata.org/pandas-docs/stable/user_guide/indexing.html#returning-a-view-versus-a-copy\n",
      "  \n",
      "/opt/anaconda3/envs/learn-env/lib/python3.6/site-packages/ipykernel_launcher.py:5: SettingWithCopyWarning: \n",
      "A value is trying to be set on a copy of a slice from a DataFrame.\n",
      "Try using .loc[row_indexer,col_indexer] = value instead\n",
      "\n",
      "See the caveats in the documentation: https://pandas.pydata.org/pandas-docs/stable/user_guide/indexing.html#returning-a-view-versus-a-copy\n",
      "  \"\"\"\n"
     ]
    }
   ],
   "source": [
    "for col in df_genres.columns:\n",
    "    df_genres[col] = df_genres[col] * df['shares']\n",
    "\n",
    "for col in df_days.columns:\n",
    "    df_days[col] = df_days[col] * df['shares']"
   ]
  },
  {
   "cell_type": "code",
   "execution_count": 41,
   "metadata": {},
   "outputs": [
    {
     "data": {
      "text/html": [
       "<div>\n",
       "<style scoped>\n",
       "    .dataframe tbody tr th:only-of-type {\n",
       "        vertical-align: middle;\n",
       "    }\n",
       "\n",
       "    .dataframe tbody tr th {\n",
       "        vertical-align: top;\n",
       "    }\n",
       "\n",
       "    .dataframe thead th {\n",
       "        text-align: right;\n",
       "    }\n",
       "</style>\n",
       "<table border=\"1\" class=\"dataframe\">\n",
       "  <thead>\n",
       "    <tr style=\"text-align: right;\">\n",
       "      <th></th>\n",
       "      <th>lifestyle</th>\n",
       "      <th>entertainment</th>\n",
       "      <th>business</th>\n",
       "      <th>social_media</th>\n",
       "      <th>tech</th>\n",
       "      <th>world</th>\n",
       "    </tr>\n",
       "  </thead>\n",
       "  <tbody>\n",
       "    <tr>\n",
       "      <th>0</th>\n",
       "      <td>0</td>\n",
       "      <td>1</td>\n",
       "      <td>0</td>\n",
       "      <td>0</td>\n",
       "      <td>0</td>\n",
       "      <td>0</td>\n",
       "    </tr>\n",
       "    <tr>\n",
       "      <th>1</th>\n",
       "      <td>0</td>\n",
       "      <td>0</td>\n",
       "      <td>1</td>\n",
       "      <td>0</td>\n",
       "      <td>0</td>\n",
       "      <td>0</td>\n",
       "    </tr>\n",
       "    <tr>\n",
       "      <th>2</th>\n",
       "      <td>0</td>\n",
       "      <td>0</td>\n",
       "      <td>1</td>\n",
       "      <td>0</td>\n",
       "      <td>0</td>\n",
       "      <td>0</td>\n",
       "    </tr>\n",
       "    <tr>\n",
       "      <th>3</th>\n",
       "      <td>0</td>\n",
       "      <td>1</td>\n",
       "      <td>0</td>\n",
       "      <td>0</td>\n",
       "      <td>0</td>\n",
       "      <td>0</td>\n",
       "    </tr>\n",
       "    <tr>\n",
       "      <th>4</th>\n",
       "      <td>0</td>\n",
       "      <td>0</td>\n",
       "      <td>0</td>\n",
       "      <td>0</td>\n",
       "      <td>1</td>\n",
       "      <td>0</td>\n",
       "    </tr>\n",
       "  </tbody>\n",
       "</table>\n",
       "</div>"
      ],
      "text/plain": [
       "   lifestyle  entertainment  business  social_media  tech  world\n",
       "0          0              1         0             0     0      0\n",
       "1          0              0         1             0     0      0\n",
       "2          0              0         1             0     0      0\n",
       "3          0              1         0             0     0      0\n",
       "4          0              0         0             0     1      0"
      ]
     },
     "execution_count": 41,
     "metadata": {},
     "output_type": "execute_result"
    }
   ],
   "source": [
    "df_genres_01.head()"
   ]
  },
  {
   "cell_type": "code",
   "execution_count": 42,
   "metadata": {},
   "outputs": [
    {
     "data": {
      "text/html": [
       "<div>\n",
       "<style scoped>\n",
       "    .dataframe tbody tr th:only-of-type {\n",
       "        vertical-align: middle;\n",
       "    }\n",
       "\n",
       "    .dataframe tbody tr th {\n",
       "        vertical-align: top;\n",
       "    }\n",
       "\n",
       "    .dataframe thead th {\n",
       "        text-align: right;\n",
       "    }\n",
       "</style>\n",
       "<table border=\"1\" class=\"dataframe\">\n",
       "  <thead>\n",
       "    <tr style=\"text-align: right;\">\n",
       "      <th></th>\n",
       "      <th>lifestyle</th>\n",
       "      <th>entertainment</th>\n",
       "      <th>business</th>\n",
       "      <th>social_media</th>\n",
       "      <th>tech</th>\n",
       "      <th>world</th>\n",
       "    </tr>\n",
       "  </thead>\n",
       "  <tbody>\n",
       "    <tr>\n",
       "      <th>0</th>\n",
       "      <td>0</td>\n",
       "      <td>593</td>\n",
       "      <td>0</td>\n",
       "      <td>0</td>\n",
       "      <td>0</td>\n",
       "      <td>0</td>\n",
       "    </tr>\n",
       "    <tr>\n",
       "      <th>1</th>\n",
       "      <td>0</td>\n",
       "      <td>0</td>\n",
       "      <td>711</td>\n",
       "      <td>0</td>\n",
       "      <td>0</td>\n",
       "      <td>0</td>\n",
       "    </tr>\n",
       "    <tr>\n",
       "      <th>2</th>\n",
       "      <td>0</td>\n",
       "      <td>0</td>\n",
       "      <td>1500</td>\n",
       "      <td>0</td>\n",
       "      <td>0</td>\n",
       "      <td>0</td>\n",
       "    </tr>\n",
       "    <tr>\n",
       "      <th>3</th>\n",
       "      <td>0</td>\n",
       "      <td>1200</td>\n",
       "      <td>0</td>\n",
       "      <td>0</td>\n",
       "      <td>0</td>\n",
       "      <td>0</td>\n",
       "    </tr>\n",
       "    <tr>\n",
       "      <th>4</th>\n",
       "      <td>0</td>\n",
       "      <td>0</td>\n",
       "      <td>0</td>\n",
       "      <td>0</td>\n",
       "      <td>505</td>\n",
       "      <td>0</td>\n",
       "    </tr>\n",
       "  </tbody>\n",
       "</table>\n",
       "</div>"
      ],
      "text/plain": [
       "   lifestyle  entertainment  business  social_media  tech  world\n",
       "0          0            593         0             0     0      0\n",
       "1          0              0       711             0     0      0\n",
       "2          0              0      1500             0     0      0\n",
       "3          0           1200         0             0     0      0\n",
       "4          0              0         0             0   505      0"
      ]
     },
     "execution_count": 42,
     "metadata": {},
     "output_type": "execute_result"
    }
   ],
   "source": [
    "df_genres.head()"
   ]
  },
  {
   "cell_type": "code",
   "execution_count": 43,
   "metadata": {
    "scrolled": true
   },
   "outputs": [
    {
     "data": {
      "text/html": [
       "<div>\n",
       "<style scoped>\n",
       "    .dataframe tbody tr th:only-of-type {\n",
       "        vertical-align: middle;\n",
       "    }\n",
       "\n",
       "    .dataframe tbody tr th {\n",
       "        vertical-align: top;\n",
       "    }\n",
       "\n",
       "    .dataframe thead th {\n",
       "        text-align: right;\n",
       "    }\n",
       "</style>\n",
       "<table border=\"1\" class=\"dataframe\">\n",
       "  <thead>\n",
       "    <tr style=\"text-align: right;\">\n",
       "      <th></th>\n",
       "      <th>monday</th>\n",
       "      <th>tuesday</th>\n",
       "      <th>wednesday</th>\n",
       "      <th>thursday</th>\n",
       "      <th>friday</th>\n",
       "      <th>saturday</th>\n",
       "      <th>sunday</th>\n",
       "    </tr>\n",
       "  </thead>\n",
       "  <tbody>\n",
       "    <tr>\n",
       "      <th>0</th>\n",
       "      <td>593</td>\n",
       "      <td>0</td>\n",
       "      <td>0</td>\n",
       "      <td>0</td>\n",
       "      <td>0</td>\n",
       "      <td>0</td>\n",
       "      <td>0</td>\n",
       "    </tr>\n",
       "    <tr>\n",
       "      <th>1</th>\n",
       "      <td>711</td>\n",
       "      <td>0</td>\n",
       "      <td>0</td>\n",
       "      <td>0</td>\n",
       "      <td>0</td>\n",
       "      <td>0</td>\n",
       "      <td>0</td>\n",
       "    </tr>\n",
       "    <tr>\n",
       "      <th>2</th>\n",
       "      <td>1500</td>\n",
       "      <td>0</td>\n",
       "      <td>0</td>\n",
       "      <td>0</td>\n",
       "      <td>0</td>\n",
       "      <td>0</td>\n",
       "      <td>0</td>\n",
       "    </tr>\n",
       "    <tr>\n",
       "      <th>3</th>\n",
       "      <td>1200</td>\n",
       "      <td>0</td>\n",
       "      <td>0</td>\n",
       "      <td>0</td>\n",
       "      <td>0</td>\n",
       "      <td>0</td>\n",
       "      <td>0</td>\n",
       "    </tr>\n",
       "    <tr>\n",
       "      <th>4</th>\n",
       "      <td>505</td>\n",
       "      <td>0</td>\n",
       "      <td>0</td>\n",
       "      <td>0</td>\n",
       "      <td>0</td>\n",
       "      <td>0</td>\n",
       "      <td>0</td>\n",
       "    </tr>\n",
       "  </tbody>\n",
       "</table>\n",
       "</div>"
      ],
      "text/plain": [
       "   monday  tuesday  wednesday  thursday  friday  saturday  sunday\n",
       "0     593        0          0         0       0         0       0\n",
       "1     711        0          0         0       0         0       0\n",
       "2    1500        0          0         0       0         0       0\n",
       "3    1200        0          0         0       0         0       0\n",
       "4     505        0          0         0       0         0       0"
      ]
     },
     "execution_count": 43,
     "metadata": {},
     "output_type": "execute_result"
    }
   ],
   "source": [
    "df_days.head()"
   ]
  },
  {
   "cell_type": "code",
   "execution_count": 44,
   "metadata": {},
   "outputs": [],
   "source": [
    "# df_genres = df_genres.reindex(df_genres.mean().sort_values().index, axis=1)\n",
    "df_genres = df_genres.reindex(df_genres_01.sum().sort_values().index, axis=1)\n",
    "df_genres_01 = df_genres_01.reindex(df_genres_01.sum().sort_values().index, axis=1)"
   ]
  },
  {
   "cell_type": "code",
   "execution_count": 46,
   "metadata": {},
   "outputs": [
    {
     "data": {
      "text/plain": [
       "<matplotlib.axes._subplots.AxesSubplot at 0x125ec6358>"
      ]
     },
     "execution_count": 46,
     "metadata": {},
     "output_type": "execute_result"
    },
    {
     "data": {
      "image/png": "[encoded data removed]",
      "text/plain": [
       "<Figure size 432x288 with 1 Axes>"
      ]
     },
     "metadata": {},
     "output_type": "display_data"
    }
   ],
   "source": [
    "df.boxplot('log_shares', 'lifestyle')"
   ]
  },
  {
   "cell_type": "code",
   "execution_count": 47,
   "metadata": {},
   "outputs": [
    {
     "data": {
      "image/png": "[encoded data removed]",
      "text/plain": [
       "<Figure size 720x432 with 1 Axes>"
      ]
     },
     "metadata": {},
     "output_type": "display_data"
    }
   ],
   "source": [
    "sns.set_style('ticks')\n",
    "\n",
    "plt.figure(figsize=(10,6))\n",
    "plt.bar(df_genres.columns, df_genres.sum()/df_genres.astype(bool).sum(axis=0), color='salmon') \n",
    "plt.xticks(rotation='vertical')\n",
    "\n",
    "plt.title('Average Popularity by Genre')\n",
    "plt.ylabel('Average Shares')\n",
    "plt.xlabel('Genre')\n",
    "plt.grid(True)\n",
    "plt.tight_layout() \n",
    "#automatically adjusts plot so that it fits into the figure area.\n",
    "plt.show() \n",
    "#display our graph"
   ]
  },
  {
   "cell_type": "code",
   "execution_count": 66,
   "metadata": {
    "scrolled": false
   },
   "outputs": [
    {
     "data": {
      "image/png": "[encoded data removed]",
      "text/plain": [
       "<Figure size 720x432 with 1 Axes>"
      ]
     },
     "metadata": {},
     "output_type": "display_data"
    }
   ],
   "source": [
    "sns.set_style('ticks')\n",
    "\n",
    "plt.figure(figsize=(10,6))\n",
    "plt.bar(df_genres_01.columns, df_genres_01.sum(), color='salmon') \n",
    "plt.xticks(rotation='vertical')\n",
    "\n",
    "plt.title('Genre Frequency')\n",
    "plt.ylabel('# of Articles')\n",
    "plt.xlabel('Genre')\n",
    "plt.grid(True)\n",
    "plt.tight_layout() \n",
    "#automatically adjusts plot so that it fits into the figure area.\n",
    "plt.show() \n",
    "#display our graph"
   ]
  },
  {
   "cell_type": "code",
   "execution_count": 50,
   "metadata": {},
   "outputs": [
    {
     "data": {
      "image/png": "[encoded data removed]",
      "text/plain": [
       "<Figure size 720x432 with 1 Axes>"
      ]
     },
     "metadata": {},
     "output_type": "display_data"
    }
   ],
   "source": [
    "sns.set_style('ticks')\n",
    "\n",
    "plt.figure(figsize=(10,6))\n",
    "plt.bar(df_days.columns, df_days.sum()/df_days.astype(bool).sum(axis=0), color='salmon') \n",
    "plt.xticks(rotation='vertical')\n",
    "\n",
    "plt.title('Average Article Shares by Day Published')\n",
    "plt.ylabel('Average Shares')\n",
    "plt.xlabel('Day of Week')\n",
    "plt.grid(True)\n",
    "plt.tight_layout() \n",
    "#automatically adjusts plot so that it fits into the figure area.\n",
    "plt.show() \n",
    "#display our graph"
   ]
  },
  {
   "cell_type": "code",
   "execution_count": 68,
   "metadata": {},
   "outputs": [
    {
     "data": {
      "image/png": "[encoded data removed]",
      "text/plain": [
       "<Figure size 720x432 with 1 Axes>"
      ]
     },
     "metadata": {},
     "output_type": "display_data"
    }
   ],
   "source": [
    "sns.set_style('ticks')\n",
    "\n",
    "plt.figure(figsize=(10,6))\n",
    "plt.bar(df_days_01.columns, df_days_01.sum(), color='salmon', width=0.5) \n",
    "plt.xticks(rotation='vertical')\n",
    "\n",
    "plt.title('Popularity of Publishing Day')\n",
    "plt.ylabel('# of Articles')\n",
    "plt.xlabel('Day of Week')\n",
    "plt.grid(True)\n",
    "plt.tight_layout() \n",
    "#automatically adjusts plot so that it fits into the figure area.\n",
    "plt.show() \n",
    "#display our graph"
   ]
  },
  {
   "cell_type": "code",
   "execution_count": 64,
   "metadata": {},
   "outputs": [
    {
     "data": {
      "text/plain": [
       "<matplotlib.axes._subplots.AxesSubplot at 0x12b693ba8>"
      ]
     },
     "execution_count": 64,
     "metadata": {},
     "output_type": "execute_result"
    },
    {
     "data": {
      "image/png": "[encoded data removed]",
      "text/plain": [
       "<Figure size 432x288 with 1 Axes>"
      ]
     },
     "metadata": {},
     "output_type": "display_data"
    }
   ],
   "source": [
    "df.boxplot('log_shares', 'is_weekend')"
   ]
  },
  {
   "cell_type": "code",
   "execution_count": 52,
   "metadata": {
    "scrolled": true
   },
   "outputs": [
    {
     "data": {
      "text/plain": [
       "<matplotlib.axes._subplots.AxesSubplot at 0x126aea6d8>"
      ]
     },
     "execution_count": 52,
     "metadata": {},
     "output_type": "execute_result"
    },
    {
     "data": {
      "image/png": "[encoded data removed]",
      "text/plain": [
       "<Figure size 432x288 with 1 Axes>"
      ]
     },
     "metadata": {},
     "output_type": "display_data"
    }
   ],
   "source": [
    "df['average_token_length'] = np.where(df.average_token_length == 0, df.average_token_length.mean(), df.average_token_length)\n",
    "df.plot.scatter('average_token_length', 'log_shares')"
   ]
  },
  {
   "cell_type": "code",
   "execution_count": 53,
   "metadata": {
    "scrolled": true
   },
   "outputs": [
    {
     "data": {
      "text/plain": [
       "<matplotlib.axes._subplots.AxesSubplot at 0x12abbdc88>"
      ]
     },
     "execution_count": 53,
     "metadata": {},
     "output_type": "execute_result"
    },
    {
     "data": {
      "image/png": "[encoded data removed]",
      "text/plain": [
       "<Figure size 432x288 with 1 Axes>"
      ]
     },
     "metadata": {},
     "output_type": "display_data"
    }
   ],
   "source": [
    "df.plot.scatter('n_tokens_title', 'shares')"
   ]
  },
  {
   "cell_type": "code",
   "execution_count": 54,
   "metadata": {},
   "outputs": [
    {
     "data": {
      "text/plain": [
       "array([[<matplotlib.axes._subplots.AxesSubplot object at 0x12b220a58>]],\n",
       "      dtype=object)"
      ]
     },
     "execution_count": 54,
     "metadata": {},
     "output_type": "execute_result"
    },
    {
     "data": {
      "image/png": "[encoded data removed]",
      "text/plain": [
       "<Figure size 432x288 with 1 Axes>"
      ]
     },
     "metadata": {},
     "output_type": "display_data"
    }
   ],
   "source": [
    "df.hist('n_tokens_title', bins=20)"
   ]
  },
  {
   "cell_type": "code",
   "execution_count": 55,
   "metadata": {},
   "outputs": [
    {
     "data": {
      "text/plain": [
       "array([[<matplotlib.axes._subplots.AxesSubplot object at 0x12b285a58>]],\n",
       "      dtype=object)"
      ]
     },
     "execution_count": 55,
     "metadata": {},
     "output_type": "execute_result"
    },
    {
     "data": {
      "image/png": "[encoded data removed]",
      "text/plain": [
       "<Figure size 432x288 with 1 Axes>"
      ]
     },
     "metadata": {},
     "output_type": "display_data"
    }
   ],
   "source": [
    "df.hist('average_token_length', bins=20)"
   ]
  },
  {
   "cell_type": "code",
   "execution_count": 56,
   "metadata": {
    "scrolled": true
   },
   "outputs": [
    {
     "data": {
      "text/plain": [
       "array([[<matplotlib.axes._subplots.AxesSubplot object at 0x12c271358>]],\n",
       "      dtype=object)"
      ]
     },
     "execution_count": 56,
     "metadata": {},
     "output_type": "execute_result"
    },
    {
     "data": {
      "image/png": "[encoded data removed]",
      "text/plain": [
       "<Figure size 432x288 with 1 Axes>"
      ]
     },
     "metadata": {},
     "output_type": "display_data"
    }
   ],
   "source": [
    "df.hist('n_tokens_content', bins=20)"
   ]
  },
  {
   "cell_type": "code",
   "execution_count": 57,
   "metadata": {},
   "outputs": [
    {
     "data": {
      "text/plain": [
       "<matplotlib.axes._subplots.AxesSubplot at 0x12c1f8978>"
      ]
     },
     "execution_count": 57,
     "metadata": {},
     "output_type": "execute_result"
    },
    {
     "data": {
      "image/png": "[encoded data removed]",
      "text/plain": [
       "<Figure size 432x288 with 1 Axes>"
      ]
     },
     "metadata": {},
     "output_type": "display_data"
    }
   ],
   "source": [
    "df.plot.scatter('n_tokens_content', 'log_shares')"
   ]
  },
  {
   "cell_type": "code",
   "execution_count": 58,
   "metadata": {},
   "outputs": [
    {
     "data": {
      "text/plain": [
       "count    39644.000000\n",
       "mean       558.698895\n",
       "std        462.016546\n",
       "min         18.000000\n",
       "25%        264.000000\n",
       "50%        409.000000\n",
       "75%        716.000000\n",
       "max       8474.000000\n",
       "Name: n_tokens_content, dtype: float64"
      ]
     },
     "execution_count": 58,
     "metadata": {},
     "output_type": "execute_result"
    }
   ],
   "source": [
    "df.n_tokens_content.describe()"
   ]
  },
  {
   "cell_type": "code",
   "execution_count": 59,
   "metadata": {},
   "outputs": [
    {
     "data": {
      "text/plain": [
       "<matplotlib.axes._subplots.AxesSubplot at 0x12b7bd710>"
      ]
     },
     "execution_count": 59,
     "metadata": {},
     "output_type": "execute_result"
    },
    {
     "data": {
      "image/png": "[encoded data removed]",
      "text/plain": [
       "<Figure size 432x288 with 1 Axes>"
      ]
     },
     "metadata": {},
     "output_type": "display_data"
    }
   ],
   "source": [
    "df['n_tokens_content'] = np.where(df.n_tokens_content == 0, df.n_tokens_content.median(), df.n_tokens_content)\n",
    "df.plot.scatter('n_tokens_content', 'log_shares')"
   ]
  },
  {
   "cell_type": "code",
   "execution_count": 69,
   "metadata": {},
   "outputs": [
    {
     "data": {
      "text/plain": [
       "count    39644.000000\n",
       "mean         0.546622\n",
       "std          0.100812\n",
       "min          0.114964\n",
       "25%          0.479532\n",
       "50%          0.539230\n",
       "75%          0.608696\n",
       "max          1.000000\n",
       "Name: rate_unique_tokens, dtype: float64"
      ]
     },
     "execution_count": 69,
     "metadata": {},
     "output_type": "execute_result"
    }
   ],
   "source": [
    "df.rate_unique_tokens.describe()"
   ]
  },
  {
   "cell_type": "code",
   "execution_count": 72,
   "metadata": {},
   "outputs": [
    {
     "data": {
      "text/plain": [
       "<matplotlib.axes._subplots.AxesSubplot at 0x126256898>"
      ]
     },
     "execution_count": 72,
     "metadata": {},
     "output_type": "execute_result"
    },
    {
     "data": {
      "image/png": "[encoded data removed]",
      "text/plain": [
       "<Figure size 432x288 with 1 Axes>"
      ]
     },
     "metadata": {},
     "output_type": "display_data"
    }
   ],
   "source": [
    "\n",
    "df.plot.scatter('rate_unique_tokens', 'log_shares')"
   ]
  },
  {
   "cell_type": "code",
   "execution_count": 74,
   "metadata": {},
   "outputs": [
    {
     "data": {
      "text/plain": [
       "array([[<matplotlib.axes._subplots.AxesSubplot object at 0x12bbe95f8>]],\n",
       "      dtype=object)"
      ]
     },
     "execution_count": 74,
     "metadata": {},
     "output_type": "execute_result"
    },
    {
     "data": {
      "image/png": "[encoded data removed]",
      "text/plain": [
       "<Figure size 432x288 with 1 Axes>"
      ]
     },
     "metadata": {},
     "output_type": "display_data"
    }
   ],
   "source": [
    "df.hist('rate_unique_tokens')"
   ]
  },
  {
   "cell_type": "code",
   "execution_count": 75,
   "metadata": {},
   "outputs": [
    {
     "data": {
      "text/plain": [
       "0.008292272416857318"
      ]
     },
     "execution_count": 75,
     "metadata": {},
     "output_type": "execute_result"
    }
   ],
   "source": [
    "df['rate_unique_tokens'].corr(df['shares'])"
   ]
  },
  {
   "cell_type": "code",
   "execution_count": 76,
   "metadata": {},
   "outputs": [
    {
     "data": {
      "text/plain": [
       "Index(['url', 'timedelta', 'n_tokens_title', 'n_tokens_content',\n",
       "       'rate_unique_tokens', 'rate_non_stop_words',\n",
       "       'rate_non_stop_unique_tokens', 'num_links', 'num_self_links',\n",
       "       'num_imgs', 'num_videos', 'average_token_length', 'num_keywords',\n",
       "       'lifestyle', 'entertainment', 'business', 'social_media', 'tech',\n",
       "       'world', 'kw_min_min', 'kw_max_min', 'kw_avg_min', 'kw_min_max',\n",
       "       'kw_max_max', 'kw_avg_max', 'kw_min_avg', 'kw_max_avg', 'kw_avg_avg',\n",
       "       'self_ref_min_shares', 'self_ref_max_shares', 'self_ref_avg_shares',\n",
       "       'monday', 'tuesday', 'wednesday', 'thursday', 'friday', 'saturday',\n",
       "       'sunday', 'is_weekend', 'LDA_00', 'LDA_01', 'LDA_02', 'LDA_03',\n",
       "       'LDA_04', 'global_subjectivity', 'global_sentiment_polarity',\n",
       "       'global_rate_positive_words', 'global_rate_negative_words',\n",
       "       'rate_positive_words', 'rate_negative_words', 'avg_positive_polarity',\n",
       "       'min_positive_polarity', 'max_positive_polarity',\n",
       "       'avg_negative_polarity', 'min_negative_polarity',\n",
       "       'max_negative_polarity', 'title_subjectivity',\n",
       "       'title_sentiment_polarity', 'abs_title_subjectivity',\n",
       "       'abs_title_sentiment_polarity', 'shares', 'log_shares',\n",
       "       'log_kw_avg_max', 'capped_num_imgs', 'has_img', 'has_video'],\n",
       "      dtype='object')"
      ]
     },
     "execution_count": 76,
     "metadata": {},
     "output_type": "execute_result"
    }
   ],
   "source": [
    "df.columns"
   ]
  },
  {
   "cell_type": "code",
   "execution_count": 79,
   "metadata": {},
   "outputs": [
    {
     "data": {
      "text/plain": [
       "nan"
      ]
     },
     "execution_count": 79,
     "metadata": {},
     "output_type": "execute_result"
    }
   ],
   "source": [
    "df['avg_positive_polarity'].corr(df['avg_negative_polarity'])"
   ]
  },
  {
   "cell_type": "code",
   "execution_count": 80,
   "metadata": {},
   "outputs": [
    {
     "ename": "KeyError",
     "evalue": "\"['n_unique_tokens' 'n_non_stop_words' 'sqrt_links'\\n 'n_non_stop_unique_tokens' 'text_sentiment_polarity'] not found in axis\"",
     "output_type": "error",
     "traceback": [
      "\u001b[0;31m---------------------------------------------------------------------------\u001b[0m",
      "\u001b[0;31mKeyError\u001b[0m                                  Traceback (most recent call last)",
      "\u001b[0;32m<ipython-input-80-59b2f4f893cb>\u001b[0m in \u001b[0;36m<module>\u001b[0;34m\u001b[0m\n\u001b[1;32m      4\u001b[0m                                \u001b[0;34m'n_non_stop_unique_tokens'\u001b[0m\u001b[0;34m,\u001b[0m \u001b[0;34m'tech'\u001b[0m\u001b[0;34m,\u001b[0m \u001b[0;34m'max_positive_polarity'\u001b[0m\u001b[0;34m,\u001b[0m \u001b[0;34m'min_negative_polarity'\u001b[0m\u001b[0;34m,\u001b[0m\u001b[0;34m\u001b[0m\u001b[0;34m\u001b[0m\u001b[0m\n\u001b[1;32m      5\u001b[0m                                \u001b[0;34m'abs_title_sentiment_polarity'\u001b[0m\u001b[0;34m,\u001b[0m \u001b[0;34m'num_videos'\u001b[0m\u001b[0;34m,\u001b[0m \u001b[0;34m'max_negative_polarity'\u001b[0m\u001b[0;34m,\u001b[0m \u001b[0;34m'rate_negative_words'\u001b[0m\u001b[0;34m,\u001b[0m\u001b[0;34m\u001b[0m\u001b[0;34m\u001b[0m\u001b[0m\n\u001b[0;32m----> 6\u001b[0;31m                               'text_sentiment_polarity', 'rate_positive_words', 'avg_negative_polarity', 'has_img'])\n\u001b[0m",
      "\u001b[0;32m/opt/anaconda3/envs/learn-env/lib/python3.6/site-packages/pandas/core/frame.py\u001b[0m in \u001b[0;36mdrop\u001b[0;34m(self, labels, axis, index, columns, level, inplace, errors)\u001b[0m\n\u001b[1;32m   3995\u001b[0m             \u001b[0mlevel\u001b[0m\u001b[0;34m=\u001b[0m\u001b[0mlevel\u001b[0m\u001b[0;34m,\u001b[0m\u001b[0;34m\u001b[0m\u001b[0;34m\u001b[0m\u001b[0m\n\u001b[1;32m   3996\u001b[0m             \u001b[0minplace\u001b[0m\u001b[0;34m=\u001b[0m\u001b[0minplace\u001b[0m\u001b[0;34m,\u001b[0m\u001b[0;34m\u001b[0m\u001b[0;34m\u001b[0m\u001b[0m\n\u001b[0;32m-> 3997\u001b[0;31m             \u001b[0merrors\u001b[0m\u001b[0;34m=\u001b[0m\u001b[0merrors\u001b[0m\u001b[0;34m,\u001b[0m\u001b[0;34m\u001b[0m\u001b[0;34m\u001b[0m\u001b[0m\n\u001b[0m\u001b[1;32m   3998\u001b[0m         )\n\u001b[1;32m   3999\u001b[0m \u001b[0;34m\u001b[0m\u001b[0m\n",
      "\u001b[0;32m/opt/anaconda3/envs/learn-env/lib/python3.6/site-packages/pandas/core/generic.py\u001b[0m in \u001b[0;36mdrop\u001b[0;34m(self, labels, axis, index, columns, level, inplace, errors)\u001b[0m\n\u001b[1;32m   3934\u001b[0m         \u001b[0;32mfor\u001b[0m \u001b[0maxis\u001b[0m\u001b[0;34m,\u001b[0m \u001b[0mlabels\u001b[0m \u001b[0;32min\u001b[0m \u001b[0maxes\u001b[0m\u001b[0;34m.\u001b[0m\u001b[0mitems\u001b[0m\u001b[0;34m(\u001b[0m\u001b[0;34m)\u001b[0m\u001b[0;34m:\u001b[0m\u001b[0;34m\u001b[0m\u001b[0;34m\u001b[0m\u001b[0m\n\u001b[1;32m   3935\u001b[0m             \u001b[0;32mif\u001b[0m \u001b[0mlabels\u001b[0m \u001b[0;32mis\u001b[0m \u001b[0;32mnot\u001b[0m \u001b[0;32mNone\u001b[0m\u001b[0;34m:\u001b[0m\u001b[0;34m\u001b[0m\u001b[0;34m\u001b[0m\u001b[0m\n\u001b[0;32m-> 3936\u001b[0;31m                 \u001b[0mobj\u001b[0m \u001b[0;34m=\u001b[0m \u001b[0mobj\u001b[0m\u001b[0;34m.\u001b[0m\u001b[0m_drop_axis\u001b[0m\u001b[0;34m(\u001b[0m\u001b[0mlabels\u001b[0m\u001b[0;34m,\u001b[0m \u001b[0maxis\u001b[0m\u001b[0;34m,\u001b[0m \u001b[0mlevel\u001b[0m\u001b[0;34m=\u001b[0m\u001b[0mlevel\u001b[0m\u001b[0;34m,\u001b[0m \u001b[0merrors\u001b[0m\u001b[0;34m=\u001b[0m\u001b[0merrors\u001b[0m\u001b[0;34m)\u001b[0m\u001b[0;34m\u001b[0m\u001b[0;34m\u001b[0m\u001b[0m\n\u001b[0m\u001b[1;32m   3937\u001b[0m \u001b[0;34m\u001b[0m\u001b[0m\n\u001b[1;32m   3938\u001b[0m         \u001b[0;32mif\u001b[0m \u001b[0minplace\u001b[0m\u001b[0;34m:\u001b[0m\u001b[0;34m\u001b[0m\u001b[0;34m\u001b[0m\u001b[0m\n",
      "\u001b[0;32m/opt/anaconda3/envs/learn-env/lib/python3.6/site-packages/pandas/core/generic.py\u001b[0m in \u001b[0;36m_drop_axis\u001b[0;34m(self, labels, axis, level, errors)\u001b[0m\n\u001b[1;32m   3968\u001b[0m                 \u001b[0mnew_axis\u001b[0m \u001b[0;34m=\u001b[0m \u001b[0maxis\u001b[0m\u001b[0;34m.\u001b[0m\u001b[0mdrop\u001b[0m\u001b[0;34m(\u001b[0m\u001b[0mlabels\u001b[0m\u001b[0;34m,\u001b[0m \u001b[0mlevel\u001b[0m\u001b[0;34m=\u001b[0m\u001b[0mlevel\u001b[0m\u001b[0;34m,\u001b[0m \u001b[0merrors\u001b[0m\u001b[0;34m=\u001b[0m\u001b[0merrors\u001b[0m\u001b[0;34m)\u001b[0m\u001b[0;34m\u001b[0m\u001b[0;34m\u001b[0m\u001b[0m\n\u001b[1;32m   3969\u001b[0m             \u001b[0;32melse\u001b[0m\u001b[0;34m:\u001b[0m\u001b[0;34m\u001b[0m\u001b[0;34m\u001b[0m\u001b[0m\n\u001b[0;32m-> 3970\u001b[0;31m                 \u001b[0mnew_axis\u001b[0m \u001b[0;34m=\u001b[0m \u001b[0maxis\u001b[0m\u001b[0;34m.\u001b[0m\u001b[0mdrop\u001b[0m\u001b[0;34m(\u001b[0m\u001b[0mlabels\u001b[0m\u001b[0;34m,\u001b[0m \u001b[0merrors\u001b[0m\u001b[0;34m=\u001b[0m\u001b[0merrors\u001b[0m\u001b[0;34m)\u001b[0m\u001b[0;34m\u001b[0m\u001b[0;34m\u001b[0m\u001b[0m\n\u001b[0m\u001b[1;32m   3971\u001b[0m             \u001b[0mresult\u001b[0m \u001b[0;34m=\u001b[0m \u001b[0mself\u001b[0m\u001b[0;34m.\u001b[0m\u001b[0mreindex\u001b[0m\u001b[0;34m(\u001b[0m\u001b[0;34m**\u001b[0m\u001b[0;34m{\u001b[0m\u001b[0maxis_name\u001b[0m\u001b[0;34m:\u001b[0m \u001b[0mnew_axis\u001b[0m\u001b[0;34m}\u001b[0m\u001b[0;34m)\u001b[0m\u001b[0;34m\u001b[0m\u001b[0;34m\u001b[0m\u001b[0m\n\u001b[1;32m   3972\u001b[0m \u001b[0;34m\u001b[0m\u001b[0m\n",
      "\u001b[0;32m/opt/anaconda3/envs/learn-env/lib/python3.6/site-packages/pandas/core/indexes/base.py\u001b[0m in \u001b[0;36mdrop\u001b[0;34m(self, labels, errors)\u001b[0m\n\u001b[1;32m   5015\u001b[0m         \u001b[0;32mif\u001b[0m \u001b[0mmask\u001b[0m\u001b[0;34m.\u001b[0m\u001b[0many\u001b[0m\u001b[0;34m(\u001b[0m\u001b[0;34m)\u001b[0m\u001b[0;34m:\u001b[0m\u001b[0;34m\u001b[0m\u001b[0;34m\u001b[0m\u001b[0m\n\u001b[1;32m   5016\u001b[0m             \u001b[0;32mif\u001b[0m \u001b[0merrors\u001b[0m \u001b[0;34m!=\u001b[0m \u001b[0;34m\"ignore\"\u001b[0m\u001b[0;34m:\u001b[0m\u001b[0;34m\u001b[0m\u001b[0;34m\u001b[0m\u001b[0m\n\u001b[0;32m-> 5017\u001b[0;31m                 \u001b[0;32mraise\u001b[0m \u001b[0mKeyError\u001b[0m\u001b[0;34m(\u001b[0m\u001b[0;34mf\"{labels[mask]} not found in axis\"\u001b[0m\u001b[0;34m)\u001b[0m\u001b[0;34m\u001b[0m\u001b[0;34m\u001b[0m\u001b[0m\n\u001b[0m\u001b[1;32m   5018\u001b[0m             \u001b[0mindexer\u001b[0m \u001b[0;34m=\u001b[0m \u001b[0mindexer\u001b[0m\u001b[0;34m[\u001b[0m\u001b[0;34m~\u001b[0m\u001b[0mmask\u001b[0m\u001b[0;34m]\u001b[0m\u001b[0;34m\u001b[0m\u001b[0;34m\u001b[0m\u001b[0m\n\u001b[1;32m   5019\u001b[0m         \u001b[0;32mreturn\u001b[0m \u001b[0mself\u001b[0m\u001b[0;34m.\u001b[0m\u001b[0mdelete\u001b[0m\u001b[0;34m(\u001b[0m\u001b[0mindexer\u001b[0m\u001b[0;34m)\u001b[0m\u001b[0;34m\u001b[0m\u001b[0;34m\u001b[0m\u001b[0m\n",
      "\u001b[0;31mKeyError\u001b[0m: \"['n_unique_tokens' 'n_non_stop_words' 'sqrt_links'\\n 'n_non_stop_unique_tokens' 'text_sentiment_polarity'] not found in axis\""
     ]
    }
   ],
   "source": [
    "df_features = df.drop(columns=['shares', 'log_shares', 'n_unique_tokens', 'n_non_stop_words',\n",
    "                               'social_media','kw_max_max', 'self_ref_min_shares', 'self_ref_max_shares',\n",
    "                               'sunday', 'saturday', 'LDA_00', 'avg_positive_polarity', 'sqrt_links',\n",
    "                               'n_non_stop_unique_tokens', 'tech', 'max_positive_polarity', 'min_negative_polarity',\n",
    "                               'abs_title_sentiment_polarity', 'num_videos', 'max_negative_polarity', 'rate_negative_words',\n",
    "                              'text_sentiment_polarity', 'rate_positive_words', 'avg_negative_polarity', 'has_img'])"
   ]
  },
  {
   "cell_type": "code",
   "execution_count": 81,
   "metadata": {},
   "outputs": [
    {
     "ename": "KeyError",
     "evalue": "\"['text_sentiment_polarity', 'text_subjectivity'] not in index\"",
     "output_type": "error",
     "traceback": [
      "\u001b[0;31m---------------------------------------------------------------------------\u001b[0m",
      "\u001b[0;31mKeyError\u001b[0m                                  Traceback (most recent call last)",
      "\u001b[0;32m<ipython-input-81-4d6d3d2b13a0>\u001b[0m in \u001b[0;36m<module>\u001b[0;34m\u001b[0m\n\u001b[1;32m      6\u001b[0m        \u001b[0;34m'title_sentiment_polarity'\u001b[0m\u001b[0;34m,\u001b[0m \u001b[0;34m'abs_title_subjectivity'\u001b[0m\u001b[0;34m,\u001b[0m\u001b[0;34m\u001b[0m\u001b[0;34m\u001b[0m\u001b[0m\n\u001b[1;32m      7\u001b[0m        \u001b[0;34m'abs_title_sentiment_polarity'\u001b[0m\u001b[0;34m,\u001b[0m\u001b[0;34m\u001b[0m\u001b[0;34m\u001b[0m\u001b[0m\n\u001b[0;32m----> 8\u001b[0;31m        'has_img', 'has_video']]\n\u001b[0m",
      "\u001b[0;32m/opt/anaconda3/envs/learn-env/lib/python3.6/site-packages/pandas/core/frame.py\u001b[0m in \u001b[0;36m__getitem__\u001b[0;34m(self, key)\u001b[0m\n\u001b[1;32m   2804\u001b[0m             \u001b[0;32mif\u001b[0m \u001b[0mis_iterator\u001b[0m\u001b[0;34m(\u001b[0m\u001b[0mkey\u001b[0m\u001b[0;34m)\u001b[0m\u001b[0;34m:\u001b[0m\u001b[0;34m\u001b[0m\u001b[0;34m\u001b[0m\u001b[0m\n\u001b[1;32m   2805\u001b[0m                 \u001b[0mkey\u001b[0m \u001b[0;34m=\u001b[0m \u001b[0mlist\u001b[0m\u001b[0;34m(\u001b[0m\u001b[0mkey\u001b[0m\u001b[0;34m)\u001b[0m\u001b[0;34m\u001b[0m\u001b[0;34m\u001b[0m\u001b[0m\n\u001b[0;32m-> 2806\u001b[0;31m             \u001b[0mindexer\u001b[0m \u001b[0;34m=\u001b[0m \u001b[0mself\u001b[0m\u001b[0;34m.\u001b[0m\u001b[0mloc\u001b[0m\u001b[0;34m.\u001b[0m\u001b[0m_get_listlike_indexer\u001b[0m\u001b[0;34m(\u001b[0m\u001b[0mkey\u001b[0m\u001b[0;34m,\u001b[0m \u001b[0maxis\u001b[0m\u001b[0;34m=\u001b[0m\u001b[0;36m1\u001b[0m\u001b[0;34m,\u001b[0m \u001b[0mraise_missing\u001b[0m\u001b[0;34m=\u001b[0m\u001b[0;32mTrue\u001b[0m\u001b[0;34m)\u001b[0m\u001b[0;34m[\u001b[0m\u001b[0;36m1\u001b[0m\u001b[0;34m]\u001b[0m\u001b[0;34m\u001b[0m\u001b[0;34m\u001b[0m\u001b[0m\n\u001b[0m\u001b[1;32m   2807\u001b[0m \u001b[0;34m\u001b[0m\u001b[0m\n\u001b[1;32m   2808\u001b[0m         \u001b[0;31m# take() does not accept boolean indexers\u001b[0m\u001b[0;34m\u001b[0m\u001b[0;34m\u001b[0m\u001b[0;34m\u001b[0m\u001b[0m\n",
      "\u001b[0;32m/opt/anaconda3/envs/learn-env/lib/python3.6/site-packages/pandas/core/indexing.py\u001b[0m in \u001b[0;36m_get_listlike_indexer\u001b[0;34m(self, key, axis, raise_missing)\u001b[0m\n\u001b[1;32m   1551\u001b[0m \u001b[0;34m\u001b[0m\u001b[0m\n\u001b[1;32m   1552\u001b[0m         self._validate_read_indexer(\n\u001b[0;32m-> 1553\u001b[0;31m             \u001b[0mkeyarr\u001b[0m\u001b[0;34m,\u001b[0m \u001b[0mindexer\u001b[0m\u001b[0;34m,\u001b[0m \u001b[0mo\u001b[0m\u001b[0;34m.\u001b[0m\u001b[0m_get_axis_number\u001b[0m\u001b[0;34m(\u001b[0m\u001b[0maxis\u001b[0m\u001b[0;34m)\u001b[0m\u001b[0;34m,\u001b[0m \u001b[0mraise_missing\u001b[0m\u001b[0;34m=\u001b[0m\u001b[0mraise_missing\u001b[0m\u001b[0;34m\u001b[0m\u001b[0;34m\u001b[0m\u001b[0m\n\u001b[0m\u001b[1;32m   1554\u001b[0m         )\n\u001b[1;32m   1555\u001b[0m         \u001b[0;32mreturn\u001b[0m \u001b[0mkeyarr\u001b[0m\u001b[0;34m,\u001b[0m \u001b[0mindexer\u001b[0m\u001b[0;34m\u001b[0m\u001b[0;34m\u001b[0m\u001b[0m\n",
      "\u001b[0;32m/opt/anaconda3/envs/learn-env/lib/python3.6/site-packages/pandas/core/indexing.py\u001b[0m in \u001b[0;36m_validate_read_indexer\u001b[0;34m(self, key, indexer, axis, raise_missing)\u001b[0m\n\u001b[1;32m   1644\u001b[0m             \u001b[0;32mif\u001b[0m \u001b[0;32mnot\u001b[0m \u001b[0;34m(\u001b[0m\u001b[0mself\u001b[0m\u001b[0;34m.\u001b[0m\u001b[0mname\u001b[0m \u001b[0;34m==\u001b[0m \u001b[0;34m\"loc\"\u001b[0m \u001b[0;32mand\u001b[0m \u001b[0;32mnot\u001b[0m \u001b[0mraise_missing\u001b[0m\u001b[0;34m)\u001b[0m\u001b[0;34m:\u001b[0m\u001b[0;34m\u001b[0m\u001b[0;34m\u001b[0m\u001b[0m\n\u001b[1;32m   1645\u001b[0m                 \u001b[0mnot_found\u001b[0m \u001b[0;34m=\u001b[0m \u001b[0mlist\u001b[0m\u001b[0;34m(\u001b[0m\u001b[0mset\u001b[0m\u001b[0;34m(\u001b[0m\u001b[0mkey\u001b[0m\u001b[0;34m)\u001b[0m \u001b[0;34m-\u001b[0m \u001b[0mset\u001b[0m\u001b[0;34m(\u001b[0m\u001b[0max\u001b[0m\u001b[0;34m)\u001b[0m\u001b[0;34m)\u001b[0m\u001b[0;34m\u001b[0m\u001b[0;34m\u001b[0m\u001b[0m\n\u001b[0;32m-> 1646\u001b[0;31m                 \u001b[0;32mraise\u001b[0m \u001b[0mKeyError\u001b[0m\u001b[0;34m(\u001b[0m\u001b[0;34mf\"{not_found} not in index\"\u001b[0m\u001b[0;34m)\u001b[0m\u001b[0;34m\u001b[0m\u001b[0;34m\u001b[0m\u001b[0m\n\u001b[0m\u001b[1;32m   1647\u001b[0m \u001b[0;34m\u001b[0m\u001b[0m\n\u001b[1;32m   1648\u001b[0m             \u001b[0;31m# we skip the warning on Categorical/Interval\u001b[0m\u001b[0;34m\u001b[0m\u001b[0;34m\u001b[0m\u001b[0;34m\u001b[0m\u001b[0m\n",
      "\u001b[0;31mKeyError\u001b[0m: \"['text_sentiment_polarity', 'text_subjectivity'] not in index\""
     ]
    }
   ],
   "source": [
    "df_features = df[['n_tokens_title', 'n_tokens_content',\n",
    "'lifestyle', 'entertainment',\n",
    "       'business', 'tech', 'world', 'is_weekend',\n",
    "       'text_subjectivity',\n",
    "       'text_sentiment_polarity', 'rate_positive_words', 'rate_negative_words',\n",
    "       'title_sentiment_polarity', 'abs_title_subjectivity',\n",
    "       'abs_title_sentiment_polarity',\n",
    "       'has_img', 'has_video']]"
   ]
  },
  {
   "cell_type": "code",
   "execution_count": null,
   "metadata": {},
   "outputs": [],
   "source": [
    "col_list = '+'.join(df_features.columns)\n",
    "f = 'log_shares~' + col_list\n",
    "model = ols(formula=f, data=df).fit()\n",
    "model.summary()"
   ]
  },
  {
   "cell_type": "code",
   "execution_count": null,
   "metadata": {},
   "outputs": [],
   "source": [
    "sns.set(style=\"white\")\n",
    "\n",
    "# Compute the correlation matrix\n",
    "corr = df.corr()\n",
    "\n",
    "# Generate a mask for the upper triangle\n",
    "mask = np.zeros_like(corr, dtype=np.bool)\n",
    "mask[np.triu_indices_from(mask)] = True\n",
    "\n",
    "# Set up the matplotlib figure\n",
    "f, ax = plt.subplots(figsize=(22, 18))\n",
    "\n",
    "# Generate a custom diverging colormap\n",
    "cmap = sns.diverging_palette(220, 10, as_cmap=True)\n",
    "\n",
    "# Draw the heatmap with the mask and correct aspect ratio\n",
    "sns.heatmap(corr, mask=mask, cmap=cmap, vmax=1, center=0,\n",
    "            square=True, linewidths=.5, cbar_kws={\"shrink\": .5})"
   ]
  },
  {
   "cell_type": "code",
   "execution_count": 88,
   "metadata": {},
   "outputs": [
    {
     "data": {
      "text/plain": [
       "Index(['url', 'timedelta', 'n_tokens_title', 'n_tokens_content',\n",
       "       'rate_unique_tokens', 'rate_non_stop_words',\n",
       "       'rate_non_stop_unique_tokens', 'num_links', 'num_self_links',\n",
       "       'num_imgs', 'num_videos', 'average_token_length', 'num_keywords',\n",
       "       'lifestyle', 'entertainment', 'business', 'social_media', 'tech',\n",
       "       'world', 'kw_min_min', 'kw_max_min', 'kw_avg_min', 'kw_min_max',\n",
       "       'kw_max_max', 'kw_avg_max', 'kw_min_avg', 'kw_max_avg', 'kw_avg_avg',\n",
       "       'self_ref_min_shares', 'self_ref_max_shares', 'self_ref_avg_shares',\n",
       "       'monday', 'tuesday', 'wednesday', 'thursday', 'friday', 'saturday',\n",
       "       'sunday', 'is_weekend', 'LDA_00', 'LDA_01', 'LDA_02', 'LDA_03',\n",
       "       'LDA_04', 'global_subjectivity', 'global_sentiment_polarity',\n",
       "       'global_rate_positive_words', 'global_rate_negative_words',\n",
       "       'rate_positive_words', 'rate_negative_words', 'avg_positive_polarity',\n",
       "       'min_positive_polarity', 'max_positive_polarity',\n",
       "       'avg_negative_polarity', 'min_negative_polarity',\n",
       "       'max_negative_polarity', 'title_subjectivity',\n",
       "       'title_sentiment_polarity', 'abs_title_subjectivity',\n",
       "       'abs_title_sentiment_polarity', 'shares', 'log_shares',\n",
       "       'log_kw_avg_max', 'capped_num_imgs', 'has_img', 'has_video'],\n",
       "      dtype='object')"
      ]
     },
     "execution_count": 88,
     "metadata": {},
     "output_type": "execute_result"
    }
   ],
   "source": [
    "df.columns"
   ]
  },
  {
   "cell_type": "code",
   "execution_count": null,
   "metadata": {},
   "outputs": [],
   "source": [
    "import plotly.figure_factory as ff\n",
    "figure = ff.create_scatterplotmatrix(\n",
    "    df[['claps', 'publication', 'views',      \n",
    "        'read_ratio','word_count']],\n",
    "    diag='histogram',\n",
    "    index='publication')"
   ]
  },
  {
   "cell_type": "code",
   "execution_count": null,
   "metadata": {},
   "outputs": [],
   "source": [
    "from sklearn.linear_model import LinearRegression\n",
    "from sklearn.cross_validation import cross_val_score\n",
    "from sklearn.cross_validation import KFold\n",
    "regression = LinearRegression(normalize=True)\n",
    "crossvalidation = KFold(n=X.shape[0], n_folds=10, shuffle=True, random_state=1)"
   ]
  },
  {
   "cell_type": "code",
   "execution_count": null,
   "metadata": {},
   "outputs": [],
   "source": [
    "df_test = pd.DataFrame(X,columns=boston.feature_names)\n",
    "baseline = np.mean(cross_val_score(regression, df, y, scoring=‘r2’, cv=crossvalidation, n_jobs=1))\n",
    "interactions = list()\n",
    "for feature_A in boston.feature_names:\n",
    "    for feature_B in boston.feature_names:\n",
    "        if feature_A > feature_B:\n",
    "            df['interaction'] = df[feature_A] * df[feature_B]\n",
    "            score = np.mean(cross_val_score(regression, df, y, scoring=‘r2’,\n",
    "                            cv=crossvalidation, n_jobs=1))\n",
    "            if score > baseline:\n",
    "                interactions.append((feature_A, feature_B, round(score,3)))\n",
    "print ‘Baseline R2: %.3f’ % baseline\n",
    "print ‘Top 10 interactions: %s’ % sorted(interactions, key=lambda(x):x[2],\n",
    " reverse=True)[:10]\n",
    "Baseline R2: 0.699\n",
    "Top 10 interactions: [(‘RM’, ‘LSTAT’, 0.782), (‘TAX’, ‘RM’, 0.766),\n",
    " (‘RM’, ‘RAD’, 0.759), (‘RM’, ‘PTRATIO’, 0.75), \n",
    "(‘RM’, ‘INDUS’, 0.748), (‘RM’, ‘NOX’, 0.733), \n",
    "(‘RM’, ‘B’, 0.731), (‘RM’, ‘AGE’, 0.727), \n",
    "(‘RM’, ‘DIS’, 0.722), (‘ZN’, ‘RM’, 0.716)]"
   ]
  },
  {
   "cell_type": "code",
   "execution_count": 92,
   "metadata": {
    "scrolled": true
   },
   "outputs": [
    {
     "data": {
      "text/plain": [
       "<matplotlib.axes._subplots.AxesSubplot at 0x12a296fd0>"
      ]
     },
     "execution_count": 92,
     "metadata": {},
     "output_type": "execute_result"
    },
    {
     "data": {
      "image/png": "[encoded data removed]",
      "text/plain": [
       "<Figure size 432x288 with 1 Axes>"
      ]
     },
     "metadata": {},
     "output_type": "display_data"
    }
   ],
   "source": [
    "df.boxplot('n_tokens_content', 'is_weekend')"
   ]
  },
  {
   "cell_type": "code",
   "execution_count": null,
   "metadata": {},
   "outputs": [],
   "source": [
    "regression_1 = LinearRegression()\n",
    "regression_2 = LinearRegression()\n",
    "regression_3 = LinearRegression()\n",
    "\n",
    "horse_1 = origin_1['horse'].values.reshape(-1, 1)\n",
    "horse_2 = origin_2['horse'].values.reshape(-1, 1)\n",
    "horse_3 = origin_3['horse'].values.reshape(-1, 1)\n",
    "\n",
    "regression_1.fit(horse_1, origin_1['mpg'])\n",
    "regression_2.fit(horse_2, origin_2['mpg'])\n",
    "regression_3.fit(horse_3, origin_3['mpg'])\n",
    "\n",
    "# Make predictions using the testing set\n",
    "pred_1 = regression_1.predict(horse_1)\n",
    "pred_2 = regression_2.predict(horse_2)\n",
    "pred_3 = regression_3.predict(horse_3)\n",
    "\n",
    "# The coefficients\n",
    "print(regression_1.coef_)\n",
    "print(regression_2.coef_)\n",
    "print(regression_3.coef_)"
   ]
  },
  {
   "cell_type": "code",
   "execution_count": null,
   "metadata": {},
   "outputs": [],
   "source": [
    "# Plot outputs\n",
    "plt.figure(figsize=(10,6))\n",
    "\n",
    "plt.scatter(df['', origin_1['mpg'],  color='blue', alpha=0.3, label = 'origin = 1')\n",
    "plt.scatter(horse_2, origin_2['mpg'],  color='red', alpha=0.3, label = 'origin = 2')\n",
    "plt.scatter(horse_3, origin_3['mpg'],  color='orange', alpha=0.3, label = 'origin = 3')\n",
    "\n",
    "plt.plot(horse_1, pred_1, color='blue', linewidth=2)\n",
    "plt.plot(horse_2, pred_2, color='red', linewidth=2)\n",
    "plt.plot(horse_3, pred_3, color='orange', linewidth=2)\n",
    "plt.ylabel('mpg')\n",
    "plt.xlabel('horsepower')\n",
    "plt.legend();"
   ]
  },
  {
   "cell_type": "code",
   "execution_count": 94,
   "metadata": {},
   "outputs": [
    {
     "data": {
      "text/plain": [
       "Index(['url', 'timedelta', 'n_tokens_title', 'n_tokens_content',\n",
       "       'rate_unique_tokens', 'rate_non_stop_words',\n",
       "       'rate_non_stop_unique_tokens', 'num_links', 'num_self_links',\n",
       "       'num_imgs', 'num_videos', 'average_token_length', 'num_keywords',\n",
       "       'lifestyle', 'entertainment', 'business', 'social_media', 'tech',\n",
       "       'world', 'kw_min_min', 'kw_max_min', 'kw_avg_min', 'kw_min_max',\n",
       "       'kw_max_max', 'kw_avg_max', 'kw_min_avg', 'kw_max_avg', 'kw_avg_avg',\n",
       "       'self_ref_min_shares', 'self_ref_max_shares', 'self_ref_avg_shares',\n",
       "       'monday', 'tuesday', 'wednesday', 'thursday', 'friday', 'saturday',\n",
       "       'sunday', 'is_weekend', 'LDA_00', 'LDA_01', 'LDA_02', 'LDA_03',\n",
       "       'LDA_04', 'global_subjectivity', 'global_sentiment_polarity',\n",
       "       'global_rate_positive_words', 'global_rate_negative_words',\n",
       "       'rate_positive_words', 'rate_negative_words', 'avg_positive_polarity',\n",
       "       'min_positive_polarity', 'max_positive_polarity',\n",
       "       'avg_negative_polarity', 'min_negative_polarity',\n",
       "       'max_negative_polarity', 'title_subjectivity',\n",
       "       'title_sentiment_polarity', 'abs_title_subjectivity',\n",
       "       'abs_title_sentiment_polarity', 'shares', 'log_shares',\n",
       "       'log_kw_avg_max', 'capped_num_imgs', 'has_img', 'has_video'],\n",
       "      dtype='object')"
      ]
     },
     "execution_count": 94,
     "metadata": {},
     "output_type": "execute_result"
    }
   ],
   "source": [
    "df.columns"
   ]
  },
  {
   "cell_type": "code",
   "execution_count": 95,
   "metadata": {},
   "outputs": [
    {
     "data": {
      "text/plain": [
       "<matplotlib.axes._subplots.AxesSubplot at 0x12b90e2b0>"
      ]
     },
     "execution_count": 95,
     "metadata": {},
     "output_type": "execute_result"
    },
    {
     "data": {
      "image/png": "[encoded data removed]",
      "text/plain": [
       "<Figure size 432x288 with 1 Axes>"
      ]
     },
     "metadata": {},
     "output_type": "display_data"
    }
   ],
   "source": [
    "df.plot.scatter('log_shares', 'timedelta')"
   ]
  },
  {
   "cell_type": "code",
   "execution_count": 101,
   "metadata": {},
   "outputs": [
    {
     "data": {
      "text/plain": [
       "<matplotlib.axes._subplots.AxesSubplot at 0x12a8b3eb8>"
      ]
     },
     "execution_count": 101,
     "metadata": {},
     "output_type": "execute_result"
    },
    {
     "data": {
      "image/png": "[encoded data removed]",
      "text/plain": [
       "<Figure size 432x288 with 1 Axes>"
      ]
     },
     "metadata": {},
     "output_type": "display_data"
    }
   ],
   "source": [
    "df['world_weekend'] = df['world'] * df['is_weekend']\n",
    "df.boxplot('log_shares', 'world_weekend')"
   ]
  },
  {
   "cell_type": "code",
   "execution_count": 102,
   "metadata": {},
   "outputs": [
    {
     "data": {
      "text/plain": [
       "1086"
      ]
     },
     "execution_count": 102,
     "metadata": {},
     "output_type": "execute_result"
    }
   ],
   "source": [
    "df['world_weekend'].sum()"
   ]
  },
  {
   "cell_type": "code",
   "execution_count": 140,
   "metadata": {},
   "outputs": [
    {
     "data": {
      "text/plain": [
       "Index(['n_tokens_title', 'n_tokens_content', 'rate_unique_tokens',\n",
       "       'rate_non_stop_unique_tokens', 'num_links', 'num_self_links',\n",
       "       'average_token_length', 'num_keywords', 'entertainment', 'business',\n",
       "       'social_media', 'tech', 'world', 'kw_max_min', 'kw_avg_min',\n",
       "       'kw_min_max', 'kw_avg_max', 'kw_min_avg', 'kw_max_avg', 'kw_avg_avg',\n",
       "       'self_ref_avg_shares', 'tuesday', 'wednesday', 'thursday', 'friday',\n",
       "       'saturday', 'sunday', 'is_weekend', 'LDA_00', 'LDA_01', 'LDA_02',\n",
       "       'LDA_03', 'LDA_04', 'global_subjectivity', 'global_sentiment_polarity',\n",
       "       'global_rate_positive_words', 'global_rate_negative_words',\n",
       "       'rate_positive_words', 'rate_negative_words', 'avg_positive_polarity',\n",
       "       'min_positive_polarity', 'max_positive_polarity',\n",
       "       'avg_negative_polarity', 'min_negative_polarity',\n",
       "       'max_negative_polarity', 'title_subjectivity',\n",
       "       'title_sentiment_polarity', 'abs_title_subjectivity',\n",
       "       'abs_title_sentiment_polarity', 'log_shares', 'has_img', 'has_video'],\n",
       "      dtype='object')"
      ]
     },
     "execution_count": 140,
     "metadata": {},
     "output_type": "execute_result"
    }
   ],
   "source": [
    "features.columns"
   ]
  },
  {
   "cell_type": "code",
   "execution_count": 145,
   "metadata": {},
   "outputs": [],
   "source": [
    "from sklearn.model_selection import KFold\n",
    "from sklearn.model_selection import cross_val_score\n",
    "regression = LinearRegression()"
   ]
  },
  {
   "cell_type": "code",
   "execution_count": 146,
   "metadata": {},
   "outputs": [
    {
     "name": "stderr",
     "output_type": "stream",
     "text": [
      "/opt/anaconda3/envs/learn-env/lib/python3.6/site-packages/ipykernel_launcher.py:24: RuntimeWarning: divide by zero encountered in log\n",
      "/opt/anaconda3/envs/learn-env/lib/python3.6/site-packages/ipykernel_launcher.py:24: RuntimeWarning: invalid value encountered in log\n"
     ]
    },
    {
     "data": {
      "text/plain": [
       "0.12221915211833342"
      ]
     },
     "execution_count": 146,
     "metadata": {},
     "output_type": "execute_result"
    }
   ],
   "source": [
    "continuous = ['n_tokens_title', 'n_tokens_content', 'rate_unique_tokens',\n",
    "               'rate_non_stop_unique_tokens', 'num_links', 'num_self_links',\n",
    "               'average_token_length', 'num_keywords', 'kw_max_min', 'kw_avg_min',\n",
    "               'kw_min_max', 'kw_avg_max', 'kw_min_avg', 'kw_max_avg', 'kw_avg_avg',\n",
    "               'self_ref_avg_shares',  'LDA_00', 'LDA_01', 'LDA_02',\n",
    "               'LDA_03', 'LDA_04', 'global_subjectivity', 'global_sentiment_polarity',\n",
    "               'global_rate_positive_words', 'global_rate_negative_words',\n",
    "               'rate_positive_words', 'rate_negative_words', 'avg_positive_polarity',\n",
    "               'min_positive_polarity', 'max_positive_polarity',\n",
    "               'avg_negative_polarity', 'min_negative_polarity',\n",
    "               'max_negative_polarity', 'title_subjectivity',\n",
    "               'title_sentiment_polarity', 'abs_title_subjectivity',\n",
    "               'abs_title_sentiment_polarity']\n",
    "categoricals = ['entertainment', 'business', 'social_media', 'tech', 'world', 'tuesday', 'wednesday', 'thursday',\n",
    "                'friday', 'saturday', 'sunday', 'is_weekend', 'has_img', 'has_video']\n",
    "\n",
    "target = features['log_shares']\n",
    "\n",
    "features_cont = features[continuous]\n",
    "\n",
    "# log features\n",
    "log_names = [f'{column}_log' for column in features_cont.columns]\n",
    "\n",
    "features_log = np.log(features_cont)\n",
    "features_log.columns = log_names\n",
    "\n",
    "# normalize (subract mean and divide by std)\n",
    "\n",
    "def normalize(feature):\n",
    "    return (feature - feature.mean()) / feature.std()\n",
    "\n",
    "features_log_norm = features_log.apply(normalize)\n",
    "\n",
    "features_cat = features[categoricals]\n",
    "\n",
    "preprocessed = pd.concat([target, features_cont, features_cat], axis=1)\n",
    "\n",
    "X = preprocessed.drop('log_shares', axis=1)\n",
    "y = preprocessed['log_shares']\n",
    "\n",
    "crossvalidation = KFold(n_splits=10, shuffle=True, random_state=1)\n",
    "baseline = np.mean(cross_val_score(regression, X, y, scoring='r2', cv=crossvalidation))\n",
    "\n",
    "baseline"
   ]
  },
  {
   "cell_type": "code",
   "execution_count": 147,
   "metadata": {},
   "outputs": [
    {
     "name": "stdout",
     "output_type": "stream",
     "text": [
      "0\n",
      "50\n",
      "100\n",
      "150\n",
      "200\n",
      "250\n",
      "300\n",
      "350\n",
      "400\n",
      "450\n",
      "500\n",
      "550\n",
      "600\n",
      "650\n",
      "700\n",
      "750\n",
      "800\n",
      "850\n",
      "900\n",
      "950\n",
      "1000\n",
      "1050\n",
      "1100\n",
      "1150\n",
      "1200\n",
      "1250\n",
      "Top 3 interactions: [('average_token_length', 'world', 0.124), ('kw_avg_avg', 'has_img', 0.124), ('LDA_00', 'social_media', 0.124)]\n"
     ]
    }
   ],
   "source": [
    "from itertools import combinations\n",
    "\n",
    "interactions = []\n",
    "\n",
    "feat_combinations = combinations(X.columns, 2)\n",
    "\n",
    "data = X.copy()\n",
    "for i, (a, b) in enumerate(feat_combinations):\n",
    "    data['interaction'] = data[a] * data[b]\n",
    "    score = np.mean(cross_val_score(regression, data, y, scoring='r2', cv=crossvalidation))\n",
    "    if score > baseline:\n",
    "        interactions.append((a, b, round(score,3)))\n",
    "    \n",
    "    if i % 50 == 0:\n",
    "        print(i)\n",
    "            \n",
    "print('Top 3 interactions: %s' %sorted(interactions, key=lambda inter: inter[2], reverse=True)[:3])"
   ]
  },
  {
   "cell_type": "code",
   "execution_count": 189,
   "metadata": {},
   "outputs": [
    {
     "data": {
      "text/plain": [
       "551"
      ]
     },
     "execution_count": 189,
     "metadata": {},
     "output_type": "execute_result"
    }
   ],
   "source": [
    "len(interactions)"
   ]
  },
  {
   "cell_type": "code",
   "execution_count": 185,
   "metadata": {},
   "outputs": [
    {
     "data": {
      "text/plain": [
       "[('global_sentiment_polarity', 'tech', 0.123),\n",
       " ('global_sentiment_polarity', 'world', 0.123),\n",
       " ('global_rate_positive_words', 'abs_title_subjectivity', 0.123),\n",
       " ('global_rate_positive_words', 'world', 0.123),\n",
       " ('global_rate_positive_words', 'has_img', 0.123),\n",
       " ('global_rate_negative_words', 'abs_title_subjectivity', 0.123),\n",
       " ('rate_positive_words', 'abs_title_subjectivity', 0.123),\n",
       " ('rate_positive_words', 'tech', 0.123),\n",
       " ('rate_positive_words', 'world', 0.123),\n",
       " ('rate_negative_words', 'abs_title_subjectivity', 0.123)]"
      ]
     },
     "execution_count": 185,
     "metadata": {},
     "output_type": "execute_result"
    }
   ],
   "source": [
    "top_100 = sorted(interactions, key=lambda inter: inter[2], reverse=True)[:100]\n",
    "top_100[-10:]"
   ]
  },
  {
   "cell_type": "code",
   "execution_count": 195,
   "metadata": {},
   "outputs": [
    {
     "data": {
      "text/plain": [
       "[('entertainment', 'sunday', 0.123),\n",
       " ('entertainment', 'is_weekend', 0.123),\n",
       " ('business', 'has_video', 0.123),\n",
       " ('social_media', 'has_video', 0.123),\n",
       " ('world', 'has_img', 0.123),\n",
       " ('n_tokens_title', 'rate_non_stop_unique_tokens', 0.122),\n",
       " ('n_tokens_title', 'kw_min_max', 0.122),\n",
       " ('n_tokens_title', 'LDA_00', 0.122),\n",
       " ('n_tokens_title', 'LDA_02', 0.122),\n",
       " ('n_tokens_title', 'LDA_04', 0.122)]"
      ]
     },
     "execution_count": 195,
     "metadata": {},
     "output_type": "execute_result"
    }
   ],
   "source": [
    "top_120 = sorted(interactions, key=lambda inter: inter[2], reverse=True)[:120]\n",
    "top_120[-10:]"
   ]
  },
  {
   "cell_type": "code",
   "execution_count": 200,
   "metadata": {},
   "outputs": [
    {
     "data": {
      "text/plain": [
       "0.14130672111815018"
      ]
     },
     "execution_count": 200,
     "metadata": {},
     "output_type": "execute_result"
    }
   ],
   "source": [
    "regression = LinearRegression()\n",
    "crossvalidation = KFold(n_splits=10, shuffle=True, random_state=1)\n",
    "final = X.copy()\n",
    "\n",
    "for i in top_100:\n",
    "    final[i[0]+'_'+i[1]] = final[i[0]] * final[i[1]]\n",
    "\n",
    "final_model = np.mean(cross_val_score(regression, final, y, scoring='r2', cv=crossvalidation))\n",
    "\n",
    "final_model"
   ]
  },
  {
   "cell_type": "code",
   "execution_count": 201,
   "metadata": {},
   "outputs": [],
   "source": [
    "final_target = pd.concat([target, final], axis=1)"
   ]
  },
  {
   "cell_type": "code",
   "execution_count": 202,
   "metadata": {},
   "outputs": [
    {
     "data": {
      "text/html": [
       "<table class=\"simpletable\">\n",
       "<caption>OLS Regression Results</caption>\n",
       "<tr>\n",
       "  <th>Dep. Variable:</th>       <td>log_shares</td>    <th>  R-squared:         </th> <td>   0.152</td> \n",
       "</tr>\n",
       "<tr>\n",
       "  <th>Model:</th>                   <td>OLS</td>       <th>  Adj. R-squared:    </th> <td>   0.148</td> \n",
       "</tr>\n",
       "<tr>\n",
       "  <th>Method:</th>             <td>Least Squares</td>  <th>  F-statistic:       </th> <td>   48.32</td> \n",
       "</tr>\n",
       "<tr>\n",
       "  <th>Date:</th>             <td>Wed, 06 May 2020</td> <th>  Prob (F-statistic):</th>  <td>  0.00</td>  \n",
       "</tr>\n",
       "<tr>\n",
       "  <th>Time:</th>                 <td>13:34:18</td>     <th>  Log-Likelihood:    </th> <td> -50138.</td> \n",
       "</tr>\n",
       "<tr>\n",
       "  <th>No. Observations:</th>      <td> 39644</td>      <th>  AIC:               </th> <td>1.006e+05</td>\n",
       "</tr>\n",
       "<tr>\n",
       "  <th>Df Residuals:</th>          <td> 39497</td>      <th>  BIC:               </th> <td>1.018e+05</td>\n",
       "</tr>\n",
       "<tr>\n",
       "  <th>Df Model:</th>              <td>   146</td>      <th>                     </th>     <td> </td>    \n",
       "</tr>\n",
       "<tr>\n",
       "  <th>Covariance Type:</th>      <td>nonrobust</td>    <th>                     </th>     <td> </td>    \n",
       "</tr>\n",
       "</table>\n",
       "<table class=\"simpletable\">\n",
       "<tr>\n",
       "                          <td></td>                             <th>coef</th>     <th>std err</th>      <th>t</th>      <th>P>|t|</th>  <th>[0.025</th>    <th>0.975]</th>  \n",
       "</tr>\n",
       "<tr>\n",
       "  <th>Intercept</th>                                         <td>    5.8720</td> <td>   11.504</td> <td>    0.510</td> <td> 0.610</td> <td>  -16.675</td> <td>   28.419</td>\n",
       "</tr>\n",
       "<tr>\n",
       "  <th>n_tokens_title</th>                                    <td>   -0.0101</td> <td>    0.019</td> <td>   -0.519</td> <td> 0.604</td> <td>   -0.048</td> <td>    0.028</td>\n",
       "</tr>\n",
       "<tr>\n",
       "  <th>n_tokens_content</th>                                  <td>    0.0003</td> <td>    0.000</td> <td>    2.894</td> <td> 0.004</td> <td>    0.000</td> <td>    0.001</td>\n",
       "</tr>\n",
       "<tr>\n",
       "  <th>rate_unique_tokens</th>                                <td>    0.9526</td> <td>    0.504</td> <td>    1.892</td> <td> 0.059</td> <td>   -0.035</td> <td>    1.940</td>\n",
       "</tr>\n",
       "<tr>\n",
       "  <th>rate_non_stop_unique_tokens</th>                       <td>   -0.1848</td> <td>    0.268</td> <td>   -0.689</td> <td> 0.491</td> <td>   -0.711</td> <td>    0.341</td>\n",
       "</tr>\n",
       "<tr>\n",
       "  <th>num_links</th>                                         <td>    0.0070</td> <td>    0.002</td> <td>    2.896</td> <td> 0.004</td> <td>    0.002</td> <td>    0.012</td>\n",
       "</tr>\n",
       "<tr>\n",
       "  <th>num_self_links</th>                                    <td>   -0.1006</td> <td>    0.027</td> <td>   -3.740</td> <td> 0.000</td> <td>   -0.153</td> <td>   -0.048</td>\n",
       "</tr>\n",
       "<tr>\n",
       "  <th>average_token_length</th>                              <td>   -0.1611</td> <td>    0.100</td> <td>   -1.605</td> <td> 0.109</td> <td>   -0.358</td> <td>    0.036</td>\n",
       "</tr>\n",
       "<tr>\n",
       "  <th>num_keywords</th>                                      <td>   -0.6800</td> <td>    1.495</td> <td>   -0.455</td> <td> 0.649</td> <td>   -3.611</td> <td>    2.251</td>\n",
       "</tr>\n",
       "<tr>\n",
       "  <th>kw_max_min</th>                                        <td>-1.333e-05</td> <td> 7.37e-06</td> <td>   -1.807</td> <td> 0.071</td> <td>-2.78e-05</td> <td> 1.13e-06</td>\n",
       "</tr>\n",
       "<tr>\n",
       "  <th>kw_avg_min</th>                                        <td>    0.0001</td> <td> 4.63e-05</td> <td>    2.343</td> <td> 0.019</td> <td> 1.77e-05</td> <td>    0.000</td>\n",
       "</tr>\n",
       "<tr>\n",
       "  <th>kw_min_max</th>                                        <td>-1.636e-06</td> <td> 4.88e-07</td> <td>   -3.351</td> <td> 0.001</td> <td>-2.59e-06</td> <td>-6.79e-07</td>\n",
       "</tr>\n",
       "<tr>\n",
       "  <th>kw_avg_max</th>                                        <td>-1.538e-06</td> <td> 2.16e-07</td> <td>   -7.125</td> <td> 0.000</td> <td>-1.96e-06</td> <td>-1.11e-06</td>\n",
       "</tr>\n",
       "<tr>\n",
       "  <th>kw_min_avg</th>                                        <td>-4.963e-05</td> <td> 1.22e-05</td> <td>   -4.073</td> <td> 0.000</td> <td>-7.35e-05</td> <td>-2.57e-05</td>\n",
       "</tr>\n",
       "<tr>\n",
       "  <th>kw_max_avg</th>                                        <td>-6.099e-05</td> <td> 6.71e-06</td> <td>   -9.083</td> <td> 0.000</td> <td>-7.41e-05</td> <td>-4.78e-05</td>\n",
       "</tr>\n",
       "<tr>\n",
       "  <th>kw_avg_avg</th>                                        <td>    0.0003</td> <td> 2.57e-05</td> <td>   10.410</td> <td> 0.000</td> <td>    0.000</td> <td>    0.000</td>\n",
       "</tr>\n",
       "<tr>\n",
       "  <th>self_ref_avg_shares</th>                               <td> 2.778e-06</td> <td> 6.26e-07</td> <td>    4.436</td> <td> 0.000</td> <td> 1.55e-06</td> <td>    4e-06</td>\n",
       "</tr>\n",
       "<tr>\n",
       "  <th>LDA_00</th>                                            <td>   -2.0740</td> <td>    0.981</td> <td>   -2.114</td> <td> 0.035</td> <td>   -3.997</td> <td>   -0.151</td>\n",
       "</tr>\n",
       "<tr>\n",
       "  <th>LDA_01</th>                                            <td>   -3.1987</td> <td>    0.919</td> <td>   -3.480</td> <td> 0.001</td> <td>   -5.000</td> <td>   -1.397</td>\n",
       "</tr>\n",
       "<tr>\n",
       "  <th>LDA_02</th>                                            <td>   -5.3165</td> <td>    9.943</td> <td>   -0.535</td> <td> 0.593</td> <td>  -24.806</td> <td>   14.173</td>\n",
       "</tr>\n",
       "<tr>\n",
       "  <th>LDA_03</th>                                            <td>   -3.1717</td> <td>    0.945</td> <td>   -3.357</td> <td> 0.001</td> <td>   -5.023</td> <td>   -1.320</td>\n",
       "</tr>\n",
       "<tr>\n",
       "  <th>LDA_04</th>                                            <td>   -2.6523</td> <td>    0.897</td> <td>   -2.958</td> <td> 0.003</td> <td>   -4.410</td> <td>   -0.895</td>\n",
       "</tr>\n",
       "<tr>\n",
       "  <th>global_subjectivity</th>                               <td>    0.2492</td> <td>    0.870</td> <td>    0.287</td> <td> 0.774</td> <td>   -1.455</td> <td>    1.954</td>\n",
       "</tr>\n",
       "<tr>\n",
       "  <th>global_sentiment_polarity</th>                         <td>   -0.3203</td> <td>    0.336</td> <td>   -0.954</td> <td> 0.340</td> <td>   -0.979</td> <td>    0.338</td>\n",
       "</tr>\n",
       "<tr>\n",
       "  <th>global_rate_positive_words</th>                        <td>   -5.2284</td> <td>    1.117</td> <td>   -4.681</td> <td> 0.000</td> <td>   -7.417</td> <td>   -3.039</td>\n",
       "</tr>\n",
       "<tr>\n",
       "  <th>global_rate_negative_words</th>                        <td>   -3.9813</td> <td>    3.228</td> <td>   -1.233</td> <td> 0.217</td> <td>  -10.308</td> <td>    2.345</td>\n",
       "</tr>\n",
       "<tr>\n",
       "  <th>rate_positive_words</th>                               <td>    4.2395</td> <td>   12.191</td> <td>    0.348</td> <td> 0.728</td> <td>  -19.654</td> <td>   28.133</td>\n",
       "</tr>\n",
       "<tr>\n",
       "  <th>rate_negative_words</th>                               <td>    3.9036</td> <td>   12.301</td> <td>    0.317</td> <td> 0.751</td> <td>  -20.207</td> <td>   28.015</td>\n",
       "</tr>\n",
       "<tr>\n",
       "  <th>avg_positive_polarity</th>                             <td>   -1.1111</td> <td>    0.854</td> <td>   -1.301</td> <td> 0.193</td> <td>   -2.784</td> <td>    0.562</td>\n",
       "</tr>\n",
       "<tr>\n",
       "  <th>min_positive_polarity</th>                             <td>   -0.1650</td> <td>    0.122</td> <td>   -1.355</td> <td> 0.175</td> <td>   -0.404</td> <td>    0.074</td>\n",
       "</tr>\n",
       "<tr>\n",
       "  <th>max_positive_polarity</th>                             <td>   -0.2956</td> <td>    0.120</td> <td>   -2.459</td> <td> 0.014</td> <td>   -0.531</td> <td>   -0.060</td>\n",
       "</tr>\n",
       "<tr>\n",
       "  <th>avg_negative_polarity</th>                             <td>   -1.4865</td> <td>    2.917</td> <td>   -0.510</td> <td> 0.610</td> <td>   -7.203</td> <td>    4.230</td>\n",
       "</tr>\n",
       "<tr>\n",
       "  <th>min_negative_polarity</th>                             <td>    0.0665</td> <td>    0.089</td> <td>    0.746</td> <td> 0.456</td> <td>   -0.108</td> <td>    0.241</td>\n",
       "</tr>\n",
       "<tr>\n",
       "  <th>max_negative_polarity</th>                             <td>   -0.0528</td> <td>    0.081</td> <td>   -0.650</td> <td> 0.516</td> <td>   -0.212</td> <td>    0.107</td>\n",
       "</tr>\n",
       "<tr>\n",
       "  <th>title_subjectivity</th>                                <td>    0.0541</td> <td>    0.021</td> <td>    2.633</td> <td> 0.008</td> <td>    0.014</td> <td>    0.094</td>\n",
       "</tr>\n",
       "<tr>\n",
       "  <th>title_sentiment_polarity</th>                          <td>    0.0873</td> <td>    0.019</td> <td>    4.643</td> <td> 0.000</td> <td>    0.050</td> <td>    0.124</td>\n",
       "</tr>\n",
       "<tr>\n",
       "  <th>abs_title_subjectivity</th>                            <td>   14.0448</td> <td>   13.223</td> <td>    1.062</td> <td> 0.288</td> <td>  -11.872</td> <td>   39.961</td>\n",
       "</tr>\n",
       "<tr>\n",
       "  <th>abs_title_sentiment_polarity</th>                      <td>    0.0323</td> <td>    0.030</td> <td>    1.089</td> <td> 0.276</td> <td>   -0.026</td> <td>    0.090</td>\n",
       "</tr>\n",
       "<tr>\n",
       "  <th>entertainment</th>                                     <td>   -0.2185</td> <td>    0.086</td> <td>   -2.546</td> <td> 0.011</td> <td>   -0.387</td> <td>   -0.050</td>\n",
       "</tr>\n",
       "<tr>\n",
       "  <th>business</th>                                          <td>   -0.0864</td> <td>    0.040</td> <td>   -2.168</td> <td> 0.030</td> <td>   -0.165</td> <td>   -0.008</td>\n",
       "</tr>\n",
       "<tr>\n",
       "  <th>social_media</th>                                      <td>    0.7682</td> <td>    0.120</td> <td>    6.378</td> <td> 0.000</td> <td>    0.532</td> <td>    1.004</td>\n",
       "</tr>\n",
       "<tr>\n",
       "  <th>tech</th>                                              <td>    0.2367</td> <td>    0.093</td> <td>    2.539</td> <td> 0.011</td> <td>    0.054</td> <td>    0.419</td>\n",
       "</tr>\n",
       "<tr>\n",
       "  <th>world</th>                                             <td>    0.6780</td> <td>    0.404</td> <td>    1.677</td> <td> 0.094</td> <td>   -0.114</td> <td>    1.470</td>\n",
       "</tr>\n",
       "<tr>\n",
       "  <th>tuesday</th>                                           <td>   -0.0658</td> <td>    0.015</td> <td>   -4.523</td> <td> 0.000</td> <td>   -0.094</td> <td>   -0.037</td>\n",
       "</tr>\n",
       "<tr>\n",
       "  <th>wednesday</th>                                         <td>   -0.1254</td> <td>    0.020</td> <td>   -6.230</td> <td> 0.000</td> <td>   -0.165</td> <td>   -0.086</td>\n",
       "</tr>\n",
       "<tr>\n",
       "  <th>thursday</th>                                          <td>   -0.0726</td> <td>    0.016</td> <td>   -4.482</td> <td> 0.000</td> <td>   -0.104</td> <td>   -0.041</td>\n",
       "</tr>\n",
       "<tr>\n",
       "  <th>friday</th>                                            <td>    0.1119</td> <td>    0.039</td> <td>    2.837</td> <td> 0.005</td> <td>    0.035</td> <td>    0.189</td>\n",
       "</tr>\n",
       "<tr>\n",
       "  <th>saturday</th>                                          <td>    0.1748</td> <td>    0.028</td> <td>    6.263</td> <td> 0.000</td> <td>    0.120</td> <td>    0.229</td>\n",
       "</tr>\n",
       "<tr>\n",
       "  <th>sunday</th>                                            <td>    0.0527</td> <td>    0.019</td> <td>    2.737</td> <td> 0.006</td> <td>    0.015</td> <td>    0.090</td>\n",
       "</tr>\n",
       "<tr>\n",
       "  <th>is_weekend</th>                                        <td>    0.2275</td> <td>    0.018</td> <td>   12.981</td> <td> 0.000</td> <td>    0.193</td> <td>    0.262</td>\n",
       "</tr>\n",
       "<tr>\n",
       "  <th>has_img</th>                                           <td>   -0.1689</td> <td>    0.076</td> <td>   -2.224</td> <td> 0.026</td> <td>   -0.318</td> <td>   -0.020</td>\n",
       "</tr>\n",
       "<tr>\n",
       "  <th>has_video</th>                                         <td>   -0.0133</td> <td>    0.057</td> <td>   -0.233</td> <td> 0.816</td> <td>   -0.125</td> <td>    0.098</td>\n",
       "</tr>\n",
       "<tr>\n",
       "  <th>average_token_length_world</th>                        <td>   -0.1709</td> <td>    0.079</td> <td>   -2.157</td> <td> 0.031</td> <td>   -0.326</td> <td>   -0.016</td>\n",
       "</tr>\n",
       "<tr>\n",
       "  <th>kw_avg_avg_has_img</th>                                <td> 7.428e-05</td> <td> 2.02e-05</td> <td>    3.678</td> <td> 0.000</td> <td> 3.47e-05</td> <td>    0.000</td>\n",
       "</tr>\n",
       "<tr>\n",
       "  <th>LDA_00_social_media</th>                               <td>    0.4372</td> <td>    0.088</td> <td>    4.952</td> <td> 0.000</td> <td>    0.264</td> <td>    0.610</td>\n",
       "</tr>\n",
       "<tr>\n",
       "  <th>avg_positive_polarity_social_media</th>                <td>   -0.7836</td> <td>    0.283</td> <td>   -2.767</td> <td> 0.006</td> <td>   -1.339</td> <td>   -0.229</td>\n",
       "</tr>\n",
       "<tr>\n",
       "  <th>n_tokens_title_n_tokens_content</th>                   <td>-1.069e-05</td> <td> 6.28e-06</td> <td>   -1.702</td> <td> 0.089</td> <td> -2.3e-05</td> <td> 1.62e-06</td>\n",
       "</tr>\n",
       "<tr>\n",
       "  <th>n_tokens_title_rate_unique_tokens</th>                 <td>    0.0148</td> <td>    0.030</td> <td>    0.495</td> <td> 0.621</td> <td>   -0.044</td> <td>    0.074</td>\n",
       "</tr>\n",
       "<tr>\n",
       "  <th>n_tokens_title_num_links</th>                          <td>   -0.0004</td> <td>    0.000</td> <td>   -1.672</td> <td> 0.095</td> <td>   -0.001</td> <td> 6.19e-05</td>\n",
       "</tr>\n",
       "<tr>\n",
       "  <th>n_tokens_title_num_self_links</th>                     <td>   -0.0019</td> <td>    0.001</td> <td>   -3.094</td> <td> 0.002</td> <td>   -0.003</td> <td>   -0.001</td>\n",
       "</tr>\n",
       "<tr>\n",
       "  <th>n_tokens_title_kw_avg_max</th>                         <td> 7.569e-08</td> <td> 1.61e-08</td> <td>    4.715</td> <td> 0.000</td> <td> 4.42e-08</td> <td> 1.07e-07</td>\n",
       "</tr>\n",
       "<tr>\n",
       "  <th>n_tokens_title_has_video</th>                          <td>    0.0137</td> <td>    0.004</td> <td>    3.093</td> <td> 0.002</td> <td>    0.005</td> <td>    0.022</td>\n",
       "</tr>\n",
       "<tr>\n",
       "  <th>n_tokens_content_rate_unique_tokens</th>               <td>   -0.0012</td> <td>    0.000</td> <td>   -3.979</td> <td> 0.000</td> <td>   -0.002</td> <td>   -0.001</td>\n",
       "</tr>\n",
       "<tr>\n",
       "  <th>n_tokens_content_rate_non_stop_unique_tokens</th>      <td>    0.0006</td> <td>    0.000</td> <td>    2.258</td> <td> 0.024</td> <td> 7.36e-05</td> <td>    0.001</td>\n",
       "</tr>\n",
       "<tr>\n",
       "  <th>n_tokens_content_num_keywords</th>                     <td>-9.983e-06</td> <td> 8.15e-06</td> <td>   -1.225</td> <td> 0.220</td> <td> -2.6e-05</td> <td> 5.98e-06</td>\n",
       "</tr>\n",
       "<tr>\n",
       "  <th>n_tokens_content_LDA_00</th>                           <td> 9.983e-05</td> <td>  7.8e-05</td> <td>    1.279</td> <td> 0.201</td> <td>-5.31e-05</td> <td>    0.000</td>\n",
       "</tr>\n",
       "<tr>\n",
       "  <th>n_tokens_content_LDA_02</th>                           <td>-1.013e-05</td> <td> 5.07e-05</td> <td>   -0.200</td> <td> 0.842</td> <td>   -0.000</td> <td> 8.93e-05</td>\n",
       "</tr>\n",
       "<tr>\n",
       "  <th>n_tokens_content_LDA_04</th>                           <td> 3.346e-05</td> <td> 6.37e-05</td> <td>    0.525</td> <td> 0.599</td> <td>-9.14e-05</td> <td>    0.000</td>\n",
       "</tr>\n",
       "<tr>\n",
       "  <th>n_tokens_content_min_positive_polarity</th>            <td>   -0.0004</td> <td>    0.000</td> <td>   -1.497</td> <td> 0.134</td> <td>   -0.001</td> <td>    0.000</td>\n",
       "</tr>\n",
       "<tr>\n",
       "  <th>n_tokens_content_business</th>                         <td>  4.72e-05</td> <td> 4.71e-05</td> <td>    1.002</td> <td> 0.316</td> <td>-4.52e-05</td> <td>    0.000</td>\n",
       "</tr>\n",
       "<tr>\n",
       "  <th>n_tokens_content_tech</th>                             <td> 5.974e-05</td> <td> 3.87e-05</td> <td>    1.544</td> <td> 0.123</td> <td>-1.61e-05</td> <td>    0.000</td>\n",
       "</tr>\n",
       "<tr>\n",
       "  <th>n_tokens_content_wednesday</th>                        <td>    0.0001</td> <td> 2.56e-05</td> <td>    4.267</td> <td> 0.000</td> <td> 5.91e-05</td> <td>    0.000</td>\n",
       "</tr>\n",
       "<tr>\n",
       "  <th>rate_unique_tokens_num_keywords</th>                   <td>   -0.1250</td> <td>    0.048</td> <td>   -2.596</td> <td> 0.009</td> <td>   -0.219</td> <td>   -0.031</td>\n",
       "</tr>\n",
       "<tr>\n",
       "  <th>rate_unique_tokens_LDA_00</th>                         <td>    0.4213</td> <td>    0.401</td> <td>    1.049</td> <td> 0.294</td> <td>   -0.366</td> <td>    1.208</td>\n",
       "</tr>\n",
       "<tr>\n",
       "  <th>rate_unique_tokens_LDA_01</th>                         <td>    0.4229</td> <td>    0.311</td> <td>    1.360</td> <td> 0.174</td> <td>   -0.187</td> <td>    1.032</td>\n",
       "</tr>\n",
       "<tr>\n",
       "  <th>rate_unique_tokens_entertainment</th>                  <td>   -0.0705</td> <td>    0.148</td> <td>   -0.476</td> <td> 0.634</td> <td>   -0.361</td> <td>    0.220</td>\n",
       "</tr>\n",
       "<tr>\n",
       "  <th>rate_non_stop_unique_tokens_num_keywords</th>          <td>   -0.0279</td> <td>    0.029</td> <td>   -0.972</td> <td> 0.331</td> <td>   -0.084</td> <td>    0.028</td>\n",
       "</tr>\n",
       "<tr>\n",
       "  <th>rate_non_stop_unique_tokens_LDA_00</th>                <td>   -0.1872</td> <td>    0.296</td> <td>   -0.633</td> <td> 0.527</td> <td>   -0.767</td> <td>    0.392</td>\n",
       "</tr>\n",
       "<tr>\n",
       "  <th>rate_non_stop_unique_tokens_LDA_01</th>                <td>    0.2629</td> <td>    0.210</td> <td>    1.255</td> <td> 0.210</td> <td>   -0.148</td> <td>    0.674</td>\n",
       "</tr>\n",
       "<tr>\n",
       "  <th>rate_non_stop_unique_tokens_LDA_03</th>                <td>    0.0933</td> <td>    0.136</td> <td>    0.688</td> <td> 0.492</td> <td>   -0.173</td> <td>    0.359</td>\n",
       "</tr>\n",
       "<tr>\n",
       "  <th>rate_non_stop_unique_tokens_max_positive_polarity</th> <td>    0.2078</td> <td>    0.151</td> <td>    1.377</td> <td> 0.169</td> <td>   -0.088</td> <td>    0.504</td>\n",
       "</tr>\n",
       "<tr>\n",
       "  <th>rate_non_stop_unique_tokens_has_img</th>               <td>   -0.2059</td> <td>    0.072</td> <td>   -2.856</td> <td> 0.004</td> <td>   -0.347</td> <td>   -0.065</td>\n",
       "</tr>\n",
       "<tr>\n",
       "  <th>num_links_kw_avg_max</th>                              <td> 5.173e-09</td> <td> 3.53e-09</td> <td>    1.464</td> <td> 0.143</td> <td>-1.75e-09</td> <td> 1.21e-08</td>\n",
       "</tr>\n",
       "<tr>\n",
       "  <th>num_links_business</th>                                <td>    0.0038</td> <td>    0.002</td> <td>    2.235</td> <td> 0.025</td> <td>    0.000</td> <td>    0.007</td>\n",
       "</tr>\n",
       "<tr>\n",
       "  <th>num_links_social_media</th>                            <td>   -0.0065</td> <td>    0.001</td> <td>   -4.682</td> <td> 0.000</td> <td>   -0.009</td> <td>   -0.004</td>\n",
       "</tr>\n",
       "<tr>\n",
       "  <th>num_self_links_average_token_length</th>               <td>    0.0241</td> <td>    0.005</td> <td>    4.417</td> <td> 0.000</td> <td>    0.013</td> <td>    0.035</td>\n",
       "</tr>\n",
       "<tr>\n",
       "  <th>average_token_length_LDA_00</th>                       <td>   -0.2172</td> <td>    0.074</td> <td>   -2.946</td> <td> 0.003</td> <td>   -0.362</td> <td>   -0.073</td>\n",
       "</tr>\n",
       "<tr>\n",
       "  <th>average_token_length_LDA_02</th>                       <td>   -0.1422</td> <td>    0.118</td> <td>   -1.201</td> <td> 0.230</td> <td>   -0.374</td> <td>    0.090</td>\n",
       "</tr>\n",
       "<tr>\n",
       "  <th>average_token_length_LDA_03</th>                       <td>    0.0543</td> <td>    0.065</td> <td>    0.839</td> <td> 0.402</td> <td>   -0.073</td> <td>    0.181</td>\n",
       "</tr>\n",
       "<tr>\n",
       "  <th>average_token_length_global_subjectivity</th>          <td>    0.0327</td> <td>    0.184</td> <td>    0.178</td> <td> 0.859</td> <td>   -0.327</td> <td>    0.393</td>\n",
       "</tr>\n",
       "<tr>\n",
       "  <th>average_token_length_avg_positive_polarity</th>        <td>    0.2645</td> <td>    0.179</td> <td>    1.482</td> <td> 0.138</td> <td>   -0.085</td> <td>    0.614</td>\n",
       "</tr>\n",
       "<tr>\n",
       "  <th>num_keywords_kw_max_avg</th>                           <td> 3.652e-06</td> <td> 5.71e-07</td> <td>    6.401</td> <td> 0.000</td> <td> 2.53e-06</td> <td> 4.77e-06</td>\n",
       "</tr>\n",
       "<tr>\n",
       "  <th>num_keywords_global_sentiment_polarity</th>            <td>   -0.0296</td> <td>    0.039</td> <td>   -0.754</td> <td> 0.451</td> <td>   -0.107</td> <td>    0.047</td>\n",
       "</tr>\n",
       "<tr>\n",
       "  <th>num_keywords_global_rate_negative_words</th>           <td>    0.7363</td> <td>    0.363</td> <td>    2.030</td> <td> 0.042</td> <td>    0.025</td> <td>    1.447</td>\n",
       "</tr>\n",
       "<tr>\n",
       "  <th>num_keywords_rate_positive_words</th>                  <td>    0.7349</td> <td>    1.494</td> <td>    0.492</td> <td> 0.623</td> <td>   -2.193</td> <td>    3.662</td>\n",
       "</tr>\n",
       "<tr>\n",
       "  <th>num_keywords_rate_negative_words</th>                  <td>    0.7451</td> <td>    1.505</td> <td>    0.495</td> <td> 0.620</td> <td>   -2.204</td> <td>    3.695</td>\n",
       "</tr>\n",
       "<tr>\n",
       "  <th>num_keywords_min_negative_polarity</th>                <td>   -0.0143</td> <td>    0.011</td> <td>   -1.309</td> <td> 0.190</td> <td>   -0.036</td> <td>    0.007</td>\n",
       "</tr>\n",
       "<tr>\n",
       "  <th>kw_max_min_max_negative_polarity</th>                  <td>-2.982e-05</td> <td> 5.14e-05</td> <td>   -0.580</td> <td> 0.562</td> <td>   -0.000</td> <td>  7.1e-05</td>\n",
       "</tr>\n",
       "<tr>\n",
       "  <th>kw_max_min_friday</th>                                 <td> 2.234e-05</td> <td> 1.18e-05</td> <td>    1.891</td> <td> 0.059</td> <td>-8.11e-07</td> <td> 4.55e-05</td>\n",
       "</tr>\n",
       "<tr>\n",
       "  <th>kw_avg_min_self_ref_avg_shares</th>                    <td>-5.815e-10</td> <td> 1.96e-10</td> <td>   -2.973</td> <td> 0.003</td> <td>-9.65e-10</td> <td>-1.98e-10</td>\n",
       "</tr>\n",
       "<tr>\n",
       "  <th>kw_avg_min_max_negative_polarity</th>                  <td>    0.0004</td> <td>    0.000</td> <td>    1.168</td> <td> 0.243</td> <td>   -0.000</td> <td>    0.001</td>\n",
       "</tr>\n",
       "<tr>\n",
       "  <th>kw_avg_min_thursday</th>                               <td> 5.416e-05</td> <td>  2.2e-05</td> <td>    2.459</td> <td> 0.014</td> <td>  1.1e-05</td> <td> 9.73e-05</td>\n",
       "</tr>\n",
       "<tr>\n",
       "  <th>kw_avg_min_friday</th>                                 <td>   -0.0002</td> <td> 5.86e-05</td> <td>   -2.909</td> <td> 0.004</td> <td>   -0.000</td> <td>-5.56e-05</td>\n",
       "</tr>\n",
       "<tr>\n",
       "  <th>kw_min_max_kw_max_avg</th>                             <td>-1.097e-10</td> <td> 3.38e-11</td> <td>   -3.243</td> <td> 0.001</td> <td>-1.76e-10</td> <td>-4.34e-11</td>\n",
       "</tr>\n",
       "<tr>\n",
       "  <th>kw_min_max_kw_avg_avg</th>                             <td> 4.963e-10</td> <td> 1.59e-10</td> <td>    3.126</td> <td> 0.002</td> <td> 1.85e-10</td> <td> 8.07e-10</td>\n",
       "</tr>\n",
       "<tr>\n",
       "  <th>kw_avg_max_self_ref_avg_shares</th>                    <td>-3.918e-12</td> <td> 1.49e-12</td> <td>   -2.635</td> <td> 0.008</td> <td>-6.83e-12</td> <td>   -1e-12</td>\n",
       "</tr>\n",
       "<tr>\n",
       "  <th>kw_avg_max_LDA_00</th>                                 <td> 3.317e-07</td> <td> 1.38e-07</td> <td>    2.395</td> <td> 0.017</td> <td> 6.03e-08</td> <td> 6.03e-07</td>\n",
       "</tr>\n",
       "<tr>\n",
       "  <th>kw_avg_max_LDA_01</th>                                 <td>-5.714e-07</td> <td> 2.04e-07</td> <td>   -2.798</td> <td> 0.005</td> <td>-9.72e-07</td> <td>-1.71e-07</td>\n",
       "</tr>\n",
       "<tr>\n",
       "  <th>kw_avg_max_max_positive_polarity</th>                  <td> 2.148e-07</td> <td> 1.64e-07</td> <td>    1.309</td> <td> 0.191</td> <td>-1.07e-07</td> <td> 5.37e-07</td>\n",
       "</tr>\n",
       "<tr>\n",
       "  <th>kw_avg_max_saturday</th>                               <td>-4.298e-07</td> <td> 1.49e-07</td> <td>   -2.883</td> <td> 0.004</td> <td>-7.22e-07</td> <td>-1.38e-07</td>\n",
       "</tr>\n",
       "<tr>\n",
       "  <th>kw_min_avg_LDA_00</th>                                 <td> 3.105e-05</td> <td>  2.3e-05</td> <td>    1.351</td> <td> 0.177</td> <td> -1.4e-05</td> <td> 7.61e-05</td>\n",
       "</tr>\n",
       "<tr>\n",
       "  <th>kw_min_avg_business</th>                               <td> 8.874e-06</td> <td> 1.68e-05</td> <td>    0.529</td> <td> 0.597</td> <td> -2.4e-05</td> <td> 4.18e-05</td>\n",
       "</tr>\n",
       "<tr>\n",
       "  <th>kw_min_avg_is_weekend</th>                             <td>-5.233e-05</td> <td> 1.15e-05</td> <td>   -4.569</td> <td> 0.000</td> <td>-7.48e-05</td> <td>-2.99e-05</td>\n",
       "</tr>\n",
       "<tr>\n",
       "  <th>kw_min_avg_has_img</th>                                <td> 9.341e-07</td> <td>  1.3e-05</td> <td>    0.072</td> <td> 0.943</td> <td>-2.45e-05</td> <td> 2.64e-05</td>\n",
       "</tr>\n",
       "<tr>\n",
       "  <th>kw_max_avg_self_ref_avg_shares</th>                    <td>-3.204e-11</td> <td> 2.77e-11</td> <td>   -1.157</td> <td> 0.247</td> <td>-8.63e-11</td> <td> 2.22e-11</td>\n",
       "</tr>\n",
       "<tr>\n",
       "  <th>kw_max_avg_friday</th>                                 <td> 4.395e-06</td> <td> 4.54e-06</td> <td>    0.967</td> <td> 0.333</td> <td>-4.51e-06</td> <td> 1.33e-05</td>\n",
       "</tr>\n",
       "<tr>\n",
       "  <th>kw_max_avg_has_img</th>                                <td>-1.013e-05</td> <td> 3.61e-06</td> <td>   -2.804</td> <td> 0.005</td> <td>-1.72e-05</td> <td>-3.05e-06</td>\n",
       "</tr>\n",
       "<tr>\n",
       "  <th>kw_max_avg_has_video</th>                              <td>-2.101e-06</td> <td> 2.78e-06</td> <td>   -0.755</td> <td> 0.450</td> <td>-7.55e-06</td> <td> 3.35e-06</td>\n",
       "</tr>\n",
       "<tr>\n",
       "  <th>kw_avg_avg_self_ref_avg_shares</th>                    <td> 2.108e-10</td> <td> 1.98e-10</td> <td>    1.065</td> <td> 0.287</td> <td>-1.77e-10</td> <td> 5.99e-10</td>\n",
       "</tr>\n",
       "<tr>\n",
       "  <th>kw_avg_avg_max_positive_polarity</th>                  <td> 9.601e-06</td> <td> 1.74e-05</td> <td>    0.553</td> <td> 0.580</td> <td>-2.44e-05</td> <td> 4.36e-05</td>\n",
       "</tr>\n",
       "<tr>\n",
       "  <th>kw_avg_avg_friday</th>                                 <td>-3.185e-05</td> <td> 1.67e-05</td> <td>   -1.902</td> <td> 0.057</td> <td>-6.47e-05</td> <td> 9.67e-07</td>\n",
       "</tr>\n",
       "<tr>\n",
       "  <th>kw_avg_avg_has_video</th>                              <td>-1.649e-06</td> <td> 1.29e-05</td> <td>   -0.128</td> <td> 0.898</td> <td> -2.7e-05</td> <td> 2.37e-05</td>\n",
       "</tr>\n",
       "<tr>\n",
       "  <th>self_ref_avg_shares_entertainment</th>                 <td> 5.548e-06</td> <td> 9.25e-07</td> <td>    5.995</td> <td> 0.000</td> <td> 3.73e-06</td> <td> 7.36e-06</td>\n",
       "</tr>\n",
       "<tr>\n",
       "  <th>LDA_00_global_rate_positive_words</th>                 <td>    3.9272</td> <td>    1.204</td> <td>    3.263</td> <td> 0.001</td> <td>    1.568</td> <td>    6.286</td>\n",
       "</tr>\n",
       "<tr>\n",
       "  <th>LDA_00_global_rate_negative_words</th>                 <td>    5.2800</td> <td>    2.192</td> <td>    2.408</td> <td> 0.016</td> <td>    0.983</td> <td>    9.577</td>\n",
       "</tr>\n",
       "<tr>\n",
       "  <th>LDA_00_min_positive_polarity</th>                      <td>   -0.4466</td> <td>    0.290</td> <td>   -1.538</td> <td> 0.124</td> <td>   -1.015</td> <td>    0.122</td>\n",
       "</tr>\n",
       "<tr>\n",
       "  <th>LDA_00_min_negative_polarity</th>                      <td>   -0.0606</td> <td>    0.081</td> <td>   -0.750</td> <td> 0.453</td> <td>   -0.219</td> <td>    0.098</td>\n",
       "</tr>\n",
       "<tr>\n",
       "  <th>LDA_01_global_sentiment_polarity</th>                  <td>    0.8815</td> <td>    0.222</td> <td>    3.973</td> <td> 0.000</td> <td>    0.447</td> <td>    1.316</td>\n",
       "</tr>\n",
       "<tr>\n",
       "  <th>LDA_01_entertainment</th>                              <td>    0.1677</td> <td>    0.059</td> <td>    2.858</td> <td> 0.004</td> <td>    0.053</td> <td>    0.283</td>\n",
       "</tr>\n",
       "<tr>\n",
       "  <th>LDA_01_social_media</th>                               <td>   -0.6095</td> <td>    0.160</td> <td>   -3.798</td> <td> 0.000</td> <td>   -0.924</td> <td>   -0.295</td>\n",
       "</tr>\n",
       "<tr>\n",
       "  <th>LDA_02_rate_positive_words</th>                        <td>    3.1924</td> <td>    9.949</td> <td>    0.321</td> <td> 0.748</td> <td>  -16.308</td> <td>   22.692</td>\n",
       "</tr>\n",
       "<tr>\n",
       "  <th>LDA_02_rate_negative_words</th>                        <td>    3.6212</td> <td>    9.957</td> <td>    0.364</td> <td> 0.716</td> <td>  -15.894</td> <td>   23.137</td>\n",
       "</tr>\n",
       "<tr>\n",
       "  <th>LDA_02_min_negative_polarity</th>                      <td>    0.0627</td> <td>    0.076</td> <td>    0.822</td> <td> 0.411</td> <td>   -0.087</td> <td>    0.212</td>\n",
       "</tr>\n",
       "<tr>\n",
       "  <th>LDA_02_world</th>                                      <td>   -0.3183</td> <td>    0.067</td> <td>   -4.719</td> <td> 0.000</td> <td>   -0.451</td> <td>   -0.186</td>\n",
       "</tr>\n",
       "<tr>\n",
       "  <th>LDA_03_max_positive_polarity</th>                      <td>    0.2378</td> <td>    0.084</td> <td>    2.840</td> <td> 0.005</td> <td>    0.074</td> <td>    0.402</td>\n",
       "</tr>\n",
       "<tr>\n",
       "  <th>LDA_03_social_media</th>                               <td>   -0.1549</td> <td>    0.097</td> <td>   -1.595</td> <td> 0.111</td> <td>   -0.345</td> <td>    0.035</td>\n",
       "</tr>\n",
       "<tr>\n",
       "  <th>LDA_03_world</th>                                      <td>    0.0375</td> <td>    0.094</td> <td>    0.397</td> <td> 0.691</td> <td>   -0.147</td> <td>    0.222</td>\n",
       "</tr>\n",
       "<tr>\n",
       "  <th>LDA_04_global_sentiment_polarity</th>                  <td>    0.0902</td> <td>    0.281</td> <td>    0.321</td> <td> 0.748</td> <td>   -0.461</td> <td>    0.641</td>\n",
       "</tr>\n",
       "<tr>\n",
       "  <th>LDA_04_max_negative_polarity</th>                      <td>    0.4961</td> <td>    0.191</td> <td>    2.599</td> <td> 0.009</td> <td>    0.122</td> <td>    0.870</td>\n",
       "</tr>\n",
       "<tr>\n",
       "  <th>global_subjectivity_social_media</th>                  <td>   -0.6838</td> <td>    0.250</td> <td>   -2.732</td> <td> 0.006</td> <td>   -1.174</td> <td>   -0.193</td>\n",
       "</tr>\n",
       "<tr>\n",
       "  <th>global_sentiment_polarity_abs_title_subjectivity</th>  <td>    0.0787</td> <td>    0.357</td> <td>    0.220</td> <td> 0.826</td> <td>   -0.621</td> <td>    0.779</td>\n",
       "</tr>\n",
       "<tr>\n",
       "  <th>global_sentiment_polarity_social_media</th>            <td>    0.1800</td> <td>    0.249</td> <td>    0.723</td> <td> 0.469</td> <td>   -0.308</td> <td>    0.668</td>\n",
       "</tr>\n",
       "<tr>\n",
       "  <th>global_sentiment_polarity_tech</th>                    <td>   -0.1220</td> <td>    0.252</td> <td>   -0.484</td> <td> 0.628</td> <td>   -0.616</td> <td>    0.372</td>\n",
       "</tr>\n",
       "<tr>\n",
       "  <th>global_sentiment_polarity_world</th>                   <td>    0.3570</td> <td>    0.221</td> <td>    1.619</td> <td> 0.105</td> <td>   -0.075</td> <td>    0.789</td>\n",
       "</tr>\n",
       "<tr>\n",
       "  <th>global_rate_positive_words_abs_title_subjectivity</th> <td>    5.5165</td> <td>    2.616</td> <td>    2.109</td> <td> 0.035</td> <td>    0.389</td> <td>   10.644</td>\n",
       "</tr>\n",
       "<tr>\n",
       "  <th>global_rate_positive_words_world</th>                  <td>    1.0075</td> <td>    1.076</td> <td>    0.936</td> <td> 0.349</td> <td>   -1.102</td> <td>    3.117</td>\n",
       "</tr>\n",
       "<tr>\n",
       "  <th>global_rate_positive_words_has_img</th>                <td>    2.3381</td> <td>    0.701</td> <td>    3.338</td> <td> 0.001</td> <td>    0.965</td> <td>    3.711</td>\n",
       "</tr>\n",
       "<tr>\n",
       "  <th>global_rate_negative_words_abs_title_subjectivity</th> <td>   -7.6844</td> <td>    5.140</td> <td>   -1.495</td> <td> 0.135</td> <td>  -17.758</td> <td>    2.390</td>\n",
       "</tr>\n",
       "<tr>\n",
       "  <th>rate_positive_words_abs_title_subjectivity</th>        <td>  -14.0687</td> <td>   13.163</td> <td>   -1.069</td> <td> 0.285</td> <td>  -39.869</td> <td>   11.731</td>\n",
       "</tr>\n",
       "<tr>\n",
       "  <th>rate_positive_words_tech</th>                          <td>   -0.1034</td> <td>    0.142</td> <td>   -0.726</td> <td> 0.468</td> <td>   -0.382</td> <td>    0.176</td>\n",
       "</tr>\n",
       "<tr>\n",
       "  <th>rate_positive_words_world</th>                         <td>    0.2711</td> <td>    0.192</td> <td>    1.410</td> <td> 0.159</td> <td>   -0.106</td> <td>    0.648</td>\n",
       "</tr>\n",
       "<tr>\n",
       "  <th>rate_negative_words_abs_title_subjectivity</th>        <td>  -13.9565</td> <td>   13.421</td> <td>   -1.040</td> <td> 0.298</td> <td>  -40.261</td> <td>   12.348</td>\n",
       "</tr>\n",
       "</table>\n",
       "<table class=\"simpletable\">\n",
       "<tr>\n",
       "  <th>Omnibus:</th>       <td>7159.923</td> <th>  Durbin-Watson:     </th> <td>   1.953</td> \n",
       "</tr>\n",
       "<tr>\n",
       "  <th>Prob(Omnibus):</th>  <td> 0.000</td>  <th>  Jarque-Bera (JB):  </th> <td>19504.210</td>\n",
       "</tr>\n",
       "<tr>\n",
       "  <th>Skew:</th>           <td> 0.976</td>  <th>  Prob(JB):          </th> <td>    0.00</td> \n",
       "</tr>\n",
       "<tr>\n",
       "  <th>Kurtosis:</th>       <td> 5.828</td>  <th>  Cond. No.          </th> <td>1.02e+16</td> \n",
       "</tr>\n",
       "</table><br/><br/>Warnings:<br/>[1] Standard Errors assume that the covariance matrix of the errors is correctly specified.<br/>[2] The condition number is large, 1.02e+16. This might indicate that there are<br/>strong multicollinearity or other numerical problems."
      ],
      "text/plain": [
       "<class 'statsmodels.iolib.summary.Summary'>\n",
       "\"\"\"\n",
       "                            OLS Regression Results                            \n",
       "==============================================================================\n",
       "Dep. Variable:             log_shares   R-squared:                       0.152\n",
       "Model:                            OLS   Adj. R-squared:                  0.148\n",
       "Method:                 Least Squares   F-statistic:                     48.32\n",
       "Date:                Wed, 06 May 2020   Prob (F-statistic):               0.00\n",
       "Time:                        13:34:18   Log-Likelihood:                -50138.\n",
       "No. Observations:               39644   AIC:                         1.006e+05\n",
       "Df Residuals:                   39497   BIC:                         1.018e+05\n",
       "Df Model:                         146                                         \n",
       "Covariance Type:            nonrobust                                         \n",
       "=====================================================================================================================\n",
       "                                                        coef    std err          t      P>|t|      [0.025      0.975]\n",
       "---------------------------------------------------------------------------------------------------------------------\n",
       "Intercept                                             5.8720     11.504      0.510      0.610     -16.675      28.419\n",
       "n_tokens_title                                       -0.0101      0.019     -0.519      0.604      -0.048       0.028\n",
       "n_tokens_content                                      0.0003      0.000      2.894      0.004       0.000       0.001\n",
       "rate_unique_tokens                                    0.9526      0.504      1.892      0.059      -0.035       1.940\n",
       "rate_non_stop_unique_tokens                          -0.1848      0.268     -0.689      0.491      -0.711       0.341\n",
       "num_links                                             0.0070      0.002      2.896      0.004       0.002       0.012\n",
       "num_self_links                                       -0.1006      0.027     -3.740      0.000      -0.153      -0.048\n",
       "average_token_length                                 -0.1611      0.100     -1.605      0.109      -0.358       0.036\n",
       "num_keywords                                         -0.6800      1.495     -0.455      0.649      -3.611       2.251\n",
       "kw_max_min                                        -1.333e-05   7.37e-06     -1.807      0.071   -2.78e-05    1.13e-06\n",
       "kw_avg_min                                            0.0001   4.63e-05      2.343      0.019    1.77e-05       0.000\n",
       "kw_min_max                                        -1.636e-06   4.88e-07     -3.351      0.001   -2.59e-06   -6.79e-07\n",
       "kw_avg_max                                        -1.538e-06   2.16e-07     -7.125      0.000   -1.96e-06   -1.11e-06\n",
       "kw_min_avg                                        -4.963e-05   1.22e-05     -4.073      0.000   -7.35e-05   -2.57e-05\n",
       "kw_max_avg                                        -6.099e-05   6.71e-06     -9.083      0.000   -7.41e-05   -4.78e-05\n",
       "kw_avg_avg                                            0.0003   2.57e-05     10.410      0.000       0.000       0.000\n",
       "self_ref_avg_shares                                2.778e-06   6.26e-07      4.436      0.000    1.55e-06       4e-06\n",
       "LDA_00                                               -2.0740      0.981     -2.114      0.035      -3.997      -0.151\n",
       "LDA_01                                               -3.1987      0.919     -3.480      0.001      -5.000      -1.397\n",
       "LDA_02                                               -5.3165      9.943     -0.535      0.593     -24.806      14.173\n",
       "LDA_03                                               -3.1717      0.945     -3.357      0.001      -5.023      -1.320\n",
       "LDA_04                                               -2.6523      0.897     -2.958      0.003      -4.410      -0.895\n",
       "global_subjectivity                                   0.2492      0.870      0.287      0.774      -1.455       1.954\n",
       "global_sentiment_polarity                            -0.3203      0.336     -0.954      0.340      -0.979       0.338\n",
       "global_rate_positive_words                           -5.2284      1.117     -4.681      0.000      -7.417      -3.039\n",
       "global_rate_negative_words                           -3.9813      3.228     -1.233      0.217     -10.308       2.345\n",
       "rate_positive_words                                   4.2395     12.191      0.348      0.728     -19.654      28.133\n",
       "rate_negative_words                                   3.9036     12.301      0.317      0.751     -20.207      28.015\n",
       "avg_positive_polarity                                -1.1111      0.854     -1.301      0.193      -2.784       0.562\n",
       "min_positive_polarity                                -0.1650      0.122     -1.355      0.175      -0.404       0.074\n",
       "max_positive_polarity                                -0.2956      0.120     -2.459      0.014      -0.531      -0.060\n",
       "avg_negative_polarity                                -1.4865      2.917     -0.510      0.610      -7.203       4.230\n",
       "min_negative_polarity                                 0.0665      0.089      0.746      0.456      -0.108       0.241\n",
       "max_negative_polarity                                -0.0528      0.081     -0.650      0.516      -0.212       0.107\n",
       "title_subjectivity                                    0.0541      0.021      2.633      0.008       0.014       0.094\n",
       "title_sentiment_polarity                              0.0873      0.019      4.643      0.000       0.050       0.124\n",
       "abs_title_subjectivity                               14.0448     13.223      1.062      0.288     -11.872      39.961\n",
       "abs_title_sentiment_polarity                          0.0323      0.030      1.089      0.276      -0.026       0.090\n",
       "entertainment                                        -0.2185      0.086     -2.546      0.011      -0.387      -0.050\n",
       "business                                             -0.0864      0.040     -2.168      0.030      -0.165      -0.008\n",
       "social_media                                          0.7682      0.120      6.378      0.000       0.532       1.004\n",
       "tech                                                  0.2367      0.093      2.539      0.011       0.054       0.419\n",
       "world                                                 0.6780      0.404      1.677      0.094      -0.114       1.470\n",
       "tuesday                                              -0.0658      0.015     -4.523      0.000      -0.094      -0.037\n",
       "wednesday                                            -0.1254      0.020     -6.230      0.000      -0.165      -0.086\n",
       "thursday                                             -0.0726      0.016     -4.482      0.000      -0.104      -0.041\n",
       "friday                                                0.1119      0.039      2.837      0.005       0.035       0.189\n",
       "saturday                                              0.1748      0.028      6.263      0.000       0.120       0.229\n",
       "sunday                                                0.0527      0.019      2.737      0.006       0.015       0.090\n",
       "is_weekend                                            0.2275      0.018     12.981      0.000       0.193       0.262\n",
       "has_img                                              -0.1689      0.076     -2.224      0.026      -0.318      -0.020\n",
       "has_video                                            -0.0133      0.057     -0.233      0.816      -0.125       0.098\n",
       "average_token_length_world                           -0.1709      0.079     -2.157      0.031      -0.326      -0.016\n",
       "kw_avg_avg_has_img                                 7.428e-05   2.02e-05      3.678      0.000    3.47e-05       0.000\n",
       "LDA_00_social_media                                   0.4372      0.088      4.952      0.000       0.264       0.610\n",
       "avg_positive_polarity_social_media                   -0.7836      0.283     -2.767      0.006      -1.339      -0.229\n",
       "n_tokens_title_n_tokens_content                   -1.069e-05   6.28e-06     -1.702      0.089    -2.3e-05    1.62e-06\n",
       "n_tokens_title_rate_unique_tokens                     0.0148      0.030      0.495      0.621      -0.044       0.074\n",
       "n_tokens_title_num_links                             -0.0004      0.000     -1.672      0.095      -0.001    6.19e-05\n",
       "n_tokens_title_num_self_links                        -0.0019      0.001     -3.094      0.002      -0.003      -0.001\n",
       "n_tokens_title_kw_avg_max                          7.569e-08   1.61e-08      4.715      0.000    4.42e-08    1.07e-07\n",
       "n_tokens_title_has_video                              0.0137      0.004      3.093      0.002       0.005       0.022\n",
       "n_tokens_content_rate_unique_tokens                  -0.0012      0.000     -3.979      0.000      -0.002      -0.001\n",
       "n_tokens_content_rate_non_stop_unique_tokens          0.0006      0.000      2.258      0.024    7.36e-05       0.001\n",
       "n_tokens_content_num_keywords                     -9.983e-06   8.15e-06     -1.225      0.220    -2.6e-05    5.98e-06\n",
       "n_tokens_content_LDA_00                            9.983e-05    7.8e-05      1.279      0.201   -5.31e-05       0.000\n",
       "n_tokens_content_LDA_02                           -1.013e-05   5.07e-05     -0.200      0.842      -0.000    8.93e-05\n",
       "n_tokens_content_LDA_04                            3.346e-05   6.37e-05      0.525      0.599   -9.14e-05       0.000\n",
       "n_tokens_content_min_positive_polarity               -0.0004      0.000     -1.497      0.134      -0.001       0.000\n",
       "n_tokens_content_business                           4.72e-05   4.71e-05      1.002      0.316   -4.52e-05       0.000\n",
       "n_tokens_content_tech                              5.974e-05   3.87e-05      1.544      0.123   -1.61e-05       0.000\n",
       "n_tokens_content_wednesday                            0.0001   2.56e-05      4.267      0.000    5.91e-05       0.000\n",
       "rate_unique_tokens_num_keywords                      -0.1250      0.048     -2.596      0.009      -0.219      -0.031\n",
       "rate_unique_tokens_LDA_00                             0.4213      0.401      1.049      0.294      -0.366       1.208\n",
       "rate_unique_tokens_LDA_01                             0.4229      0.311      1.360      0.174      -0.187       1.032\n",
       "rate_unique_tokens_entertainment                     -0.0705      0.148     -0.476      0.634      -0.361       0.220\n",
       "rate_non_stop_unique_tokens_num_keywords             -0.0279      0.029     -0.972      0.331      -0.084       0.028\n",
       "rate_non_stop_unique_tokens_LDA_00                   -0.1872      0.296     -0.633      0.527      -0.767       0.392\n",
       "rate_non_stop_unique_tokens_LDA_01                    0.2629      0.210      1.255      0.210      -0.148       0.674\n",
       "rate_non_stop_unique_tokens_LDA_03                    0.0933      0.136      0.688      0.492      -0.173       0.359\n",
       "rate_non_stop_unique_tokens_max_positive_polarity     0.2078      0.151      1.377      0.169      -0.088       0.504\n",
       "rate_non_stop_unique_tokens_has_img                  -0.2059      0.072     -2.856      0.004      -0.347      -0.065\n",
       "num_links_kw_avg_max                               5.173e-09   3.53e-09      1.464      0.143   -1.75e-09    1.21e-08\n",
       "num_links_business                                    0.0038      0.002      2.235      0.025       0.000       0.007\n",
       "num_links_social_media                               -0.0065      0.001     -4.682      0.000      -0.009      -0.004\n",
       "num_self_links_average_token_length                   0.0241      0.005      4.417      0.000       0.013       0.035\n",
       "average_token_length_LDA_00                          -0.2172      0.074     -2.946      0.003      -0.362      -0.073\n",
       "average_token_length_LDA_02                          -0.1422      0.118     -1.201      0.230      -0.374       0.090\n",
       "average_token_length_LDA_03                           0.0543      0.065      0.839      0.402      -0.073       0.181\n",
       "average_token_length_global_subjectivity              0.0327      0.184      0.178      0.859      -0.327       0.393\n",
       "average_token_length_avg_positive_polarity            0.2645      0.179      1.482      0.138      -0.085       0.614\n",
       "num_keywords_kw_max_avg                            3.652e-06   5.71e-07      6.401      0.000    2.53e-06    4.77e-06\n",
       "num_keywords_global_sentiment_polarity               -0.0296      0.039     -0.754      0.451      -0.107       0.047\n",
       "num_keywords_global_rate_negative_words               0.7363      0.363      2.030      0.042       0.025       1.447\n",
       "num_keywords_rate_positive_words                      0.7349      1.494      0.492      0.623      -2.193       3.662\n",
       "num_keywords_rate_negative_words                      0.7451      1.505      0.495      0.620      -2.204       3.695\n",
       "num_keywords_min_negative_polarity                   -0.0143      0.011     -1.309      0.190      -0.036       0.007\n",
       "kw_max_min_max_negative_polarity                  -2.982e-05   5.14e-05     -0.580      0.562      -0.000     7.1e-05\n",
       "kw_max_min_friday                                  2.234e-05   1.18e-05      1.891      0.059   -8.11e-07    4.55e-05\n",
       "kw_avg_min_self_ref_avg_shares                    -5.815e-10   1.96e-10     -2.973      0.003   -9.65e-10   -1.98e-10\n",
       "kw_avg_min_max_negative_polarity                      0.0004      0.000      1.168      0.243      -0.000       0.001\n",
       "kw_avg_min_thursday                                5.416e-05    2.2e-05      2.459      0.014     1.1e-05    9.73e-05\n",
       "kw_avg_min_friday                                    -0.0002   5.86e-05     -2.909      0.004      -0.000   -5.56e-05\n",
       "kw_min_max_kw_max_avg                             -1.097e-10   3.38e-11     -3.243      0.001   -1.76e-10   -4.34e-11\n",
       "kw_min_max_kw_avg_avg                              4.963e-10   1.59e-10      3.126      0.002    1.85e-10    8.07e-10\n",
       "kw_avg_max_self_ref_avg_shares                    -3.918e-12   1.49e-12     -2.635      0.008   -6.83e-12      -1e-12\n",
       "kw_avg_max_LDA_00                                  3.317e-07   1.38e-07      2.395      0.017    6.03e-08    6.03e-07\n",
       "kw_avg_max_LDA_01                                 -5.714e-07   2.04e-07     -2.798      0.005   -9.72e-07   -1.71e-07\n",
       "kw_avg_max_max_positive_polarity                   2.148e-07   1.64e-07      1.309      0.191   -1.07e-07    5.37e-07\n",
       "kw_avg_max_saturday                               -4.298e-07   1.49e-07     -2.883      0.004   -7.22e-07   -1.38e-07\n",
       "kw_min_avg_LDA_00                                  3.105e-05    2.3e-05      1.351      0.177    -1.4e-05    7.61e-05\n",
       "kw_min_avg_business                                8.874e-06   1.68e-05      0.529      0.597    -2.4e-05    4.18e-05\n",
       "kw_min_avg_is_weekend                             -5.233e-05   1.15e-05     -4.569      0.000   -7.48e-05   -2.99e-05\n",
       "kw_min_avg_has_img                                 9.341e-07    1.3e-05      0.072      0.943   -2.45e-05    2.64e-05\n",
       "kw_max_avg_self_ref_avg_shares                    -3.204e-11   2.77e-11     -1.157      0.247   -8.63e-11    2.22e-11\n",
       "kw_max_avg_friday                                  4.395e-06   4.54e-06      0.967      0.333   -4.51e-06    1.33e-05\n",
       "kw_max_avg_has_img                                -1.013e-05   3.61e-06     -2.804      0.005   -1.72e-05   -3.05e-06\n",
       "kw_max_avg_has_video                              -2.101e-06   2.78e-06     -0.755      0.450   -7.55e-06    3.35e-06\n",
       "kw_avg_avg_self_ref_avg_shares                     2.108e-10   1.98e-10      1.065      0.287   -1.77e-10    5.99e-10\n",
       "kw_avg_avg_max_positive_polarity                   9.601e-06   1.74e-05      0.553      0.580   -2.44e-05    4.36e-05\n",
       "kw_avg_avg_friday                                 -3.185e-05   1.67e-05     -1.902      0.057   -6.47e-05    9.67e-07\n",
       "kw_avg_avg_has_video                              -1.649e-06   1.29e-05     -0.128      0.898    -2.7e-05    2.37e-05\n",
       "self_ref_avg_shares_entertainment                  5.548e-06   9.25e-07      5.995      0.000    3.73e-06    7.36e-06\n",
       "LDA_00_global_rate_positive_words                     3.9272      1.204      3.263      0.001       1.568       6.286\n",
       "LDA_00_global_rate_negative_words                     5.2800      2.192      2.408      0.016       0.983       9.577\n",
       "LDA_00_min_positive_polarity                         -0.4466      0.290     -1.538      0.124      -1.015       0.122\n",
       "LDA_00_min_negative_polarity                         -0.0606      0.081     -0.750      0.453      -0.219       0.098\n",
       "LDA_01_global_sentiment_polarity                      0.8815      0.222      3.973      0.000       0.447       1.316\n",
       "LDA_01_entertainment                                  0.1677      0.059      2.858      0.004       0.053       0.283\n",
       "LDA_01_social_media                                  -0.6095      0.160     -3.798      0.000      -0.924      -0.295\n",
       "LDA_02_rate_positive_words                            3.1924      9.949      0.321      0.748     -16.308      22.692\n",
       "LDA_02_rate_negative_words                            3.6212      9.957      0.364      0.716     -15.894      23.137\n",
       "LDA_02_min_negative_polarity                          0.0627      0.076      0.822      0.411      -0.087       0.212\n",
       "LDA_02_world                                         -0.3183      0.067     -4.719      0.000      -0.451      -0.186\n",
       "LDA_03_max_positive_polarity                          0.2378      0.084      2.840      0.005       0.074       0.402\n",
       "LDA_03_social_media                                  -0.1549      0.097     -1.595      0.111      -0.345       0.035\n",
       "LDA_03_world                                          0.0375      0.094      0.397      0.691      -0.147       0.222\n",
       "LDA_04_global_sentiment_polarity                      0.0902      0.281      0.321      0.748      -0.461       0.641\n",
       "LDA_04_max_negative_polarity                          0.4961      0.191      2.599      0.009       0.122       0.870\n",
       "global_subjectivity_social_media                     -0.6838      0.250     -2.732      0.006      -1.174      -0.193\n",
       "global_sentiment_polarity_abs_title_subjectivity      0.0787      0.357      0.220      0.826      -0.621       0.779\n",
       "global_sentiment_polarity_social_media                0.1800      0.249      0.723      0.469      -0.308       0.668\n",
       "global_sentiment_polarity_tech                       -0.1220      0.252     -0.484      0.628      -0.616       0.372\n",
       "global_sentiment_polarity_world                       0.3570      0.221      1.619      0.105      -0.075       0.789\n",
       "global_rate_positive_words_abs_title_subjectivity     5.5165      2.616      2.109      0.035       0.389      10.644\n",
       "global_rate_positive_words_world                      1.0075      1.076      0.936      0.349      -1.102       3.117\n",
       "global_rate_positive_words_has_img                    2.3381      0.701      3.338      0.001       0.965       3.711\n",
       "global_rate_negative_words_abs_title_subjectivity    -7.6844      5.140     -1.495      0.135     -17.758       2.390\n",
       "rate_positive_words_abs_title_subjectivity          -14.0687     13.163     -1.069      0.285     -39.869      11.731\n",
       "rate_positive_words_tech                             -0.1034      0.142     -0.726      0.468      -0.382       0.176\n",
       "rate_positive_words_world                             0.2711      0.192      1.410      0.159      -0.106       0.648\n",
       "rate_negative_words_abs_title_subjectivity          -13.9565     13.421     -1.040      0.298     -40.261      12.348\n",
       "==============================================================================\n",
       "Omnibus:                     7159.923   Durbin-Watson:                   1.953\n",
       "Prob(Omnibus):                  0.000   Jarque-Bera (JB):            19504.210\n",
       "Skew:                           0.976   Prob(JB):                         0.00\n",
       "Kurtosis:                       5.828   Cond. No.                     1.02e+16\n",
       "==============================================================================\n",
       "\n",
       "Warnings:\n",
       "[1] Standard Errors assume that the covariance matrix of the errors is correctly specified.\n",
       "[2] The condition number is large, 1.02e+16. This might indicate that there are\n",
       "strong multicollinearity or other numerical problems.\n",
       "\"\"\""
      ]
     },
     "execution_count": 202,
     "metadata": {},
     "output_type": "execute_result"
    }
   ],
   "source": [
    "f_list = list(final_target.columns)\n",
    "f_list.remove('log_shares')\n",
    "\n",
    "col_list = '+'.join(f_list)\n",
    "f = 'log_shares~' + col_list\n",
    "model = ols(formula=f, data=final_target).fit()\n",
    "model.summary()"
   ]
  },
  {
   "cell_type": "code",
   "execution_count": null,
   "metadata": {},
   "outputs": [],
   "source": []
  },
  {
   "cell_type": "code",
   "execution_count": 199,
   "metadata": {},
   "outputs": [
    {
     "data": {
      "text/html": [
       "<table class=\"simpletable\">\n",
       "<caption>OLS Regression Results</caption>\n",
       "<tr>\n",
       "  <th>Dep. Variable:</th>       <td>log_shares</td>    <th>  R-squared:         </th> <td>   0.152</td> \n",
       "</tr>\n",
       "<tr>\n",
       "  <th>Model:</th>                   <td>OLS</td>       <th>  Adj. R-squared:    </th> <td>   0.149</td> \n",
       "</tr>\n",
       "<tr>\n",
       "  <th>Method:</th>             <td>Least Squares</td>  <th>  F-statistic:       </th> <td>   48.66</td> \n",
       "</tr>\n",
       "<tr>\n",
       "  <th>Date:</th>             <td>Wed, 06 May 2020</td> <th>  Prob (F-statistic):</th>  <td>  0.00</td>  \n",
       "</tr>\n",
       "<tr>\n",
       "  <th>Time:</th>                 <td>13:33:49</td>     <th>  Log-Likelihood:    </th> <td> -50117.</td> \n",
       "</tr>\n",
       "<tr>\n",
       "  <th>No. Observations:</th>      <td> 39644</td>      <th>  AIC:               </th> <td>1.005e+05</td>\n",
       "</tr>\n",
       "<tr>\n",
       "  <th>Df Residuals:</th>          <td> 39497</td>      <th>  BIC:               </th> <td>1.018e+05</td>\n",
       "</tr>\n",
       "<tr>\n",
       "  <th>Df Model:</th>              <td>   146</td>      <th>                     </th>     <td> </td>    \n",
       "</tr>\n",
       "<tr>\n",
       "  <th>Covariance Type:</th>      <td>nonrobust</td>    <th>                     </th>     <td> </td>    \n",
       "</tr>\n",
       "</table>\n",
       "<table class=\"simpletable\">\n",
       "<tr>\n",
       "                          <td></td>                             <th>coef</th>     <th>std err</th>      <th>t</th>      <th>P>|t|</th>  <th>[0.025</th>    <th>0.975]</th>  \n",
       "</tr>\n",
       "<tr>\n",
       "  <th>Intercept</th>                                         <td>   10.9499</td> <td>    0.968</td> <td>   11.306</td> <td> 0.000</td> <td>    9.052</td> <td>   12.848</td>\n",
       "</tr>\n",
       "<tr>\n",
       "  <th>n_tokens_content</th>                                  <td>    0.0002</td> <td> 8.69e-05</td> <td>    2.688</td> <td> 0.007</td> <td> 6.33e-05</td> <td>    0.000</td>\n",
       "</tr>\n",
       "<tr>\n",
       "  <th>rate_unique_tokens</th>                                <td>    0.8454</td> <td>    0.269</td> <td>    3.145</td> <td> 0.002</td> <td>    0.319</td> <td>    1.372</td>\n",
       "</tr>\n",
       "<tr>\n",
       "  <th>rate_non_stop_unique_tokens</th>                       <td>   -0.5703</td> <td>    0.241</td> <td>   -2.363</td> <td> 0.018</td> <td>   -1.043</td> <td>   -0.097</td>\n",
       "</tr>\n",
       "<tr>\n",
       "  <th>num_links</th>                                         <td>    0.0083</td> <td>    0.002</td> <td>    3.442</td> <td> 0.001</td> <td>    0.004</td> <td>    0.013</td>\n",
       "</tr>\n",
       "<tr>\n",
       "  <th>num_self_links</th>                                    <td>   -0.1049</td> <td>    0.027</td> <td>   -3.899</td> <td> 0.000</td> <td>   -0.158</td> <td>   -0.052</td>\n",
       "</tr>\n",
       "<tr>\n",
       "  <th>average_token_length</th>                              <td>   -0.1894</td> <td>    0.076</td> <td>   -2.481</td> <td> 0.013</td> <td>   -0.339</td> <td>   -0.040</td>\n",
       "</tr>\n",
       "<tr>\n",
       "  <th>kw_max_min</th>                                        <td>-9.561e-06</td> <td> 6.95e-06</td> <td>   -1.375</td> <td> 0.169</td> <td>-2.32e-05</td> <td> 4.07e-06</td>\n",
       "</tr>\n",
       "<tr>\n",
       "  <th>kw_avg_min</th>                                        <td> 8.292e-05</td> <td> 4.27e-05</td> <td>    1.944</td> <td> 0.052</td> <td>-6.78e-07</td> <td>    0.000</td>\n",
       "</tr>\n",
       "<tr>\n",
       "  <th>kw_min_max</th>                                        <td>-1.631e-06</td> <td> 6.06e-07</td> <td>   -2.689</td> <td> 0.007</td> <td>-2.82e-06</td> <td>-4.42e-07</td>\n",
       "</tr>\n",
       "<tr>\n",
       "  <th>kw_avg_max</th>                                        <td>-1.594e-06</td> <td> 2.19e-07</td> <td>   -7.285</td> <td> 0.000</td> <td>-2.02e-06</td> <td>-1.17e-06</td>\n",
       "</tr>\n",
       "<tr>\n",
       "  <th>kw_min_avg</th>                                        <td>-5.004e-05</td> <td>  6.8e-06</td> <td>   -7.357</td> <td> 0.000</td> <td>-6.34e-05</td> <td>-3.67e-05</td>\n",
       "</tr>\n",
       "<tr>\n",
       "  <th>kw_max_avg</th>                                        <td>-6.262e-05</td> <td> 6.31e-06</td> <td>   -9.930</td> <td> 0.000</td> <td> -7.5e-05</td> <td>-5.03e-05</td>\n",
       "</tr>\n",
       "<tr>\n",
       "  <th>kw_avg_avg</th>                                        <td>    0.0003</td> <td> 2.16e-05</td> <td>   12.195</td> <td> 0.000</td> <td>    0.000</td> <td>    0.000</td>\n",
       "</tr>\n",
       "<tr>\n",
       "  <th>self_ref_avg_shares</th>                               <td> 2.788e-06</td> <td> 6.24e-07</td> <td>    4.466</td> <td> 0.000</td> <td> 1.56e-06</td> <td> 4.01e-06</td>\n",
       "</tr>\n",
       "<tr>\n",
       "  <th>LDA_00</th>                                            <td>   -1.9396</td> <td>    0.978</td> <td>   -1.982</td> <td> 0.047</td> <td>   -3.857</td> <td>   -0.022</td>\n",
       "</tr>\n",
       "<tr>\n",
       "  <th>LDA_01</th>                                            <td>   -3.3037</td> <td>    0.911</td> <td>   -3.627</td> <td> 0.000</td> <td>   -5.089</td> <td>   -1.519</td>\n",
       "</tr>\n",
       "<tr>\n",
       "  <th>LDA_03</th>                                            <td>   -3.3077</td> <td>    0.935</td> <td>   -3.538</td> <td> 0.000</td> <td>   -5.140</td> <td>   -1.475</td>\n",
       "</tr>\n",
       "<tr>\n",
       "  <th>LDA_04</th>                                            <td>   -2.6489</td> <td>    0.893</td> <td>   -2.965</td> <td> 0.003</td> <td>   -4.400</td> <td>   -0.898</td>\n",
       "</tr>\n",
       "<tr>\n",
       "  <th>global_rate_positive_words</th>                        <td>   -5.1297</td> <td>    0.891</td> <td>   -5.755</td> <td> 0.000</td> <td>   -6.877</td> <td>   -3.383</td>\n",
       "</tr>\n",
       "<tr>\n",
       "  <th>global_rate_negative_words</th>                        <td>   -5.4678</td> <td>    1.948</td> <td>   -2.806</td> <td> 0.005</td> <td>   -9.287</td> <td>   -1.649</td>\n",
       "</tr>\n",
       "<tr>\n",
       "  <th>avg_positive_polarity</th>                             <td>   -1.4282</td> <td>    0.814</td> <td>   -1.755</td> <td> 0.079</td> <td>   -3.023</td> <td>    0.167</td>\n",
       "</tr>\n",
       "<tr>\n",
       "  <th>min_positive_polarity</th>                             <td>   -0.1542</td> <td>    0.125</td> <td>   -1.236</td> <td> 0.216</td> <td>   -0.399</td> <td>    0.090</td>\n",
       "</tr>\n",
       "<tr>\n",
       "  <th>title_subjectivity</th>                                <td>    0.0699</td> <td>    0.020</td> <td>    3.427</td> <td> 0.001</td> <td>    0.030</td> <td>    0.110</td>\n",
       "</tr>\n",
       "<tr>\n",
       "  <th>title_sentiment_polarity</th>                          <td>    0.0850</td> <td>    0.019</td> <td>    4.532</td> <td> 0.000</td> <td>    0.048</td> <td>    0.122</td>\n",
       "</tr>\n",
       "<tr>\n",
       "  <th>abs_title_sentiment_polarity</th>                      <td>    0.0282</td> <td>    0.030</td> <td>    0.953</td> <td> 0.341</td> <td>   -0.030</td> <td>    0.086</td>\n",
       "</tr>\n",
       "<tr>\n",
       "  <th>entertainment</th>                                     <td>   -0.2120</td> <td>    0.084</td> <td>   -2.524</td> <td> 0.012</td> <td>   -0.377</td> <td>   -0.047</td>\n",
       "</tr>\n",
       "<tr>\n",
       "  <th>business</th>                                          <td>   -0.1361</td> <td>    0.044</td> <td>   -3.084</td> <td> 0.002</td> <td>   -0.223</td> <td>   -0.050</td>\n",
       "</tr>\n",
       "<tr>\n",
       "  <th>social_media</th>                                      <td>    0.5977</td> <td>    0.123</td> <td>    4.860</td> <td> 0.000</td> <td>    0.357</td> <td>    0.839</td>\n",
       "</tr>\n",
       "<tr>\n",
       "  <th>tech</th>                                              <td>   -8.4139</td> <td>    5.715</td> <td>   -1.472</td> <td> 0.141</td> <td>  -19.616</td> <td>    2.788</td>\n",
       "</tr>\n",
       "<tr>\n",
       "  <th>world</th>                                             <td>  -10.9812</td> <td>    6.138</td> <td>   -1.789</td> <td> 0.074</td> <td>  -23.012</td> <td>    1.050</td>\n",
       "</tr>\n",
       "<tr>\n",
       "  <th>tuesday</th>                                           <td>   -0.0664</td> <td>    0.015</td> <td>   -4.563</td> <td> 0.000</td> <td>   -0.095</td> <td>   -0.038</td>\n",
       "</tr>\n",
       "<tr>\n",
       "  <th>wednesday</th>                                         <td>   -0.1265</td> <td>    0.020</td> <td>   -6.291</td> <td> 0.000</td> <td>   -0.166</td> <td>   -0.087</td>\n",
       "</tr>\n",
       "<tr>\n",
       "  <th>thursday</th>                                          <td>   -0.0719</td> <td>    0.016</td> <td>   -4.446</td> <td> 0.000</td> <td>   -0.104</td> <td>   -0.040</td>\n",
       "</tr>\n",
       "<tr>\n",
       "  <th>friday</th>                                            <td>    0.1131</td> <td>    0.039</td> <td>    2.873</td> <td> 0.004</td> <td>    0.036</td> <td>    0.190</td>\n",
       "</tr>\n",
       "<tr>\n",
       "  <th>saturday</th>                                          <td>    0.1805</td> <td>    0.028</td> <td>    6.351</td> <td> 0.000</td> <td>    0.125</td> <td>    0.236</td>\n",
       "</tr>\n",
       "<tr>\n",
       "  <th>sunday</th>                                            <td>    0.0299</td> <td>    0.020</td> <td>    1.483</td> <td> 0.138</td> <td>   -0.010</td> <td>    0.069</td>\n",
       "</tr>\n",
       "<tr>\n",
       "  <th>is_weekend</th>                                        <td>    0.2104</td> <td>    0.018</td> <td>   11.684</td> <td> 0.000</td> <td>    0.175</td> <td>    0.246</td>\n",
       "</tr>\n",
       "<tr>\n",
       "  <th>has_img</th>                                           <td>   -0.1804</td> <td>    0.059</td> <td>   -3.056</td> <td> 0.002</td> <td>   -0.296</td> <td>   -0.065</td>\n",
       "</tr>\n",
       "<tr>\n",
       "  <th>has_video</th>                                         <td>    0.0233</td> <td>    0.050</td> <td>    0.463</td> <td> 0.643</td> <td>   -0.075</td> <td>    0.122</td>\n",
       "</tr>\n",
       "<tr>\n",
       "  <th>average_token_length_world</th>                        <td>   -0.1999</td> <td>    0.079</td> <td>   -2.515</td> <td> 0.012</td> <td>   -0.356</td> <td>   -0.044</td>\n",
       "</tr>\n",
       "<tr>\n",
       "  <th>kw_avg_avg_has_img</th>                                <td> 8.483e-05</td> <td> 1.55e-05</td> <td>    5.483</td> <td> 0.000</td> <td> 5.45e-05</td> <td>    0.000</td>\n",
       "</tr>\n",
       "<tr>\n",
       "  <th>LDA_00_social_media</th>                               <td>    0.3887</td> <td>    0.089</td> <td>    4.382</td> <td> 0.000</td> <td>    0.215</td> <td>    0.563</td>\n",
       "</tr>\n",
       "<tr>\n",
       "  <th>n_tokens_title_n_tokens_content</th>                   <td>-1.146e-05</td> <td> 4.52e-06</td> <td>   -2.539</td> <td> 0.011</td> <td>-2.03e-05</td> <td>-2.61e-06</td>\n",
       "</tr>\n",
       "<tr>\n",
       "  <th>n_tokens_title_num_links</th>                          <td>   -0.0004</td> <td>    0.000</td> <td>   -1.946</td> <td> 0.052</td> <td>   -0.001</td> <td> 3.13e-06</td>\n",
       "</tr>\n",
       "<tr>\n",
       "  <th>n_tokens_title_num_self_links</th>                     <td>   -0.0017</td> <td>    0.001</td> <td>   -2.719</td> <td> 0.007</td> <td>   -0.003</td> <td>   -0.000</td>\n",
       "</tr>\n",
       "<tr>\n",
       "  <th>n_tokens_title_kw_avg_max</th>                         <td> 8.201e-08</td> <td> 1.63e-08</td> <td>    5.022</td> <td> 0.000</td> <td>    5e-08</td> <td> 1.14e-07</td>\n",
       "</tr>\n",
       "<tr>\n",
       "  <th>n_tokens_title_has_video</th>                          <td>    0.0098</td> <td>    0.005</td> <td>    2.151</td> <td> 0.031</td> <td>    0.001</td> <td>    0.019</td>\n",
       "</tr>\n",
       "<tr>\n",
       "  <th>n_tokens_content_rate_unique_tokens</th>               <td>   -0.0014</td> <td>    0.000</td> <td>   -4.605</td> <td> 0.000</td> <td>   -0.002</td> <td>   -0.001</td>\n",
       "</tr>\n",
       "<tr>\n",
       "  <th>n_tokens_content_rate_non_stop_unique_tokens</th>      <td>    0.0007</td> <td>    0.000</td> <td>    2.925</td> <td> 0.003</td> <td>    0.000</td> <td>    0.001</td>\n",
       "</tr>\n",
       "<tr>\n",
       "  <th>n_tokens_content_num_keywords</th>                     <td>  2.09e-06</td> <td> 5.18e-06</td> <td>    0.403</td> <td> 0.687</td> <td>-8.07e-06</td> <td> 1.22e-05</td>\n",
       "</tr>\n",
       "<tr>\n",
       "  <th>n_tokens_content_LDA_00</th>                           <td> 9.831e-05</td> <td> 7.26e-05</td> <td>    1.353</td> <td> 0.176</td> <td>-4.41e-05</td> <td>    0.000</td>\n",
       "</tr>\n",
       "<tr>\n",
       "  <th>n_tokens_content_min_positive_polarity</th>            <td>   -0.0005</td> <td>    0.000</td> <td>   -1.682</td> <td> 0.093</td> <td>   -0.001</td> <td>  7.5e-05</td>\n",
       "</tr>\n",
       "<tr>\n",
       "  <th>n_tokens_content_business</th>                         <td> 5.479e-05</td> <td> 4.99e-05</td> <td>    1.098</td> <td> 0.272</td> <td> -4.3e-05</td> <td>    0.000</td>\n",
       "</tr>\n",
       "<tr>\n",
       "  <th>n_tokens_content_tech</th>                             <td> 7.165e-05</td> <td> 2.85e-05</td> <td>    2.512</td> <td> 0.012</td> <td> 1.57e-05</td> <td>    0.000</td>\n",
       "</tr>\n",
       "<tr>\n",
       "  <th>n_tokens_content_wednesday</th>                        <td>    0.0001</td> <td> 2.55e-05</td> <td>    4.364</td> <td> 0.000</td> <td> 6.14e-05</td> <td>    0.000</td>\n",
       "</tr>\n",
       "<tr>\n",
       "  <th>rate_unique_tokens_num_keywords</th>                   <td>   -0.0529</td> <td>    0.027</td> <td>   -1.929</td> <td> 0.054</td> <td>   -0.107</td> <td>    0.001</td>\n",
       "</tr>\n",
       "<tr>\n",
       "  <th>rate_unique_tokens_LDA_00</th>                         <td>    0.1616</td> <td>    0.295</td> <td>    0.547</td> <td> 0.584</td> <td>   -0.417</td> <td>    0.740</td>\n",
       "</tr>\n",
       "<tr>\n",
       "  <th>rate_unique_tokens_LDA_01</th>                         <td>    0.4389</td> <td>    0.296</td> <td>    1.481</td> <td> 0.139</td> <td>   -0.142</td> <td>    1.020</td>\n",
       "</tr>\n",
       "<tr>\n",
       "  <th>rate_unique_tokens_entertainment</th>                  <td>   -0.1930</td> <td>    0.150</td> <td>   -1.290</td> <td> 0.197</td> <td>   -0.486</td> <td>    0.100</td>\n",
       "</tr>\n",
       "<tr>\n",
       "  <th>rate_non_stop_unique_tokens_num_keywords</th>          <td>   -0.0227</td> <td>    0.023</td> <td>   -0.968</td> <td> 0.333</td> <td>   -0.069</td> <td>    0.023</td>\n",
       "</tr>\n",
       "<tr>\n",
       "  <th>rate_non_stop_unique_tokens_LDA_01</th>                <td>    0.3418</td> <td>    0.199</td> <td>    1.715</td> <td> 0.086</td> <td>   -0.049</td> <td>    0.732</td>\n",
       "</tr>\n",
       "<tr>\n",
       "  <th>rate_non_stop_unique_tokens_LDA_03</th>                <td>    0.1826</td> <td>    0.118</td> <td>    1.553</td> <td> 0.120</td> <td>   -0.048</td> <td>    0.413</td>\n",
       "</tr>\n",
       "<tr>\n",
       "  <th>rate_non_stop_unique_tokens_max_positive_polarity</th> <td>    0.0704</td> <td>    0.085</td> <td>    0.826</td> <td> 0.409</td> <td>   -0.097</td> <td>    0.237</td>\n",
       "</tr>\n",
       "<tr>\n",
       "  <th>num_links_kw_avg_max</th>                              <td> 3.825e-09</td> <td> 3.51e-09</td> <td>    1.091</td> <td> 0.275</td> <td>-3.05e-09</td> <td> 1.07e-08</td>\n",
       "</tr>\n",
       "<tr>\n",
       "  <th>num_links_business</th>                                <td>    0.0032</td> <td>    0.002</td> <td>    1.886</td> <td> 0.059</td> <td>   -0.000</td> <td>    0.007</td>\n",
       "</tr>\n",
       "<tr>\n",
       "  <th>num_links_social_media</th>                            <td>   -0.0087</td> <td>    0.001</td> <td>   -6.031</td> <td> 0.000</td> <td>   -0.012</td> <td>   -0.006</td>\n",
       "</tr>\n",
       "<tr>\n",
       "  <th>num_self_links_average_token_length</th>               <td>    0.0246</td> <td>    0.005</td> <td>    4.507</td> <td> 0.000</td> <td>    0.014</td> <td>    0.035</td>\n",
       "</tr>\n",
       "<tr>\n",
       "  <th>average_token_length_LDA_00</th>                       <td>   -0.2080</td> <td>    0.074</td> <td>   -2.820</td> <td> 0.005</td> <td>   -0.353</td> <td>   -0.063</td>\n",
       "</tr>\n",
       "<tr>\n",
       "  <th>average_token_length_LDA_02</th>                       <td>   -0.1003</td> <td>    0.119</td> <td>   -0.846</td> <td> 0.397</td> <td>   -0.333</td> <td>    0.132</td>\n",
       "</tr>\n",
       "<tr>\n",
       "  <th>average_token_length_LDA_03</th>                       <td>    0.0659</td> <td>    0.064</td> <td>    1.035</td> <td> 0.301</td> <td>   -0.059</td> <td>    0.191</td>\n",
       "</tr>\n",
       "<tr>\n",
       "  <th>average_token_length_avg_positive_polarity</th>        <td>    0.3363</td> <td>    0.171</td> <td>    1.971</td> <td> 0.049</td> <td>    0.002</td> <td>    0.671</td>\n",
       "</tr>\n",
       "<tr>\n",
       "  <th>num_keywords_kw_max_avg</th>                           <td> 3.865e-06</td> <td> 5.65e-07</td> <td>    6.839</td> <td> 0.000</td> <td> 2.76e-06</td> <td> 4.97e-06</td>\n",
       "</tr>\n",
       "<tr>\n",
       "  <th>num_keywords_global_sentiment_polarity</th>            <td>   -0.0357</td> <td>    0.019</td> <td>   -1.897</td> <td> 0.058</td> <td>   -0.073</td> <td>    0.001</td>\n",
       "</tr>\n",
       "<tr>\n",
       "  <th>num_keywords_global_rate_negative_words</th>           <td>    0.8211</td> <td>    0.250</td> <td>    3.286</td> <td> 0.001</td> <td>    0.331</td> <td>    1.311</td>\n",
       "</tr>\n",
       "<tr>\n",
       "  <th>num_keywords_min_negative_polarity</th>                <td>   -0.0241</td> <td>    0.005</td> <td>   -4.558</td> <td> 0.000</td> <td>   -0.034</td> <td>   -0.014</td>\n",
       "</tr>\n",
       "<tr>\n",
       "  <th>kw_max_min_max_negative_polarity</th>                  <td> 1.997e-08</td> <td> 4.68e-05</td> <td>    0.000</td> <td> 1.000</td> <td>-9.17e-05</td> <td> 9.17e-05</td>\n",
       "</tr>\n",
       "<tr>\n",
       "  <th>kw_max_min_friday</th>                                 <td> 2.276e-05</td> <td> 1.17e-05</td> <td>    1.941</td> <td> 0.052</td> <td>-2.26e-07</td> <td> 4.58e-05</td>\n",
       "</tr>\n",
       "<tr>\n",
       "  <th>kw_avg_min_self_ref_avg_shares</th>                    <td>-6.365e-10</td> <td> 1.94e-10</td> <td>   -3.283</td> <td> 0.001</td> <td>-1.02e-09</td> <td>-2.56e-10</td>\n",
       "</tr>\n",
       "<tr>\n",
       "  <th>kw_avg_min_max_negative_polarity</th>                  <td>    0.0001</td> <td>    0.000</td> <td>    0.534</td> <td> 0.593</td> <td>   -0.000</td> <td>    0.001</td>\n",
       "</tr>\n",
       "<tr>\n",
       "  <th>kw_avg_min_thursday</th>                               <td> 5.266e-05</td> <td>  2.2e-05</td> <td>    2.394</td> <td> 0.017</td> <td> 9.54e-06</td> <td> 9.58e-05</td>\n",
       "</tr>\n",
       "<tr>\n",
       "  <th>kw_avg_min_friday</th>                                 <td>   -0.0002</td> <td> 5.78e-05</td> <td>   -2.967</td> <td> 0.003</td> <td>   -0.000</td> <td>-5.82e-05</td>\n",
       "</tr>\n",
       "<tr>\n",
       "  <th>kw_min_max_kw_max_avg</th>                             <td>-1.104e-10</td> <td> 3.37e-11</td> <td>   -3.279</td> <td> 0.001</td> <td>-1.76e-10</td> <td>-4.44e-11</td>\n",
       "</tr>\n",
       "<tr>\n",
       "  <th>kw_min_max_kw_avg_avg</th>                             <td> 5.117e-10</td> <td> 1.58e-10</td> <td>    3.235</td> <td> 0.001</td> <td> 2.02e-10</td> <td> 8.22e-10</td>\n",
       "</tr>\n",
       "<tr>\n",
       "  <th>kw_avg_max_self_ref_avg_shares</th>                    <td>-4.051e-12</td> <td> 1.49e-12</td> <td>   -2.726</td> <td> 0.006</td> <td>-6.96e-12</td> <td>-1.14e-12</td>\n",
       "</tr>\n",
       "<tr>\n",
       "  <th>kw_avg_max_LDA_00</th>                                 <td> 3.289e-07</td> <td>  1.4e-07</td> <td>    2.355</td> <td> 0.019</td> <td> 5.51e-08</td> <td> 6.03e-07</td>\n",
       "</tr>\n",
       "<tr>\n",
       "  <th>kw_avg_max_LDA_01</th>                                 <td>-6.016e-07</td> <td> 2.04e-07</td> <td>   -2.945</td> <td> 0.003</td> <td>   -1e-06</td> <td>-2.01e-07</td>\n",
       "</tr>\n",
       "<tr>\n",
       "  <th>kw_avg_max_max_positive_polarity</th>                  <td> 2.119e-07</td> <td> 1.59e-07</td> <td>    1.335</td> <td> 0.182</td> <td>-9.93e-08</td> <td> 5.23e-07</td>\n",
       "</tr>\n",
       "<tr>\n",
       "  <th>kw_avg_max_saturday</th>                               <td>  -4.4e-07</td> <td> 1.49e-07</td> <td>   -2.951</td> <td> 0.003</td> <td>-7.32e-07</td> <td>-1.48e-07</td>\n",
       "</tr>\n",
       "<tr>\n",
       "  <th>kw_min_avg_LDA_00</th>                                 <td>  3.36e-05</td> <td> 2.29e-05</td> <td>    1.466</td> <td> 0.143</td> <td>-1.13e-05</td> <td> 7.85e-05</td>\n",
       "</tr>\n",
       "<tr>\n",
       "  <th>kw_min_avg_business</th>                               <td>  6.45e-06</td> <td> 1.68e-05</td> <td>    0.384</td> <td> 0.701</td> <td>-2.64e-05</td> <td> 3.93e-05</td>\n",
       "</tr>\n",
       "<tr>\n",
       "  <th>kw_min_avg_is_weekend</th>                             <td>-5.085e-05</td> <td> 1.14e-05</td> <td>   -4.444</td> <td> 0.000</td> <td>-7.33e-05</td> <td>-2.84e-05</td>\n",
       "</tr>\n",
       "<tr>\n",
       "  <th>kw_max_avg_self_ref_avg_shares</th>                    <td> -3.34e-11</td> <td> 2.76e-11</td> <td>   -1.209</td> <td> 0.227</td> <td>-8.75e-11</td> <td> 2.07e-11</td>\n",
       "</tr>\n",
       "<tr>\n",
       "  <th>kw_max_avg_friday</th>                                 <td> 4.099e-06</td> <td> 4.54e-06</td> <td>    0.903</td> <td> 0.367</td> <td> -4.8e-06</td> <td>  1.3e-05</td>\n",
       "</tr>\n",
       "<tr>\n",
       "  <th>kw_max_avg_has_img</th>                                <td> -1.09e-05</td> <td> 3.04e-06</td> <td>   -3.581</td> <td> 0.000</td> <td>-1.69e-05</td> <td>-4.93e-06</td>\n",
       "</tr>\n",
       "<tr>\n",
       "  <th>kw_max_avg_has_video</th>                              <td>-2.514e-06</td> <td> 1.69e-06</td> <td>   -1.486</td> <td> 0.137</td> <td>-5.83e-06</td> <td> 8.02e-07</td>\n",
       "</tr>\n",
       "<tr>\n",
       "  <th>kw_avg_avg_self_ref_avg_shares</th>                    <td> 2.299e-10</td> <td> 1.97e-10</td> <td>    1.164</td> <td> 0.244</td> <td>-1.57e-10</td> <td> 6.17e-10</td>\n",
       "</tr>\n",
       "<tr>\n",
       "  <th>kw_avg_avg_max_positive_polarity</th>                  <td> 8.463e-06</td> <td> 1.67e-05</td> <td>    0.508</td> <td> 0.612</td> <td>-2.42e-05</td> <td> 4.11e-05</td>\n",
       "</tr>\n",
       "<tr>\n",
       "  <th>kw_avg_avg_friday</th>                                 <td> -3.14e-05</td> <td> 1.67e-05</td> <td>   -1.877</td> <td> 0.061</td> <td>-6.42e-05</td> <td> 1.39e-06</td>\n",
       "</tr>\n",
       "<tr>\n",
       "  <th>self_ref_avg_shares_entertainment</th>                 <td> 5.436e-06</td> <td> 9.25e-07</td> <td>    5.880</td> <td> 0.000</td> <td> 3.62e-06</td> <td> 7.25e-06</td>\n",
       "</tr>\n",
       "<tr>\n",
       "  <th>LDA_00_global_rate_positive_words</th>                 <td>    3.7671</td> <td>    1.197</td> <td>    3.148</td> <td> 0.002</td> <td>    1.422</td> <td>    6.112</td>\n",
       "</tr>\n",
       "<tr>\n",
       "  <th>LDA_00_global_rate_negative_words</th>                 <td>    5.2509</td> <td>    2.074</td> <td>    2.532</td> <td> 0.011</td> <td>    1.186</td> <td>    9.316</td>\n",
       "</tr>\n",
       "<tr>\n",
       "  <th>LDA_00_min_positive_polarity</th>                      <td>   -0.2559</td> <td>    0.296</td> <td>   -0.865</td> <td> 0.387</td> <td>   -0.836</td> <td>    0.324</td>\n",
       "</tr>\n",
       "<tr>\n",
       "  <th>LDA_01_global_sentiment_polarity</th>                  <td>    0.7243</td> <td>    0.216</td> <td>    3.359</td> <td> 0.001</td> <td>    0.302</td> <td>    1.147</td>\n",
       "</tr>\n",
       "<tr>\n",
       "  <th>LDA_01_entertainment</th>                              <td>    0.1727</td> <td>    0.059</td> <td>    2.952</td> <td> 0.003</td> <td>    0.058</td> <td>    0.287</td>\n",
       "</tr>\n",
       "<tr>\n",
       "  <th>LDA_01_social_media</th>                               <td>   -0.6289</td> <td>    0.160</td> <td>   -3.922</td> <td> 0.000</td> <td>   -0.943</td> <td>   -0.315</td>\n",
       "</tr>\n",
       "<tr>\n",
       "  <th>LDA_02_rate_positive_words</th>                        <td>   -2.5040</td> <td>    1.060</td> <td>   -2.363</td> <td> 0.018</td> <td>   -4.581</td> <td>   -0.427</td>\n",
       "</tr>\n",
       "<tr>\n",
       "  <th>LDA_02_rate_negative_words</th>                        <td>   -2.2996</td> <td>    1.085</td> <td>   -2.120</td> <td> 0.034</td> <td>   -4.426</td> <td>   -0.174</td>\n",
       "</tr>\n",
       "<tr>\n",
       "  <th>LDA_02_min_negative_polarity</th>                      <td>   -0.1101</td> <td>    0.106</td> <td>   -1.038</td> <td> 0.299</td> <td>   -0.318</td> <td>    0.098</td>\n",
       "</tr>\n",
       "<tr>\n",
       "  <th>LDA_02_world</th>                                      <td>   -0.3260</td> <td>    0.067</td> <td>   -4.833</td> <td> 0.000</td> <td>   -0.458</td> <td>   -0.194</td>\n",
       "</tr>\n",
       "<tr>\n",
       "  <th>LDA_03_max_positive_polarity</th>                      <td>    0.1705</td> <td>    0.081</td> <td>    2.106</td> <td> 0.035</td> <td>    0.012</td> <td>    0.329</td>\n",
       "</tr>\n",
       "<tr>\n",
       "  <th>LDA_03_social_media</th>                               <td>   -0.1118</td> <td>    0.098</td> <td>   -1.143</td> <td> 0.253</td> <td>   -0.304</td> <td>    0.080</td>\n",
       "</tr>\n",
       "<tr>\n",
       "  <th>LDA_03_world</th>                                      <td>    0.0376</td> <td>    0.095</td> <td>    0.397</td> <td> 0.692</td> <td>   -0.148</td> <td>    0.223</td>\n",
       "</tr>\n",
       "<tr>\n",
       "  <th>LDA_04_global_sentiment_polarity</th>                  <td>    0.1069</td> <td>    0.279</td> <td>    0.383</td> <td> 0.702</td> <td>   -0.440</td> <td>    0.654</td>\n",
       "</tr>\n",
       "<tr>\n",
       "  <th>LDA_04_max_negative_polarity</th>                      <td>    0.3043</td> <td>    0.250</td> <td>    1.219</td> <td> 0.223</td> <td>   -0.185</td> <td>    0.793</td>\n",
       "</tr>\n",
       "<tr>\n",
       "  <th>global_subjectivity_social_media</th>                  <td>   -0.3546</td> <td>    0.232</td> <td>   -1.528</td> <td> 0.126</td> <td>   -0.809</td> <td>    0.100</td>\n",
       "</tr>\n",
       "<tr>\n",
       "  <th>global_sentiment_polarity_abs_title_subjectivity</th>  <td>   -0.2467</td> <td>    0.314</td> <td>   -0.786</td> <td> 0.432</td> <td>   -0.862</td> <td>    0.369</td>\n",
       "</tr>\n",
       "<tr>\n",
       "  <th>global_sentiment_polarity_social_media</th>            <td>   -0.1632</td> <td>    0.235</td> <td>   -0.696</td> <td> 0.486</td> <td>   -0.623</td> <td>    0.297</td>\n",
       "</tr>\n",
       "<tr>\n",
       "  <th>global_sentiment_polarity_tech</th>                    <td>   -0.1401</td> <td>    0.257</td> <td>   -0.544</td> <td> 0.586</td> <td>   -0.645</td> <td>    0.364</td>\n",
       "</tr>\n",
       "<tr>\n",
       "  <th>global_sentiment_polarity_world</th>                   <td>    0.2100</td> <td>    0.217</td> <td>    0.966</td> <td> 0.334</td> <td>   -0.216</td> <td>    0.636</td>\n",
       "</tr>\n",
       "<tr>\n",
       "  <th>global_rate_positive_words_abs_title_subjectivity</th> <td>    4.2035</td> <td>    1.966</td> <td>    2.138</td> <td> 0.033</td> <td>    0.350</td> <td>    8.057</td>\n",
       "</tr>\n",
       "<tr>\n",
       "  <th>global_rate_positive_words_world</th>                  <td>    1.7851</td> <td>    1.089</td> <td>    1.639</td> <td> 0.101</td> <td>   -0.349</td> <td>    3.919</td>\n",
       "</tr>\n",
       "<tr>\n",
       "  <th>global_rate_positive_words_has_img</th>                <td>    3.4486</td> <td>    0.728</td> <td>    4.736</td> <td> 0.000</td> <td>    2.021</td> <td>    4.876</td>\n",
       "</tr>\n",
       "<tr>\n",
       "  <th>global_rate_negative_words_abs_title_subjectivity</th> <td>   -6.0656</td> <td>    3.080</td> <td>   -1.970</td> <td> 0.049</td> <td>  -12.101</td> <td>   -0.030</td>\n",
       "</tr>\n",
       "<tr>\n",
       "  <th>rate_positive_words_abs_title_subjectivity</th>        <td>    0.2157</td> <td>    0.117</td> <td>    1.843</td> <td> 0.065</td> <td>   -0.014</td> <td>    0.445</td>\n",
       "</tr>\n",
       "<tr>\n",
       "  <th>rate_positive_words_tech</th>                          <td>    8.5753</td> <td>    5.711</td> <td>    1.501</td> <td> 0.133</td> <td>   -2.619</td> <td>   19.769</td>\n",
       "</tr>\n",
       "<tr>\n",
       "  <th>rate_positive_words_world</th>                         <td>   12.0844</td> <td>    6.164</td> <td>    1.961</td> <td> 0.050</td> <td>    0.003</td> <td>   24.166</td>\n",
       "</tr>\n",
       "<tr>\n",
       "  <th>rate_negative_words_abs_title_subjectivity</th>        <td>   -0.1707</td> <td>    0.169</td> <td>   -1.008</td> <td> 0.313</td> <td>   -0.503</td> <td>    0.161</td>\n",
       "</tr>\n",
       "<tr>\n",
       "  <th>rate_negative_words_tech</th>                          <td>    8.6473</td> <td>    5.733</td> <td>    1.508</td> <td> 0.131</td> <td>   -2.589</td> <td>   19.883</td>\n",
       "</tr>\n",
       "<tr>\n",
       "  <th>rate_negative_words_world</th>                         <td>   11.9192</td> <td>    6.171</td> <td>    1.932</td> <td> 0.053</td> <td>   -0.175</td> <td>   24.014</td>\n",
       "</tr>\n",
       "<tr>\n",
       "  <th>min_positive_polarity_entertainment</th>               <td>    0.3553</td> <td>    0.190</td> <td>    1.873</td> <td> 0.061</td> <td>   -0.016</td> <td>    0.727</td>\n",
       "</tr>\n",
       "<tr>\n",
       "  <th>min_positive_polarity_social_media</th>                <td>   -1.2285</td> <td>    0.279</td> <td>   -4.398</td> <td> 0.000</td> <td>   -1.776</td> <td>   -0.681</td>\n",
       "</tr>\n",
       "<tr>\n",
       "  <th>max_positive_polarity_social_media</th>                <td>   -0.0696</td> <td>    0.102</td> <td>   -0.683</td> <td> 0.495</td> <td>   -0.269</td> <td>    0.130</td>\n",
       "</tr>\n",
       "<tr>\n",
       "  <th>max_positive_polarity_has_img</th>                     <td>   -0.2238</td> <td>    0.046</td> <td>   -4.861</td> <td> 0.000</td> <td>   -0.314</td> <td>   -0.134</td>\n",
       "</tr>\n",
       "<tr>\n",
       "  <th>min_negative_polarity_business</th>                    <td>   -0.0590</td> <td>    0.053</td> <td>   -1.105</td> <td> 0.269</td> <td>   -0.164</td> <td>    0.046</td>\n",
       "</tr>\n",
       "<tr>\n",
       "  <th>min_negative_polarity_world</th>                       <td>    0.1515</td> <td>    0.077</td> <td>    1.964</td> <td> 0.050</td> <td>    0.000</td> <td>    0.303</td>\n",
       "</tr>\n",
       "<tr>\n",
       "  <th>min_negative_polarity_has_img</th>                     <td>    0.1223</td> <td>    0.040</td> <td>    3.081</td> <td> 0.002</td> <td>    0.044</td> <td>    0.200</td>\n",
       "</tr>\n",
       "<tr>\n",
       "  <th>max_negative_polarity_tech</th>                        <td>    0.2043</td> <td>    0.211</td> <td>    0.967</td> <td> 0.334</td> <td>   -0.210</td> <td>    0.618</td>\n",
       "</tr>\n",
       "<tr>\n",
       "  <th>entertainment_sunday</th>                              <td>    0.1130</td> <td>    0.063</td> <td>    1.780</td> <td> 0.075</td> <td>   -0.011</td> <td>    0.237</td>\n",
       "</tr>\n",
       "<tr>\n",
       "  <th>entertainment_is_weekend</th>                          <td>    0.0786</td> <td>    0.050</td> <td>    1.584</td> <td> 0.113</td> <td>   -0.019</td> <td>    0.176</td>\n",
       "</tr>\n",
       "<tr>\n",
       "  <th>business_has_video</th>                                <td>    0.0672</td> <td>    0.030</td> <td>    2.274</td> <td> 0.023</td> <td>    0.009</td> <td>    0.125</td>\n",
       "</tr>\n",
       "<tr>\n",
       "  <th>social_media_has_video</th>                            <td>   -0.1008</td> <td>    0.043</td> <td>   -2.340</td> <td> 0.019</td> <td>   -0.185</td> <td>   -0.016</td>\n",
       "</tr>\n",
       "<tr>\n",
       "  <th>world_has_img</th>                                     <td>    0.0307</td> <td>    0.037</td> <td>    0.830</td> <td> 0.407</td> <td>   -0.042</td> <td>    0.103</td>\n",
       "</tr>\n",
       "<tr>\n",
       "  <th>n_tokens_title_rate_non_stop_unique_tokens</th>        <td>    0.0036</td> <td>    0.009</td> <td>    0.424</td> <td> 0.671</td> <td>   -0.013</td> <td>    0.020</td>\n",
       "</tr>\n",
       "<tr>\n",
       "  <th>n_tokens_title_kw_min_max</th>                         <td> -7.39e-09</td> <td> 3.81e-08</td> <td>   -0.194</td> <td> 0.846</td> <td> -8.2e-08</td> <td> 6.73e-08</td>\n",
       "</tr>\n",
       "<tr>\n",
       "  <th>n_tokens_title_LDA_00</th>                             <td>   -0.0218</td> <td>    0.009</td> <td>   -2.412</td> <td> 0.016</td> <td>   -0.040</td> <td>   -0.004</td>\n",
       "</tr>\n",
       "<tr>\n",
       "  <th>n_tokens_title_LDA_02</th>                             <td>    0.0067</td> <td>    0.008</td> <td>    0.819</td> <td> 0.413</td> <td>   -0.009</td> <td>    0.023</td>\n",
       "</tr>\n",
       "<tr>\n",
       "  <th>n_tokens_title_LDA_04</th>                             <td>   -0.0074</td> <td>    0.008</td> <td>   -0.920</td> <td> 0.358</td> <td>   -0.023</td> <td>    0.008</td>\n",
       "</tr>\n",
       "</table>\n",
       "<table class=\"simpletable\">\n",
       "<tr>\n",
       "  <th>Omnibus:</th>       <td>7184.673</td> <th>  Durbin-Watson:     </th> <td>   1.954</td> \n",
       "</tr>\n",
       "<tr>\n",
       "  <th>Prob(Omnibus):</th>  <td> 0.000</td>  <th>  Jarque-Bera (JB):  </th> <td>19750.927</td>\n",
       "</tr>\n",
       "<tr>\n",
       "  <th>Skew:</th>           <td> 0.976</td>  <th>  Prob(JB):          </th> <td>    0.00</td> \n",
       "</tr>\n",
       "<tr>\n",
       "  <th>Kurtosis:</th>       <td> 5.855</td>  <th>  Cond. No.          </th> <td>1.02e+16</td> \n",
       "</tr>\n",
       "</table><br/><br/>Warnings:<br/>[1] Standard Errors assume that the covariance matrix of the errors is correctly specified.<br/>[2] The condition number is large, 1.02e+16. This might indicate that there are<br/>strong multicollinearity or other numerical problems."
      ],
      "text/plain": [
       "<class 'statsmodels.iolib.summary.Summary'>\n",
       "\"\"\"\n",
       "                            OLS Regression Results                            \n",
       "==============================================================================\n",
       "Dep. Variable:             log_shares   R-squared:                       0.152\n",
       "Model:                            OLS   Adj. R-squared:                  0.149\n",
       "Method:                 Least Squares   F-statistic:                     48.66\n",
       "Date:                Wed, 06 May 2020   Prob (F-statistic):               0.00\n",
       "Time:                        13:33:49   Log-Likelihood:                -50117.\n",
       "No. Observations:               39644   AIC:                         1.005e+05\n",
       "Df Residuals:                   39497   BIC:                         1.018e+05\n",
       "Df Model:                         146                                         \n",
       "Covariance Type:            nonrobust                                         \n",
       "=====================================================================================================================\n",
       "                                                        coef    std err          t      P>|t|      [0.025      0.975]\n",
       "---------------------------------------------------------------------------------------------------------------------\n",
       "Intercept                                            10.9499      0.968     11.306      0.000       9.052      12.848\n",
       "n_tokens_content                                      0.0002   8.69e-05      2.688      0.007    6.33e-05       0.000\n",
       "rate_unique_tokens                                    0.8454      0.269      3.145      0.002       0.319       1.372\n",
       "rate_non_stop_unique_tokens                          -0.5703      0.241     -2.363      0.018      -1.043      -0.097\n",
       "num_links                                             0.0083      0.002      3.442      0.001       0.004       0.013\n",
       "num_self_links                                       -0.1049      0.027     -3.899      0.000      -0.158      -0.052\n",
       "average_token_length                                 -0.1894      0.076     -2.481      0.013      -0.339      -0.040\n",
       "kw_max_min                                        -9.561e-06   6.95e-06     -1.375      0.169   -2.32e-05    4.07e-06\n",
       "kw_avg_min                                         8.292e-05   4.27e-05      1.944      0.052   -6.78e-07       0.000\n",
       "kw_min_max                                        -1.631e-06   6.06e-07     -2.689      0.007   -2.82e-06   -4.42e-07\n",
       "kw_avg_max                                        -1.594e-06   2.19e-07     -7.285      0.000   -2.02e-06   -1.17e-06\n",
       "kw_min_avg                                        -5.004e-05    6.8e-06     -7.357      0.000   -6.34e-05   -3.67e-05\n",
       "kw_max_avg                                        -6.262e-05   6.31e-06     -9.930      0.000    -7.5e-05   -5.03e-05\n",
       "kw_avg_avg                                            0.0003   2.16e-05     12.195      0.000       0.000       0.000\n",
       "self_ref_avg_shares                                2.788e-06   6.24e-07      4.466      0.000    1.56e-06    4.01e-06\n",
       "LDA_00                                               -1.9396      0.978     -1.982      0.047      -3.857      -0.022\n",
       "LDA_01                                               -3.3037      0.911     -3.627      0.000      -5.089      -1.519\n",
       "LDA_03                                               -3.3077      0.935     -3.538      0.000      -5.140      -1.475\n",
       "LDA_04                                               -2.6489      0.893     -2.965      0.003      -4.400      -0.898\n",
       "global_rate_positive_words                           -5.1297      0.891     -5.755      0.000      -6.877      -3.383\n",
       "global_rate_negative_words                           -5.4678      1.948     -2.806      0.005      -9.287      -1.649\n",
       "avg_positive_polarity                                -1.4282      0.814     -1.755      0.079      -3.023       0.167\n",
       "min_positive_polarity                                -0.1542      0.125     -1.236      0.216      -0.399       0.090\n",
       "title_subjectivity                                    0.0699      0.020      3.427      0.001       0.030       0.110\n",
       "title_sentiment_polarity                              0.0850      0.019      4.532      0.000       0.048       0.122\n",
       "abs_title_sentiment_polarity                          0.0282      0.030      0.953      0.341      -0.030       0.086\n",
       "entertainment                                        -0.2120      0.084     -2.524      0.012      -0.377      -0.047\n",
       "business                                             -0.1361      0.044     -3.084      0.002      -0.223      -0.050\n",
       "social_media                                          0.5977      0.123      4.860      0.000       0.357       0.839\n",
       "tech                                                 -8.4139      5.715     -1.472      0.141     -19.616       2.788\n",
       "world                                               -10.9812      6.138     -1.789      0.074     -23.012       1.050\n",
       "tuesday                                              -0.0664      0.015     -4.563      0.000      -0.095      -0.038\n",
       "wednesday                                            -0.1265      0.020     -6.291      0.000      -0.166      -0.087\n",
       "thursday                                             -0.0719      0.016     -4.446      0.000      -0.104      -0.040\n",
       "friday                                                0.1131      0.039      2.873      0.004       0.036       0.190\n",
       "saturday                                              0.1805      0.028      6.351      0.000       0.125       0.236\n",
       "sunday                                                0.0299      0.020      1.483      0.138      -0.010       0.069\n",
       "is_weekend                                            0.2104      0.018     11.684      0.000       0.175       0.246\n",
       "has_img                                              -0.1804      0.059     -3.056      0.002      -0.296      -0.065\n",
       "has_video                                             0.0233      0.050      0.463      0.643      -0.075       0.122\n",
       "average_token_length_world                           -0.1999      0.079     -2.515      0.012      -0.356      -0.044\n",
       "kw_avg_avg_has_img                                 8.483e-05   1.55e-05      5.483      0.000    5.45e-05       0.000\n",
       "LDA_00_social_media                                   0.3887      0.089      4.382      0.000       0.215       0.563\n",
       "n_tokens_title_n_tokens_content                   -1.146e-05   4.52e-06     -2.539      0.011   -2.03e-05   -2.61e-06\n",
       "n_tokens_title_num_links                             -0.0004      0.000     -1.946      0.052      -0.001    3.13e-06\n",
       "n_tokens_title_num_self_links                        -0.0017      0.001     -2.719      0.007      -0.003      -0.000\n",
       "n_tokens_title_kw_avg_max                          8.201e-08   1.63e-08      5.022      0.000       5e-08    1.14e-07\n",
       "n_tokens_title_has_video                              0.0098      0.005      2.151      0.031       0.001       0.019\n",
       "n_tokens_content_rate_unique_tokens                  -0.0014      0.000     -4.605      0.000      -0.002      -0.001\n",
       "n_tokens_content_rate_non_stop_unique_tokens          0.0007      0.000      2.925      0.003       0.000       0.001\n",
       "n_tokens_content_num_keywords                       2.09e-06   5.18e-06      0.403      0.687   -8.07e-06    1.22e-05\n",
       "n_tokens_content_LDA_00                            9.831e-05   7.26e-05      1.353      0.176   -4.41e-05       0.000\n",
       "n_tokens_content_min_positive_polarity               -0.0005      0.000     -1.682      0.093      -0.001     7.5e-05\n",
       "n_tokens_content_business                          5.479e-05   4.99e-05      1.098      0.272    -4.3e-05       0.000\n",
       "n_tokens_content_tech                              7.165e-05   2.85e-05      2.512      0.012    1.57e-05       0.000\n",
       "n_tokens_content_wednesday                            0.0001   2.55e-05      4.364      0.000    6.14e-05       0.000\n",
       "rate_unique_tokens_num_keywords                      -0.0529      0.027     -1.929      0.054      -0.107       0.001\n",
       "rate_unique_tokens_LDA_00                             0.1616      0.295      0.547      0.584      -0.417       0.740\n",
       "rate_unique_tokens_LDA_01                             0.4389      0.296      1.481      0.139      -0.142       1.020\n",
       "rate_unique_tokens_entertainment                     -0.1930      0.150     -1.290      0.197      -0.486       0.100\n",
       "rate_non_stop_unique_tokens_num_keywords             -0.0227      0.023     -0.968      0.333      -0.069       0.023\n",
       "rate_non_stop_unique_tokens_LDA_01                    0.3418      0.199      1.715      0.086      -0.049       0.732\n",
       "rate_non_stop_unique_tokens_LDA_03                    0.1826      0.118      1.553      0.120      -0.048       0.413\n",
       "rate_non_stop_unique_tokens_max_positive_polarity     0.0704      0.085      0.826      0.409      -0.097       0.237\n",
       "num_links_kw_avg_max                               3.825e-09   3.51e-09      1.091      0.275   -3.05e-09    1.07e-08\n",
       "num_links_business                                    0.0032      0.002      1.886      0.059      -0.000       0.007\n",
       "num_links_social_media                               -0.0087      0.001     -6.031      0.000      -0.012      -0.006\n",
       "num_self_links_average_token_length                   0.0246      0.005      4.507      0.000       0.014       0.035\n",
       "average_token_length_LDA_00                          -0.2080      0.074     -2.820      0.005      -0.353      -0.063\n",
       "average_token_length_LDA_02                          -0.1003      0.119     -0.846      0.397      -0.333       0.132\n",
       "average_token_length_LDA_03                           0.0659      0.064      1.035      0.301      -0.059       0.191\n",
       "average_token_length_avg_positive_polarity            0.3363      0.171      1.971      0.049       0.002       0.671\n",
       "num_keywords_kw_max_avg                            3.865e-06   5.65e-07      6.839      0.000    2.76e-06    4.97e-06\n",
       "num_keywords_global_sentiment_polarity               -0.0357      0.019     -1.897      0.058      -0.073       0.001\n",
       "num_keywords_global_rate_negative_words               0.8211      0.250      3.286      0.001       0.331       1.311\n",
       "num_keywords_min_negative_polarity                   -0.0241      0.005     -4.558      0.000      -0.034      -0.014\n",
       "kw_max_min_max_negative_polarity                   1.997e-08   4.68e-05      0.000      1.000   -9.17e-05    9.17e-05\n",
       "kw_max_min_friday                                  2.276e-05   1.17e-05      1.941      0.052   -2.26e-07    4.58e-05\n",
       "kw_avg_min_self_ref_avg_shares                    -6.365e-10   1.94e-10     -3.283      0.001   -1.02e-09   -2.56e-10\n",
       "kw_avg_min_max_negative_polarity                      0.0001      0.000      0.534      0.593      -0.000       0.001\n",
       "kw_avg_min_thursday                                5.266e-05    2.2e-05      2.394      0.017    9.54e-06    9.58e-05\n",
       "kw_avg_min_friday                                    -0.0002   5.78e-05     -2.967      0.003      -0.000   -5.82e-05\n",
       "kw_min_max_kw_max_avg                             -1.104e-10   3.37e-11     -3.279      0.001   -1.76e-10   -4.44e-11\n",
       "kw_min_max_kw_avg_avg                              5.117e-10   1.58e-10      3.235      0.001    2.02e-10    8.22e-10\n",
       "kw_avg_max_self_ref_avg_shares                    -4.051e-12   1.49e-12     -2.726      0.006   -6.96e-12   -1.14e-12\n",
       "kw_avg_max_LDA_00                                  3.289e-07    1.4e-07      2.355      0.019    5.51e-08    6.03e-07\n",
       "kw_avg_max_LDA_01                                 -6.016e-07   2.04e-07     -2.945      0.003      -1e-06   -2.01e-07\n",
       "kw_avg_max_max_positive_polarity                   2.119e-07   1.59e-07      1.335      0.182   -9.93e-08    5.23e-07\n",
       "kw_avg_max_saturday                                 -4.4e-07   1.49e-07     -2.951      0.003   -7.32e-07   -1.48e-07\n",
       "kw_min_avg_LDA_00                                   3.36e-05   2.29e-05      1.466      0.143   -1.13e-05    7.85e-05\n",
       "kw_min_avg_business                                 6.45e-06   1.68e-05      0.384      0.701   -2.64e-05    3.93e-05\n",
       "kw_min_avg_is_weekend                             -5.085e-05   1.14e-05     -4.444      0.000   -7.33e-05   -2.84e-05\n",
       "kw_max_avg_self_ref_avg_shares                     -3.34e-11   2.76e-11     -1.209      0.227   -8.75e-11    2.07e-11\n",
       "kw_max_avg_friday                                  4.099e-06   4.54e-06      0.903      0.367    -4.8e-06     1.3e-05\n",
       "kw_max_avg_has_img                                 -1.09e-05   3.04e-06     -3.581      0.000   -1.69e-05   -4.93e-06\n",
       "kw_max_avg_has_video                              -2.514e-06   1.69e-06     -1.486      0.137   -5.83e-06    8.02e-07\n",
       "kw_avg_avg_self_ref_avg_shares                     2.299e-10   1.97e-10      1.164      0.244   -1.57e-10    6.17e-10\n",
       "kw_avg_avg_max_positive_polarity                   8.463e-06   1.67e-05      0.508      0.612   -2.42e-05    4.11e-05\n",
       "kw_avg_avg_friday                                  -3.14e-05   1.67e-05     -1.877      0.061   -6.42e-05    1.39e-06\n",
       "self_ref_avg_shares_entertainment                  5.436e-06   9.25e-07      5.880      0.000    3.62e-06    7.25e-06\n",
       "LDA_00_global_rate_positive_words                     3.7671      1.197      3.148      0.002       1.422       6.112\n",
       "LDA_00_global_rate_negative_words                     5.2509      2.074      2.532      0.011       1.186       9.316\n",
       "LDA_00_min_positive_polarity                         -0.2559      0.296     -0.865      0.387      -0.836       0.324\n",
       "LDA_01_global_sentiment_polarity                      0.7243      0.216      3.359      0.001       0.302       1.147\n",
       "LDA_01_entertainment                                  0.1727      0.059      2.952      0.003       0.058       0.287\n",
       "LDA_01_social_media                                  -0.6289      0.160     -3.922      0.000      -0.943      -0.315\n",
       "LDA_02_rate_positive_words                           -2.5040      1.060     -2.363      0.018      -4.581      -0.427\n",
       "LDA_02_rate_negative_words                           -2.2996      1.085     -2.120      0.034      -4.426      -0.174\n",
       "LDA_02_min_negative_polarity                         -0.1101      0.106     -1.038      0.299      -0.318       0.098\n",
       "LDA_02_world                                         -0.3260      0.067     -4.833      0.000      -0.458      -0.194\n",
       "LDA_03_max_positive_polarity                          0.1705      0.081      2.106      0.035       0.012       0.329\n",
       "LDA_03_social_media                                  -0.1118      0.098     -1.143      0.253      -0.304       0.080\n",
       "LDA_03_world                                          0.0376      0.095      0.397      0.692      -0.148       0.223\n",
       "LDA_04_global_sentiment_polarity                      0.1069      0.279      0.383      0.702      -0.440       0.654\n",
       "LDA_04_max_negative_polarity                          0.3043      0.250      1.219      0.223      -0.185       0.793\n",
       "global_subjectivity_social_media                     -0.3546      0.232     -1.528      0.126      -0.809       0.100\n",
       "global_sentiment_polarity_abs_title_subjectivity     -0.2467      0.314     -0.786      0.432      -0.862       0.369\n",
       "global_sentiment_polarity_social_media               -0.1632      0.235     -0.696      0.486      -0.623       0.297\n",
       "global_sentiment_polarity_tech                       -0.1401      0.257     -0.544      0.586      -0.645       0.364\n",
       "global_sentiment_polarity_world                       0.2100      0.217      0.966      0.334      -0.216       0.636\n",
       "global_rate_positive_words_abs_title_subjectivity     4.2035      1.966      2.138      0.033       0.350       8.057\n",
       "global_rate_positive_words_world                      1.7851      1.089      1.639      0.101      -0.349       3.919\n",
       "global_rate_positive_words_has_img                    3.4486      0.728      4.736      0.000       2.021       4.876\n",
       "global_rate_negative_words_abs_title_subjectivity    -6.0656      3.080     -1.970      0.049     -12.101      -0.030\n",
       "rate_positive_words_abs_title_subjectivity            0.2157      0.117      1.843      0.065      -0.014       0.445\n",
       "rate_positive_words_tech                              8.5753      5.711      1.501      0.133      -2.619      19.769\n",
       "rate_positive_words_world                            12.0844      6.164      1.961      0.050       0.003      24.166\n",
       "rate_negative_words_abs_title_subjectivity           -0.1707      0.169     -1.008      0.313      -0.503       0.161\n",
       "rate_negative_words_tech                              8.6473      5.733      1.508      0.131      -2.589      19.883\n",
       "rate_negative_words_world                            11.9192      6.171      1.932      0.053      -0.175      24.014\n",
       "min_positive_polarity_entertainment                   0.3553      0.190      1.873      0.061      -0.016       0.727\n",
       "min_positive_polarity_social_media                   -1.2285      0.279     -4.398      0.000      -1.776      -0.681\n",
       "max_positive_polarity_social_media                   -0.0696      0.102     -0.683      0.495      -0.269       0.130\n",
       "max_positive_polarity_has_img                        -0.2238      0.046     -4.861      0.000      -0.314      -0.134\n",
       "min_negative_polarity_business                       -0.0590      0.053     -1.105      0.269      -0.164       0.046\n",
       "min_negative_polarity_world                           0.1515      0.077      1.964      0.050       0.000       0.303\n",
       "min_negative_polarity_has_img                         0.1223      0.040      3.081      0.002       0.044       0.200\n",
       "max_negative_polarity_tech                            0.2043      0.211      0.967      0.334      -0.210       0.618\n",
       "entertainment_sunday                                  0.1130      0.063      1.780      0.075      -0.011       0.237\n",
       "entertainment_is_weekend                              0.0786      0.050      1.584      0.113      -0.019       0.176\n",
       "business_has_video                                    0.0672      0.030      2.274      0.023       0.009       0.125\n",
       "social_media_has_video                               -0.1008      0.043     -2.340      0.019      -0.185      -0.016\n",
       "world_has_img                                         0.0307      0.037      0.830      0.407      -0.042       0.103\n",
       "n_tokens_title_rate_non_stop_unique_tokens            0.0036      0.009      0.424      0.671      -0.013       0.020\n",
       "n_tokens_title_kw_min_max                          -7.39e-09   3.81e-08     -0.194      0.846    -8.2e-08    6.73e-08\n",
       "n_tokens_title_LDA_00                                -0.0218      0.009     -2.412      0.016      -0.040      -0.004\n",
       "n_tokens_title_LDA_02                                 0.0067      0.008      0.819      0.413      -0.009       0.023\n",
       "n_tokens_title_LDA_04                                -0.0074      0.008     -0.920      0.358      -0.023       0.008\n",
       "==============================================================================\n",
       "Omnibus:                     7184.673   Durbin-Watson:                   1.954\n",
       "Prob(Omnibus):                  0.000   Jarque-Bera (JB):            19750.927\n",
       "Skew:                           0.976   Prob(JB):                         0.00\n",
       "Kurtosis:                       5.855   Cond. No.                     1.02e+16\n",
       "==============================================================================\n",
       "\n",
       "Warnings:\n",
       "[1] Standard Errors assume that the covariance matrix of the errors is correctly specified.\n",
       "[2] The condition number is large, 1.02e+16. This might indicate that there are\n",
       "strong multicollinearity or other numerical problems.\n",
       "\"\"\""
      ]
     },
     "execution_count": 199,
     "metadata": {},
     "output_type": "execute_result"
    }
   ],
   "source": [
    "f_list2 = list(final_target.columns)\n",
    "f_list2.remove('log_shares')\n",
    "f_list2.remove('n_tokens_title')\n",
    "f_list2.remove('num_keywords')\n",
    "f_list2.remove('LDA_02')\n",
    "f_list2.remove('global_subjectivity')\n",
    "f_list2.remove('global_sentiment_polarity')\n",
    "f_list2.remove('rate_positive_words')\n",
    "\n",
    "f_list2.remove('rate_negative_words')\n",
    "f_list2.remove('max_positive_polarity')\n",
    "f_list2.remove('avg_negative_polarity')\n",
    "f_list2.remove('min_negative_polarity')\n",
    "f_list2.remove('max_negative_polarity')\n",
    "f_list2.remove('abs_title_subjectivity')\n",
    "\n",
    "f_list2.remove('avg_positive_polarity_social_media')\n",
    "f_list2.remove('n_tokens_title_rate_unique_tokens')\n",
    "f_list2.remove('n_tokens_content_LDA_02')\n",
    "f_list2.remove('n_tokens_content_LDA_04')\n",
    "f_list2.remove('rate_non_stop_unique_tokens_LDA_00')\n",
    "f_list2.remove('rate_non_stop_unique_tokens_has_img')\n",
    "\n",
    "f_list2.remove('average_token_length_global_subjectivity')\n",
    "f_list2.remove('num_keywords_rate_positive_words')\n",
    "f_list2.remove('num_keywords_rate_negative_words')\n",
    "f_list2.remove('kw_min_avg_has_img')\n",
    "f_list2.remove('kw_avg_avg_has_video')\n",
    "f_list2.remove('LDA_00_min_negative_polarity')\n",
    "\n",
    "\n",
    "col_list = '+'.join(f_list2)\n",
    "f = 'log_shares~' + col_list\n",
    "model = ols(formula=f, data=final_target).fit()\n",
    "model.summary()"
   ]
  },
  {
   "cell_type": "code",
   "execution_count": null,
   "metadata": {},
   "outputs": [],
   "source": []
  }
 ],
 "metadata": {
  "kernelspec": {
   "display_name": "Python [conda env:learn-env] *",
   "language": "python",
   "name": "conda-env-learn-env-py"
  },
  "language_info": {
   "codemirror_mode": {
    "name": "ipython",
    "version": 3
   },
   "file_extension": ".py",
   "mimetype": "text/x-python",
   "name": "python",
   "nbconvert_exporter": "python",
   "pygments_lexer": "ipython3",
   "version": "3.6.9"
  }
 },
 "nbformat": 4,
 "nbformat_minor": 2
}
